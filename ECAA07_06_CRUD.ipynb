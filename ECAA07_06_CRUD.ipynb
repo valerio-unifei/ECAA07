{
  "nbformat": 4,
  "nbformat_minor": 0,
  "metadata": {
    "colab": {
      "name": "ECAA07 06 CRUD.ipynb",
      "provenance": [],
      "collapsed_sections": [],
      "authorship_tag": "ABX9TyOaqDlWZgr6dPxioSt5/dkz",
      "include_colab_link": true
    },
    "kernelspec": {
      "name": "python3",
      "display_name": "Python 3"
    },
    "language_info": {
      "name": "python"
    }
  },
  "cells": [
    {
      "cell_type": "markdown",
      "metadata": {
        "id": "view-in-github",
        "colab_type": "text"
      },
      "source": [
        "<a href=\"https://colab.research.google.com/github/valerio-unifei/ECAA07/blob/main/ECAA07_06_CRUD.ipynb\" target=\"_parent\"><img src=\"https://colab.research.google.com/assets/colab-badge.svg\" alt=\"Open In Colab\"/></a>"
      ]
    },
    {
      "cell_type": "markdown",
      "metadata": {
        "id": "J9a8sCeWNox5"
      },
      "source": [
        "#CRUD Rest API"
      ]
    },
    {
      "cell_type": "markdown",
      "metadata": {
        "id": "DWRYZxkLkLG2"
      },
      "source": [
        "## Instalando bibliotecas"
      ]
    },
    {
      "cell_type": "code",
      "metadata": {
        "id": "9XTE3lLHkN38"
      },
      "source": [
        "!pip install fastapi nest-asyncio pyngrok uvicorn"
      ],
      "execution_count": null,
      "outputs": []
    },
    {
      "cell_type": "markdown",
      "metadata": {
        "id": "xrGumAUnm_L7"
      },
      "source": [
        "## Criando banco de dados"
      ]
    },
    {
      "cell_type": "code",
      "metadata": {
        "id": "tvOFMgN4m-jF"
      },
      "source": [
        "import sqlite3\n",
        "import pandas as pd\n",
        "\n",
        "banco = 'ecaa07_crud.db'\n",
        "conn = sqlite3.connect(banco)\n",
        "\n",
        "c = conn.cursor()\n",
        "\n",
        "# criando tabela de alunos\n",
        "c.execute('''\n",
        "CREATE TABLE IF NOT EXISTS alunos (\n",
        "  aluno_id INTEGER PRIMARY KEY AUTOINCREMENT,\n",
        "  aluno varchar(255) NOT NULL,\n",
        "  matricula INT\n",
        ");\n",
        "''')\n",
        "\n",
        "# criando tabela de notas\n",
        "c.execute('''\n",
        "CREATE TABLE IF NOT EXISTS notas (\n",
        "  nota_id INTEGER PRIMARY KEY AUTOINCREMENT,\n",
        "  aluno_id INTEGER REFERENCES alunos(aluno_id) ON DELETE CASCADE,\n",
        "  nota REAL NOT NULL\n",
        ");\n",
        "''')\n",
        "\n",
        "# visualizando tabelas criadas\n",
        "print('Tabela alunos:')\n",
        "display(pd.read_sql_query('SELECT * FROM alunos', con = conn))\n",
        "print('Tabela notas:')\n",
        "display(pd.read_sql_query('SELECT * FROM notas', con = conn))\n",
        "\n",
        "conn.close()"
      ],
      "execution_count": null,
      "outputs": []
    },
    {
      "cell_type": "markdown",
      "metadata": {
        "id": "tWJwMAq6kXL1"
      },
      "source": [
        "## Inicializando Aplicação Rest API"
      ]
    },
    {
      "cell_type": "code",
      "metadata": {
        "id": "ERJY68gvkhnu"
      },
      "source": [
        "from fastapi import FastAPI # cria o serviço de Rest API\n",
        "from fastapi.responses import JSONResponse # converte valores para JSON\n",
        "\n",
        "app = FastAPI()\n",
        "\n",
        "@app.get('/')\n",
        "def home():\n",
        "  return 'ECAA07 Web Rest API'"
      ],
      "execution_count": 28,
      "outputs": []
    },
    {
      "cell_type": "markdown",
      "metadata": {
        "id": "pf1iWk1i3SCn"
      },
      "source": [
        "### Listando Tabelas"
      ]
    },
    {
      "cell_type": "code",
      "metadata": {
        "id": "gKd_6fk63VJP"
      },
      "source": [
        "@app.get('/alunos')\n",
        "def alunos():\n",
        "  conn = sqlite3.connect(banco)\n",
        "  c = conn.cursor()\n",
        "  c.execute('SELECT * FROM alunos ORDER BY matricula')\n",
        "  tabela = c.fetchall() # retorna registros da consulta\n",
        "  conn.close()\n",
        "  return JSONResponse(tabela)\n",
        "\n",
        "@app.get('/notas')\n",
        "def notas():\n",
        "  conn = sqlite3.connect(banco)\n",
        "  c = conn.cursor()\n",
        "  c.execute('SELECT n.nota_id, a.aluno_id, a.aluno, a.matricula, n.nota FROM alunos as a INNER JOIN notas as n ON a.aluno_id = n.aluno_id ORDER BY a.matricula')\n",
        "  tabela = c.fetchall() # retorna registros da consulta\n",
        "  conn.close()\n",
        "  return JSONResponse(tabela)"
      ],
      "execution_count": 29,
      "outputs": []
    },
    {
      "cell_type": "markdown",
      "metadata": {
        "id": "Luyr_2WV3X1z"
      },
      "source": [
        "### Inserindo Alunos e Notas"
      ]
    },
    {
      "cell_type": "code",
      "metadata": {
        "id": "4l03CjH-3Z30"
      },
      "source": [
        "@app.post('/notas/')\n",
        "def insert_notas(aluno:str, matricula:int, notas:str):\n",
        "  conn = sqlite3.connect(banco)\n",
        "  c = conn.cursor()\n",
        "  c.execute('INSERT INTO alunos (aluno, matricula) VALUES (?,?)',[aluno, matricula])\n",
        "  aluno_id = c.lastrowid # última chave primária criada\n",
        "  print('aluno_id =',aluno_id)\n",
        "\n",
        "  linhas = 0\n",
        "  for nota in notas.split():\n",
        "    nota_int = int(nota)\n",
        "    c.execute('INSERT INTO notas (aluno_id, nota) VALUES (?,?)',[aluno_id, nota_int])\n",
        "    linhas += c.rowcount # registro modificados no SQL\n",
        "  \n",
        "  conn.commit()\n",
        "  conn.close()\n",
        "  print('linhas =',linhas)\n",
        "\n",
        "  if linhas > 0:\n",
        "    return 'Aluno e notas inseridas'\n",
        "  else:\n",
        "    return 'Problema na inserção de notas'"
      ],
      "execution_count": 30,
      "outputs": []
    },
    {
      "cell_type": "markdown",
      "metadata": {
        "id": "jFaX5ebj3clL"
      },
      "source": [
        "### Atualizando e Removendo Notas"
      ]
    },
    {
      "cell_type": "code",
      "metadata": {
        "id": "uw-HJxpl3hiU"
      },
      "source": [
        "@app.delete('/notas/remove/{nota_id}')\n",
        "def delete_notas(nota_id:int):\n",
        "  conn = sqlite3.connect(banco)\n",
        "  c = conn.cursor()\n",
        "  c.execute('DELETE FROM notas WHERE nota_id = ?',[nota_id])\n",
        "  apagados = c.rowcount # registro alterados no SQL\n",
        "\n",
        "  conn.commit()\n",
        "  conn.close()\n",
        "\n",
        "  if apagados > 0:\n",
        "    return 'Nota Removida'\n",
        "  else:\n",
        "    return 'Nota não encontrada'\n",
        "\n",
        "@app.post('/notas/atualiza/')\n",
        "def update_notas(nota_id:int, nota:int):\n",
        "  conn = sqlite3.connect(banco)\n",
        "  c = conn.cursor()\n",
        "  c.execute('UPDATE notas SET nota = ? WHERE nota_id = ?',[nota, nota_id])\n",
        "  atualizados = c.rowcount # registro alterados no SQL\n",
        "\n",
        "  conn.commit()\n",
        "  conn.close()\n",
        "\n",
        "  if atualizados > 0:\n",
        "    return 'Nota Atualizada'\n",
        "  else:\n",
        "    return 'Nota não encontrada'"
      ],
      "execution_count": 31,
      "outputs": []
    },
    {
      "cell_type": "markdown",
      "metadata": {
        "id": "ymDTfwjmnHNk"
      },
      "source": [
        "## Ativando serviço Rest API"
      ]
    },
    {
      "cell_type": "markdown",
      "metadata": {
        "id": "3JZNqaQv3pZG"
      },
      "source": [
        "Para acessar o serviço vá no link que aparecerá na execução:\n",
        "\n",
        "*Abra no navegador: http://###-###-###.ngrok.io/docs*\n",
        "\n",
        "**Este bloco de código não irá parar de executar, pois senão o serviço cairá.**\n",
        "\n",
        "Presssione o PLAY (>) novamente para parar."
      ]
    },
    {
      "cell_type": "code",
      "metadata": {
        "id": "mOQ5_kqQnLfB"
      },
      "source": [
        "import nest_asyncio #permite execução de servidor em loop no Colab\n",
        "from pyngrok import ngrok #dá um nome de DNS real para a aplicação\n",
        "import uvicorn #gestor de aplicação web \n",
        "\n",
        "ngrok_tunnel = ngrok.connect(8000)\n",
        "print()\n",
        "print('Abra no navegador:', ngrok_tunnel.public_url + '/docs')\n",
        "print()\n",
        "nest_asyncio.apply()\n",
        "uvicorn.run(app, port=8000)"
      ],
      "execution_count": null,
      "outputs": []
    }
  ]
}