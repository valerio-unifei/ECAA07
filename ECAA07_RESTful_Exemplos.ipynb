{
  "nbformat": 4,
  "nbformat_minor": 0,
  "metadata": {
    "colab": {
      "provenance": [],
      "authorship_tag": "ABX9TyMd67lPM+PBKTDrnO4X303q",
      "include_colab_link": true
    },
    "kernelspec": {
      "name": "python3",
      "display_name": "Python 3"
    },
    "language_info": {
      "name": "python"
    }
  },
  "cells": [
    {
      "cell_type": "markdown",
      "metadata": {
        "id": "view-in-github",
        "colab_type": "text"
      },
      "source": [
        "<a href=\"https://colab.research.google.com/github/valerio-unifei/ECAA07/blob/main/ECAA07_RESTful_Exemplos.ipynb\" target=\"_parent\"><img src=\"https://colab.research.google.com/assets/colab-badge.svg\" alt=\"Open In Colab\"/></a>"
      ]
    },
    {
      "cell_type": "markdown",
      "source": [
        "# Acesso a uma RESTful API"
      ],
      "metadata": {
        "id": "7Nbklpk0pt-P"
      }
    },
    {
      "cell_type": "markdown",
      "source": [
        "Aqui está um exemplo básico de como você pode escrever um código em Python para acessar uma REST API de uma loja de departamentos.\n",
        "\n",
        "Certifique-se de ter a biblioteca requests instalada. Você pode instalá-la usando o seguinte comando:"
      ],
      "metadata": {
        "id": "pYTOqphvp8z_"
      }
    },
    {
      "cell_type": "code",
      "execution_count": null,
      "metadata": {
        "id": "m6JAxjoJpaBj"
      },
      "outputs": [],
      "source": [
        "!pip install requests"
      ]
    },
    {
      "cell_type": "markdown",
      "source": [
        "Neste exemplo, vou supor que a API fornece informações sobre produtos disponíveis na loja."
      ],
      "metadata": {
        "id": "59g4rAKXp4FG"
      }
    },
    {
      "cell_type": "code",
      "source": [
        "import requests\n",
        "\n",
        "# URL base da API da loja de departamentos\n",
        "base_url = \"https://api.lojadepartamentos.com\"\n",
        "\n",
        "# Função para obter a lista de produtos da API\n",
        "def get_product_list():\n",
        "    url = f\"{base_url}/products\"\n",
        "    response = requests.get(url)\n",
        "\n",
        "    if response.status_code == 200:\n",
        "        return response.json()\n",
        "    else:\n",
        "        print(f\"Failed to retrieve product list. Status code: {response.status_code}\")\n",
        "        return None\n",
        "\n",
        "# Função para obter detalhes de um produto específico\n",
        "def get_product_details(product_id):\n",
        "    url = f\"{base_url}/products/{product_id}\"\n",
        "    response = requests.get(url)\n",
        "\n",
        "    if response.status_code == 200:\n",
        "        return response.json()\n",
        "    else:\n",
        "        print(f\"Failed to retrieve product details. Status code: {response.status_code}\")\n",
        "        return None\n",
        "\n",
        "# Obtendo e exibindo a lista de produtos\n",
        "product_list = get_product_list()\n",
        "if product_list:\n",
        "    print(\"List of Products:\")\n",
        "    for product in product_list:\n",
        "        print(f\"ID: {product['id']}, Name: {product['name']}, Price: {product['price']}\")\n",
        "\n",
        "# Obtendo e exibindo os detalhes de um produto específico\n",
        "product_id = 1  # Substitua pelo ID do produto desejado\n",
        "product_details = get_product_details(product_id)\n",
        "if product_details:\n",
        "    print(\"\\nProduct Details:\")\n",
        "    print(f\"ID: {product_details['id']}\")\n",
        "    print(f\"Name: {product_details['name']}\")\n",
        "    print(f\"Price: {product_details['price']}\")\n",
        "    print(f\"Description: {product_details['description']}\")\n"
      ],
      "metadata": {
        "id": "8PnHBBnOp93m"
      },
      "execution_count": null,
      "outputs": []
    },
    {
      "cell_type": "markdown",
      "source": [
        "# Criar uma RESTFul API para Acesso"
      ],
      "metadata": {
        "id": "9znb-SDPqADu"
      }
    },
    {
      "cell_type": "markdown",
      "source": [
        "Vou fornecer um exemplo básico de como criar uma API usando a biblioteca FastAPI em Python para acessar um banco de dados de uma universidade. Neste exemplo, vou usar o SQLite como banco de dados para simplificar, mas você pode adaptá-lo para o banco de dados de sua escolha.\n",
        "\n",
        "Certifique-se de ter a biblioteca FastAPI e o SQLAlchemy instalados:"
      ],
      "metadata": {
        "id": "QZQ-DsxqqF2f"
      }
    },
    {
      "cell_type": "code",
      "source": [
        "!pip install fastapi[all] sqlalchemy"
      ],
      "metadata": {
        "id": "Bj2ebDo7qb0P"
      },
      "execution_count": null,
      "outputs": []
    },
    {
      "cell_type": "markdown",
      "source": [
        "Aqui está um exemplo de como você pode criar uma API para acessar informações de alunos em um banco de dados:"
      ],
      "metadata": {
        "id": "TCzXjuD4qdQ_"
      }
    },
    {
      "cell_type": "code",
      "source": [
        "from fastapi import FastAPI, HTTPException\n",
        "from sqlalchemy import create_engine, Column, Integer, String\n",
        "from sqlalchemy.ext.declarative import declarative_base\n",
        "from sqlalchemy.orm import sessionmaker\n",
        "\n",
        "app = FastAPI()\n",
        "\n",
        "# Definindo o modelo do aluno usando SQLAlchemy\n",
        "Base = declarative_base()\n",
        "\n",
        "class Student(Base):\n",
        "    __tablename__ = \"students\"\n",
        "\n",
        "    id = Column(Integer, primary_key=True, index=True)\n",
        "    name = Column(String, index=True)\n",
        "    age = Column(Integer)\n",
        "\n",
        "# Configurando o banco de dados SQLite\n",
        "DATABASE_URL = \"sqlite:///./test.db\"\n",
        "engine = create_engine(DATABASE_URL)\n",
        "SessionLocal = sessionmaker(autocommit=False, autoflush=False, bind=engine)\n",
        "\n",
        "# Rota para obter informações de um aluno por ID\n",
        "@app.get(\"/students/{student_id}\")\n",
        "async def get_student(student_id: int):\n",
        "    db = SessionLocal()\n",
        "    student = db.query(Student).filter(Student.id == student_id).first()\n",
        "    db.close()\n",
        "\n",
        "    if student is None:\n",
        "        raise HTTPException(status_code=404, detail=\"Student not found\")\n",
        "\n",
        "    return student\n",
        "\n",
        "# Rota para criar um novo aluno\n",
        "@app.post(\"/students/\")\n",
        "async def create_student(student: Student):\n",
        "    db = SessionLocal()\n",
        "    db.add(student)\n",
        "    db.commit()\n",
        "    db.refresh(student)\n",
        "    db.close()\n",
        "\n",
        "    return student"
      ],
      "metadata": {
        "id": "Q3w0x_dPqfWG"
      },
      "execution_count": null,
      "outputs": []
    },
    {
      "cell_type": "markdown",
      "source": [
        "# Criar uma RESTful API com Acesso Seguro via Token"
      ],
      "metadata": {
        "id": "6eAjoiz7qhRH"
      }
    },
    {
      "cell_type": "markdown",
      "source": [
        "Vou mostrar um exemplo básico de como criar uma API em Python usando o FastAPI e implementar a segurança de acesso via token utilizando tokens JWT (JSON Web Tokens).\n",
        "\n",
        "Certifique-se de ter a biblioteca FastAPI, a biblioteca PyJWT e a biblioteca passlib instaladas:"
      ],
      "metadata": {
        "id": "3HyOTlvvqu5e"
      }
    },
    {
      "cell_type": "code",
      "source": [
        "!pip install fastapi[all] pyjwt passlib"
      ],
      "metadata": {
        "id": "2dPPLFbZquln"
      },
      "execution_count": null,
      "outputs": []
    },
    {
      "cell_type": "markdown",
      "source": [
        "Aqui está um exemplo de como você pode criar uma API segura com autenticação por token JWT:"
      ],
      "metadata": {
        "id": "76L1EXcTqy_-"
      }
    },
    {
      "cell_type": "code",
      "source": [
        "from fastapi import FastAPI, Depends, HTTPException\n",
        "from fastapi.security import OAuth2PasswordBearer\n",
        "from passlib.context import CryptContext\n",
        "from jose import JWTError, jwt\n",
        "from datetime import datetime, timedelta\n",
        "\n",
        "app = FastAPI()\n",
        "\n",
        "# Configuração básica\n",
        "SECRET_KEY = \"your-secret-key\"\n",
        "ALGORITHM = \"HS256\"\n",
        "ACCESS_TOKEN_EXPIRE_MINUTES = 30\n",
        "\n",
        "# Simulando um banco de dados de usuários\n",
        "fake_users_db = {\n",
        "    \"testuser\": {\n",
        "        \"username\": \"testuser\",\n",
        "        \"password\": \"$2b$12$SNXlOkoUdAeYSIw8NPKw9un2fr8WZRUq51gqtNodTruhUSskF3uDS\",  # Hashed \"testpassword\"\n",
        "    }\n",
        "}\n",
        "\n",
        "class TokenData:\n",
        "    def __init__(self, username: str):\n",
        "        self.username = username\n",
        "\n",
        "class UserInDB:\n",
        "    def __init__(self, **user_data):\n",
        "        self.__dict__.update(user_data)\n",
        "\n",
        "# Funções auxiliares de autenticação\n",
        "pwd_context = CryptContext(schemes=[\"bcrypt\"], deprecated=\"auto\")\n",
        "\n",
        "def verify_password(plain_password, hashed_password):\n",
        "    return pwd_context.verify(plain_password, hashed_password)\n",
        "\n",
        "def get_password_hash(password):\n",
        "    return pwd_context.hash(password)\n",
        "\n",
        "# Funções relacionadas a autenticação via token JWT\n",
        "oauth2_scheme = OAuth2PasswordBearer(tokenUrl=\"token\")\n",
        "\n",
        "def create_access_token(data: dict, expires_delta: timedelta):\n",
        "    to_encode = data.copy()\n",
        "    expire = datetime.utcnow() + expires_delta\n",
        "    to_encode.update({\"exp\": expire})\n",
        "    encoded_jwt = jwt.encode(to_encode, SECRET_KEY, algorithm=ALGORITHM)\n",
        "    return encoded_jwt\n",
        "\n",
        "def decode_token(token: str):\n",
        "    try:\n",
        "        payload = jwt.decode(token, SECRET_KEY, algorithms=[ALGORITHM])\n",
        "        username: str = payload.get(\"sub\")\n",
        "        if username is None:\n",
        "            raise JWTError(\"Subclaim missing\")\n",
        "        token_data = TokenData(username=username)\n",
        "        return token_data\n",
        "    except JWTError:\n",
        "        raise HTTPException(status_code=401, detail=\"Invalid token\")\n",
        "\n",
        "# Rotas\n",
        "@app.post(\"/token\")\n",
        "async def login_for_access_token(username: str, password: str):\n",
        "    user = fake_users_db.get(username)\n",
        "    if user is None or not verify_password(password, user[\"password\"]):\n",
        "        raise HTTPException(status_code=401, detail=\"Invalid credentials\")\n",
        "    access_token_expires = timedelta(minutes=ACCESS_TOKEN_EXPIRE_MINUTES)\n",
        "    access_token = create_access_token(data={\"sub\": username}, expires_delta=access_token_expires)\n",
        "    return {\"access_token\": access_token, \"token_type\": \"bearer\"}\n",
        "\n",
        "@app.get(\"/secure-data\")\n",
        "async def get_secure_data(token: str = Depends(oauth2_scheme)):\n",
        "    token_data = decode_token(token)\n",
        "    user = fake_users_db.get(token_data.username)\n",
        "    if user is None:\n",
        "        raise HTTPException(status_code=401, detail=\"User not found\")\n",
        "    return {\"message\": \"This is secure data!\", \"user\": user}"
      ],
      "metadata": {
        "id": "aiR_6UthqzQO"
      },
      "execution_count": null,
      "outputs": []
    }
  ]
}