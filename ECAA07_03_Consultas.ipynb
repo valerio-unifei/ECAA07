{
  "nbformat": 4,
  "nbformat_minor": 0,
  "metadata": {
    "colab": {
      "name": "ECAA07 - 03 - Consultas.ipynb",
      "provenance": [],
      "authorship_tag": "ABX9TyM+bdFYTM2hx9qq1D+u9WgE",
      "include_colab_link": true
    },
    "kernelspec": {
      "name": "python3",
      "display_name": "Python 3"
    },
    "language_info": {
      "name": "python"
    }
  },
  "cells": [
    {
      "cell_type": "markdown",
      "metadata": {
        "id": "view-in-github",
        "colab_type": "text"
      },
      "source": [
        "<a href=\"https://colab.research.google.com/github/valerio-unifei/ECAA07/blob/main/ECAA07_03_Consultas.ipynb\" target=\"_parent\"><img src=\"https://colab.research.google.com/assets/colab-badge.svg\" alt=\"Open In Colab\"/></a>"
      ]
    },
    {
      "cell_type": "markdown",
      "metadata": {
        "id": "FIQho1tz54A7"
      },
      "source": [
        "# Banco de Dados Exemplo - Chinook.db (SQLite3)"
      ]
    },
    {
      "cell_type": "code",
      "metadata": {
        "id": "gAiv2ReunH56"
      },
      "source": [
        "!wget \"https://github.com/valerio-unifei/ECAA07/raw/main/Bancos/chinook.db\""
      ],
      "execution_count": null,
      "outputs": []
    },
    {
      "cell_type": "markdown",
      "metadata": {
        "id": "UvLxswBu8WYh"
      },
      "source": [
        "# Estrutura do Banco"
      ]
    },
    {
      "cell_type": "markdown",
      "metadata": {
        "id": "7J6dvfzm3G4c"
      },
      "source": [
        "<img src=\"https://www.sqlitetutorial.net/wp-content/uploads/2015/11/sqlite-sample-database-color.jpg\">"
      ]
    },
    {
      "cell_type": "markdown",
      "metadata": {
        "id": "ZW9gVOQW6AZG"
      },
      "source": [
        "# SQLite3 - Consultas"
      ]
    },
    {
      "cell_type": "markdown",
      "metadata": {
        "id": "vz60YA3s6DoH"
      },
      "source": [
        "## Conexão com o Banco de Dados"
      ]
    },
    {
      "cell_type": "code",
      "metadata": {
        "id": "mI3xgHEP5_0X"
      },
      "source": [
        "import sqlite3\n",
        "import pandas as pd\n",
        "\n",
        "conn = sqlite3.connect('chinook.db')"
      ],
      "execution_count": null,
      "outputs": []
    },
    {
      "cell_type": "markdown",
      "metadata": {
        "id": "YvoPbk1n8ZxJ"
      },
      "source": [
        "# Exercícios"
      ]
    },
    {
      "cell_type": "markdown",
      "metadata": {
        "id": "dmpJLsoZ8QrO"
      },
      "source": [
        "## Consulta 1"
      ]
    },
    {
      "cell_type": "code",
      "metadata": {
        "id": "A24JPngSm1Yi"
      },
      "source": [
        "tabelas = pd.read_sql_query(sql='SELECT * FROM sqlite_master WHERE type=\"table\"',con=conn)\n",
        "tabelasSe "
      ],
      "execution_count": null,
      "outputs": []
    },
    {
      "cell_type": "markdown",
      "metadata": {
        "id": "F6uT50M58fjG"
      },
      "source": [
        "## Consulta 2"
      ]
    },
    {
      "cell_type": "code",
      "metadata": {
        "id": "k8hsZ7U_oKiB"
      },
      "source": [
        "consulta = pd.read_sql_query(sql='SELECT * FROM customers',con=conn)\n",
        "print('Registros =',len(consulta))\n",
        "consulta.head()"
      ],
      "execution_count": null,
      "outputs": []
    },
    {
      "cell_type": "markdown",
      "metadata": {
        "id": "Cct06n5v9KxR"
      },
      "source": [
        "## Consulta 3"
      ]
    },
    {
      "cell_type": "code",
      "metadata": {
        "id": "yr7mlEkH_meP"
      },
      "source": [
        "consulta = pd.read_sql_query(sql='SELECT * FROM customers WHERE Fax !=\"None\" ORDER BY FirstName, LastName DESC',con=conn)\n",
        "print('Registros =',len(consulta))\n",
        "consulta.head()"
      ],
      "execution_count": null,
      "outputs": []
    },
    {
      "cell_type": "markdown",
      "metadata": {
        "id": "lEwwhc7Y_6x7"
      },
      "source": [
        "## Consulta 4"
      ]
    },
    {
      "cell_type": "code",
      "metadata": {
        "id": "qnB0ynygofDY"
      },
      "source": [
        "consulta = pd.read_sql_query(\n",
        "    sql= \"\"\"\n",
        "      SELECT \n",
        "          x.Firstname || ' ' || x.LastName as nome,\n",
        "          x.Country as pais,\n",
        "          STRFTIME('%d/%m/%Y',y.InvoiceDate) as data_compra\n",
        "      FROM customers as x INNER JOIN invoices as y ON x.CustomerId = y.CustomerId\n",
        "      \"\"\",\n",
        "      con = conn)\n",
        "print('Registros =',len(consulta))\n",
        "consulta.head(20)"
      ],
      "execution_count": null,
      "outputs": []
    },
    {
      "cell_type": "markdown",
      "metadata": {
        "id": "HQvrbthmCcSj"
      },
      "source": [
        "## Consulta 5"
      ]
    },
    {
      "cell_type": "code",
      "metadata": {
        "id": "Fp23KoSW5DsH"
      },
      "source": [
        "consulta = pd.read_sql_query(\n",
        "    sql= \"\"\"\n",
        "      SELECT \n",
        "          x.Firstname || ' ' || x.LastName as nome,\n",
        "          x.Country as pais,\n",
        "          STRFTIME('%d/%m/%Y',y.InvoiceDate) as data_compra,\n",
        "          z.UnitPrice as preco_unitario,\n",
        "          z.Quantity as quantidade\n",
        "      FROM customers as x INNER JOIN invoices as y ON x.CustomerId = y.CustomerId\n",
        "        INNER JOIN invoice_items as z ON y.InvoiceID = z.InvoiceID\n",
        "      ORDER BY x.Country, y.InvoiceDate DESC\n",
        "      \"\"\",\n",
        "      con = conn)\n",
        "print('Registros =',len(consulta))\n",
        "consulta.head(20)"
      ],
      "execution_count": null,
      "outputs": []
    },
    {
      "cell_type": "markdown",
      "metadata": {
        "id": "cUIEBIMKFYvr"
      },
      "source": [
        "## Consulta 6"
      ]
    },
    {
      "cell_type": "code",
      "metadata": {
        "id": "8BwcGqFU5s2_"
      },
      "source": [
        "consulta = pd.read_sql_query(\n",
        "    sql= \"\"\"\n",
        "      SELECT \n",
        "          x.Firstname || ' ' || x.LastName as nome,\n",
        "          x.Country as pais,\n",
        "          STRFTIME('%d/%m/%Y',y.InvoiceDate) as data_compra,\n",
        "          z.UnitPrice as preco_unitario,\n",
        "          z.Quantity as quantidade,\n",
        "          t.Name as faixa_nome,\n",
        "          a.Title as album_nome,\n",
        "          b.Name as artista,\n",
        "          m.Name as formato_media\n",
        "      FROM customers as x INNER JOIN invoices as y ON x.CustomerId = y.CustomerId\n",
        "        INNER JOIN invoice_items as z ON y.InvoiceID = z.InvoiceID\n",
        "        INNER JOIN tracks as t ON z.TrackId = t.TrackId\n",
        "        INNER JOIN albums as a ON t.AlbumId = a.AlbumId\n",
        "        INNER JOIN artists as b ON a.ArtistId = b.ArtistId\n",
        "        INNER JOIN media_types as m ON t.MediaTypeId = m.MediaTypeId\n",
        "    WHERE b.Name LIKE '%&%' and x.Country = 'Canada'\n",
        "    ORDER BY data_compra DESC, nome\n",
        "      \"\"\",\n",
        "      con = conn)\n",
        "print('Registros =',len(consulta))\n",
        "consulta.head(20)"
      ],
      "execution_count": null,
      "outputs": []
    },
    {
      "cell_type": "markdown",
      "metadata": {
        "id": "U6TnarBTH6aF"
      },
      "source": [
        "## Consulta 7"
      ]
    },
    {
      "cell_type": "code",
      "metadata": {
        "id": "AMD1aAYBJ-Kx"
      },
      "source": [
        "consulta = pd.read_sql_query(\n",
        "    sql= \"\"\"\n",
        "      SELECT \n",
        "          x.Country as pais,\n",
        "          COUNT(*) as num_zeca\n",
        "      FROM customers as x INNER JOIN invoices as y ON x.CustomerId = y.CustomerId\n",
        "        INNER JOIN invoice_items as z ON y.InvoiceID = z.InvoiceID\n",
        "        INNER JOIN tracks as t ON z.TrackId = t.TrackId\n",
        "        INNER JOIN albums as a ON t.AlbumId = a.AlbumId\n",
        "        INNER JOIN artists as b ON a.ArtistId = b.ArtistId\n",
        "        INNER JOIN media_types as m ON t.MediaTypeId = m.MediaTypeId\n",
        "      WHERE B.Name = 'Zeca Pagodinho'\n",
        "      GROUP BY x.Country\n",
        "      \"\"\",\n",
        "      con = conn)\n",
        "consulta.head(10)"
      ],
      "execution_count": null,
      "outputs": []
    },
    {
      "cell_type": "markdown",
      "metadata": {
        "id": "8mHnu5c8JNyP"
      },
      "source": [
        "## Consulta 8"
      ]
    },
    {
      "cell_type": "code",
      "metadata": {
        "id": "kbiD-YKKKpmf"
      },
      "source": [
        "consulta = pd.read_sql_query(\n",
        "    sql= \"\"\"\n",
        "      SELECT\n",
        "          a.Title as album_nome,\n",
        "          b.Name as artista,\n",
        "          COUNT(*) as num_faixas\n",
        "      FROM tracks as t INNER JOIN albums as a ON t.AlbumId = a.AlbumId\n",
        "        INNER JOIN artists as b ON a.ArtistId = b.ArtistId\n",
        "        INNER JOIN media_types as m ON t.MediaTypeId = m.MediaTypeId\n",
        "      GROUP BY a.Title, b.Name\n",
        "      ORDER BY num_faixas DESC\n",
        "      LIMIT 10\n",
        "      \"\"\",\n",
        "      con = conn)\n",
        "consulta"
      ],
      "execution_count": null,
      "outputs": []
    },
    {
      "cell_type": "markdown",
      "metadata": {
        "id": "xxZ38fK4KUdB"
      },
      "source": [
        "## Consulta 9"
      ]
    },
    {
      "cell_type": "code",
      "metadata": {
        "id": "fETui4iPKT72"
      },
      "source": [
        "consulta = pd.read_sql_query(\n",
        "    sql= \"\"\"\n",
        "      SELECT \n",
        "          a.Title as album_nome,\n",
        "          b.Name as artista,\n",
        "          SUM(z.UnitPrice * z.Quantity) as valor,\n",
        "          COUNT(*) as quantidade\n",
        "      FROM customers as x INNER JOIN invoices as y ON x.CustomerId = y.CustomerId\n",
        "        INNER JOIN invoice_items as z ON y.InvoiceID = z.InvoiceID\n",
        "        INNER JOIN tracks as t ON z.TrackId = t.TrackId\n",
        "        INNER JOIN albums as a ON t.AlbumId = a.AlbumId\n",
        "        INNER JOIN artists as b ON a.ArtistId = b.ArtistId\n",
        "        INNER JOIN media_types as m ON t.MediaTypeId = m.MediaTypeId\n",
        "      GROUP BY a.Title, b.Name\n",
        "      ORDER BY valor desc\n",
        "      LIMIT 10\n",
        "      \"\"\",\n",
        "      con = conn)\n",
        "consulta"
      ],
      "execution_count": null,
      "outputs": []
    }
  ]
}