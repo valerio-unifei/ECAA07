{
  "nbformat": 4,
  "nbformat_minor": 0,
  "metadata": {
    "colab": {
      "provenance": [],
      "authorship_tag": "ABX9TyMvf1+vhWGXI84qchshztxE",
      "include_colab_link": true
    },
    "kernelspec": {
      "name": "python3",
      "display_name": "Python 3"
    },
    "language_info": {
      "name": "python"
    }
  },
  "cells": [
    {
      "cell_type": "markdown",
      "metadata": {
        "id": "view-in-github",
        "colab_type": "text"
      },
      "source": [
        "<a href=\"https://colab.research.google.com/github/valerio-unifei/ECAA07/blob/main/ECAA07_07_NoSQL_Basico.ipynb\" target=\"_parent\"><img src=\"https://colab.research.google.com/assets/colab-badge.svg\" alt=\"Open In Colab\"/></a>"
      ]
    },
    {
      "cell_type": "markdown",
      "source": [
        "# JSON"
      ],
      "metadata": {
        "id": "OFZA4s83ccgJ"
      }
    },
    {
      "cell_type": "markdown",
      "source": [
        "JSON é um acrônimo de JavaScript Object Notation, é um formato compacto, de padrão aberto independente, de troca de dados simples e rápida entre sistemas, especificado por Douglas Crockford em 2000.\n",
        "\n",
        "Representa uma alternativa simplificada para o XML e adotado pela maioria dos sistemas de API para a troca de dados.\n",
        "\n",
        "Vantagens do JSON sobre o XML:\n",
        "- Não é uma linguagem de marcação. Não possui tags de abertura e de fechamento;\n",
        "- Representa as informações de forma mais compacta;\n",
        "- Não permite a execução de instruções de processamento, enquanto é possível em XML.\n",
        "\n",
        "**Formato XML:**\n",
        "\n",
        "```\n",
        "<menu id=\"file\" value=\"File\">\n",
        "  <popup>\n",
        "    <menuitem value=\"New\" onclick=\"CreateNewDoc()\" />\n",
        "    <menuitem value=\"Open\" onclick=\"OpenDoc()\" />\n",
        "    <menuitem value=\"Close\" onclick=\"CloseDoc()\" />\n",
        "  </popup>\n",
        "</menu>\n",
        "```\n",
        "\n",
        "**Formato JSON:**\n",
        "\n",
        "```\n",
        "{\"menu\":{\n",
        "    \"id\": \"file\",\n",
        "    \"value\": \"File\",\n",
        "    \"popup\":{\n",
        "       \"menuitem\": [\n",
        "       {\"value\": \"New\", \"onclick\": \"CreateNewDoc()\"},\n",
        "       {\"value\": \"Open\", \"onclick\": \"OpenDoc()\"},\n",
        "       {\"value\": \"Close\", \"onclick\": \"CloseDoc()\"}\n",
        "      ]\n",
        "    }\n",
        "}}\n",
        "```\n",
        "\n",
        "Exemplo para troca de dados:\n",
        "\n",
        "```\n",
        "{\"Alunos\":[\n",
        "     { \"nome\": \"Edson Sales Arantes\", \"notas\": [ 8, 9, 5 ]  },\n",
        "     { \"nome\": \"Luiz Livelli \", \"notas\": [ 8, 10, 7 ] },\n",
        "     { \"nome\": \"Caique Caicedo De Plata\", \"notas\": [ 10, 10, 9 ] }\n",
        "]}\n",
        "```"
      ],
      "metadata": {
        "id": "CKZBOK8ncqEv"
      }
    },
    {
      "cell_type": "code",
      "source": [
        "# Exemplo de coleta de dados via Rest API com JSON\n",
        "import requests\n",
        "resposta = requests.get('https://api.covid19api.com/summary')\n",
        "resposta.text"
      ],
      "metadata": {
        "id": "16N5cEyJdGb9"
      },
      "execution_count": null,
      "outputs": []
    },
    {
      "cell_type": "code",
      "source": [
        "# Convertendo JSON para Dicionário em Python\n",
        "import json\n",
        "covid19 = json.loads(resposta.text)\n",
        "for pais in covid19['Countries'][:10]:\n",
        "  print(pais)"
      ],
      "metadata": {
        "id": "hHKpydG8eB1p"
      },
      "execution_count": null,
      "outputs": []
    },
    {
      "cell_type": "markdown",
      "source": [
        "# Instalando o MongoDB no Ubuntu do Colab"
      ],
      "metadata": {
        "id": "VDVNuVdFnMLM"
      }
    },
    {
      "cell_type": "markdown",
      "source": [
        "O MongoDB é um banco de dados orientado a documentos que possui código aberto (open source) e foi projetado para armazenar uma grande escala de dados, além de permitir que se trabalhe de forma eficiente com grandes volumes.\n",
        "\n",
        "Ele é categorizado no banco de dados NoSQL (not only SQL) pois o armazenamento e a recuperação de dados no MongoDB não são feitas no formato de tabelas.\n",
        "\n",
        "https://www.mongodb.com/"
      ],
      "metadata": {
        "id": "P2nlasVIJQnh"
      }
    },
    {
      "cell_type": "code",
      "execution_count": null,
      "metadata": {
        "id": "DcAKBHvfnBDZ"
      },
      "outputs": [],
      "source": [
        "!apt install mongodb >log\n",
        "!service mongodb start"
      ]
    },
    {
      "cell_type": "markdown",
      "source": [
        "# Conectando no MongoDB\n",
        "\n"
      ],
      "metadata": {
        "id": "KQU4-hZNnx65"
      }
    },
    {
      "cell_type": "code",
      "source": [
        "from pymongo import MongoClient\n",
        "\n",
        "# conectando ao MongoDB Local\n",
        "client = MongoClient()\n",
        "#client = MongoClient(host='mongodb://localhost:27017')\n",
        "\n",
        "# Listando os Bancos de Dados existentes\n",
        "print('Bancos: ',client.list_database_names())"
      ],
      "metadata": {
        "id": "tMB8kD-hn2CE"
      },
      "execution_count": null,
      "outputs": []
    },
    {
      "cell_type": "markdown",
      "source": [
        "| SQL      | MongoDB    |\n",
        "|----------|------------|\n",
        "| database | database   |\n",
        "| table    | collection |\n",
        "| record   | object     |\n",
        "| field    | -          |"
      ],
      "metadata": {
        "id": "JcyhPtkeswwR"
      }
    },
    {
      "cell_type": "markdown",
      "source": [
        "## Criando Banco de Dados"
      ],
      "metadata": {
        "id": "ThOWlw4Er2xO"
      }
    },
    {
      "cell_type": "code",
      "source": [
        "db = client.get_database('ecaa07')\n",
        "\n",
        "print('Só será criado quando conter objetos nas coleções:',db.name)\n",
        "print('Bancos: ',client.list_database_names())"
      ],
      "metadata": {
        "id": "lZb7i6Tqr-wr"
      },
      "execution_count": null,
      "outputs": []
    },
    {
      "cell_type": "markdown",
      "source": [
        "## Criando Coleção"
      ],
      "metadata": {
        "id": "9kqpBObQsuUM"
      }
    },
    {
      "cell_type": "code",
      "source": [
        "col = db.get_collection('medidas')\n",
        "\n",
        "print('Só será criado quando conter objetos:',col.name)"
      ],
      "metadata": {
        "id": "mOCD199_tqCA"
      },
      "execution_count": null,
      "outputs": []
    },
    {
      "cell_type": "markdown",
      "source": [
        "# Simulando a geração de medidas em IoT"
      ],
      "metadata": {
        "id": "DBd-wnQz09z5"
      }
    },
    {
      "cell_type": "code",
      "source": [
        "import random\n",
        "import string\n",
        "import datetime\n",
        "\n",
        "# proteção para inserção múltipla\n",
        "inseridos = False\n",
        "\n",
        "# semente para os geradores aleatórios\n",
        "random.seed(int(input('Forneça sua matrícula: ')))\n",
        "\n",
        "# lista de letras maiusculas e números\n",
        "letras = string.ascii_uppercase + string.digits\n",
        "\n",
        "# gerando dispositivos e sensores  com texto aleatório\n",
        "dispositivos = []\n",
        "for _ in range(random.randint(2,4)):\n",
        "  # nome do dispositivo aleatório\n",
        "  nome_dispositivo = ''.join(random.choice(letras) for i in range(7))\n",
        "  # sensores do dispositivo\n",
        "  sensores = []\n",
        "  for _ in range(random.randint(4,10)):\n",
        "      # nome do sensor aleatório\n",
        "      nome_sensor = ''.join(random.choice(letras) for i in range(5))\n",
        "      tipo = random.choice(['booleano','float','int','texto'])\n",
        "      sensores.append({'sensor':nome_sensor,'tipo':tipo})\n",
        "  #adiciondo dispositivo\n",
        "  dispositivos.append({'dispositivo':nome_dispositivo,'sensores':sensores})\n",
        "print(f'Dispositivos ({len(dispositivos)}):')\n",
        "for d in dispositivos:\n",
        "  print('   ',d)\n",
        "\n",
        "# gerando instantes de medição\n",
        "instantes = []\n",
        "inicio = datetime.datetime(2022,random.randint(1,5),random.randint(1,28))\n",
        "for i in range(random.randint(30000,40000)):\n",
        "  inicio += datetime.timedelta(seconds=1)\n",
        "  instantes.append(inicio)\n",
        "\n",
        "# gerando medidas\n",
        "medidas = []\n",
        "for instante in instantes:\n",
        "  for dispositivo in dispositivos:\n",
        "    # gerando valores nos sensores\n",
        "    valores = []\n",
        "    for sensor in dispositivo['sensores']:\n",
        "      if sensor['tipo'] == 'booleano':\n",
        "        valores.append(random.choice([False,True]))\n",
        "      elif sensor['tipo'] == 'float':\n",
        "        valores.append(round(random.random()*200.0-100.0,2))\n",
        "      elif sensor['tipo'] == 'int':\n",
        "        valores.append(random.randint(-100,100))\n",
        "      elif sensor['tipo'] == 'texto':\n",
        "        valores.append(''.join(random.choice(letras) for i in range(3)))\n",
        "    # inserindo medidas\n",
        "    medida = {\n",
        "        'dispositivo':dispositivo['dispositivo'],\n",
        "        'instante':instante,\n",
        "        }\n",
        "    for s, v in zip(dispositivo['sensores'],valores):\n",
        "      medida[s['sensor']] = v\n",
        "    medidas.append(medida)\n",
        "# medições obtidas\n",
        "print(f'Medições ({len(medidas)}):')\n",
        "for m in medidas[:10]:\n",
        "  print('   ',m)"
      ],
      "metadata": {
        "id": "i8BUg51X1DjL"
      },
      "execution_count": null,
      "outputs": []
    },
    {
      "cell_type": "code",
      "source": [
        "import json\n",
        "with open('medidas.json', 'w') as file:\n",
        "  json.dump(medidas, file, indent=3, sort_keys=True, default=str)\n",
        "\n",
        "with open('medidas.json', 'r') as file:\n",
        "  for _ in range(20):\n",
        "    print(file.readline(),end='')"
      ],
      "metadata": {
        "id": "RueKF6YsxbwB"
      },
      "execution_count": null,
      "outputs": []
    },
    {
      "cell_type": "markdown",
      "source": [
        "## Inserindo no MongoDB"
      ],
      "metadata": {
        "id": "E3YNe1QWM2uO"
      }
    },
    {
      "cell_type": "code",
      "source": [
        "if not inseridos:\n",
        "\n",
        "  res = col.insert_many(medidas)\n",
        "  print('Sucesso:',res.acknowledged,', inseridos:',len(res.inserted_ids))\n",
        "\n",
        "  inseridos = True\n",
        "else:\n",
        "  print('Já foi inserido')"
      ],
      "metadata": {
        "id": "YPeRqDUfM5qI"
      },
      "execution_count": null,
      "outputs": []
    },
    {
      "cell_type": "code",
      "source": [
        "print('Bancos: ',client.list_database_names())\n",
        "print('Banco:',db.name,'Coleções: ',db.list_collection_names())"
      ],
      "metadata": {
        "id": "mziRL06UQmb1"
      },
      "execution_count": null,
      "outputs": []
    },
    {
      "cell_type": "markdown",
      "source": [
        "# Consultas no MongoDB"
      ],
      "metadata": {
        "id": "6MqpH0dmPQBk"
      }
    },
    {
      "cell_type": "markdown",
      "source": [
        "https://www.mongodb.com/docs/manual/reference/sql-comparison/"
      ],
      "metadata": {
        "id": "ZoC0vcQQvgfp"
      }
    },
    {
      "cell_type": "code",
      "source": [
        "%%time\n",
        "# SELECT * FROM <col> WHERE dispositivo = '<nome>'\n",
        "query = {'dispositivo': dispositivos[0]['dispositivo']}\n",
        "print('Query:',query)\n",
        "\n",
        "col.count_documents(query)"
      ],
      "metadata": {
        "id": "jHBguvk4Qkin"
      },
      "execution_count": null,
      "outputs": []
    },
    {
      "cell_type": "code",
      "source": [
        "%%time\n",
        "col.count_documents(query)"
      ],
      "metadata": {
        "id": "Bjxby5Qi2wvr"
      },
      "execution_count": null,
      "outputs": []
    },
    {
      "cell_type": "code",
      "source": [
        "%%time\n",
        "from datetime import datetime\n",
        "# SELECT * FROM <col> WHERE instante >= '2022-01-01 00:08:01' and instante < '2022-02-01 00:09:01'\n",
        "query = {'instante':\n",
        "         {'$gte':datetime(2022,1,21,0,8,1),\n",
        "          '$lt':datetime(2022,1,21,0,9,1)},\n",
        "         }\n",
        "print('Query:',query)\n",
        "\n",
        "col.count_documents(query)"
      ],
      "metadata": {
        "id": "OW22p1DTZWVe"
      },
      "execution_count": null,
      "outputs": []
    },
    {
      "cell_type": "markdown",
      "source": [
        "## Criando um Índice na Coleção"
      ],
      "metadata": {
        "id": "klj4hxzW0sPG"
      }
    },
    {
      "cell_type": "code",
      "source": [
        "idx_dispositivo = col.create_index('dispositivo')\n",
        "idx_dispositivo"
      ],
      "metadata": {
        "id": "zQkgYmxm26QC"
      },
      "execution_count": null,
      "outputs": []
    },
    {
      "cell_type": "code",
      "source": [
        "col.drop_index(idx_dispositivo)"
      ],
      "metadata": {
        "id": "XM370dFlYvbn"
      },
      "execution_count": null,
      "outputs": []
    },
    {
      "cell_type": "code",
      "source": [
        "%%time\n",
        "col.count_documents({'dispositivo':nome_dispositivo})"
      ],
      "metadata": {
        "id": "C3ExINDR3BuC"
      },
      "execution_count": null,
      "outputs": []
    },
    {
      "cell_type": "markdown",
      "source": [
        "## Faixa de Valores"
      ],
      "metadata": {
        "id": "tR7GzI_c5Aky"
      }
    },
    {
      "cell_type": "code",
      "source": [
        "%%time\n",
        "from datetime import datetime\n",
        "# SELECT * FROM <col> WHERE instante >= '2022-01-01 00:08:01' and instante < '2022-02-01 00:09:01'\n",
        "query = {'instante':\n",
        "         {'$gte':datetime(2022,1,21,0,8,1),\n",
        "          '$lt':datetime(2022,1,21,0,9,1)}}\n",
        "print('Objetos:', col.count_documents(query))\n",
        "for item in col.find(query):\n",
        "  print(item)\n",
        "  break"
      ],
      "metadata": {
        "id": "MPdN4lD15NiM"
      },
      "execution_count": null,
      "outputs": []
    },
    {
      "cell_type": "code",
      "source": [
        "%%time\n",
        "col.count_documents(query)"
      ],
      "metadata": {
        "id": "4HgsntI-Yh60"
      },
      "execution_count": null,
      "outputs": []
    },
    {
      "cell_type": "code",
      "source": [
        "idx_instante = col.create_index('instante')\n",
        "idx_instante"
      ],
      "metadata": {
        "id": "5y3zRrcd5HJK"
      },
      "execution_count": null,
      "outputs": []
    },
    {
      "cell_type": "code",
      "source": [
        "col.drop_index(idx_instante)"
      ],
      "metadata": {
        "id": "-_ewFQRTZCcV"
      },
      "execution_count": null,
      "outputs": []
    },
    {
      "cell_type": "code",
      "source": [
        "%%time\n",
        "col.count_documents(query)"
      ],
      "metadata": {
        "id": "gCjqZG_9YWUD"
      },
      "execution_count": null,
      "outputs": []
    },
    {
      "cell_type": "markdown",
      "source": [
        "# Atividades"
      ],
      "metadata": {
        "id": "812W04P29O2d"
      }
    },
    {
      "cell_type": "markdown",
      "source": [
        "Obtenha a média das medidas do 2o dispositivo em um intervalo de 1 hora."
      ],
      "metadata": {
        "id": "m5mpi5Jt9YO_"
      }
    },
    {
      "cell_type": "code",
      "source": [
        "col.aggregate()"
      ],
      "metadata": {
        "id": "qM_y-qze9Xzf"
      },
      "execution_count": null,
      "outputs": []
    },
    {
      "cell_type": "markdown",
      "source": [
        "Crie um banco e uma coleção para armazenar os dados por país da COVID-19 pela Rest API do link:\n",
        "\n",
        "https://api.covid19api.com/summary"
      ],
      "metadata": {
        "id": "n5BPMEJ0V3xr"
      }
    },
    {
      "cell_type": "code",
      "source": [
        "import requests\n",
        "import json\n",
        "#consultando a RestAPI\n",
        "resposta = requests.get('https://api.covid19api.com/summary')\n",
        "# dicionario de dados da resposta json do RestAPI\n",
        "covid19 = json.loads(resposta.text)\n",
        "#criando o banco de dados\n",
        "db = client.get_database('covid-19')\n",
        "#criando coleção\n",
        "col = db.get_collection('countries')\n",
        "#inserindo dados dos paises\n",
        "resp = col.insert_many(covid19['Countries'])\n",
        "print('Sucesso:',resp.acknowledged,', inseridos:',len(resp.inserted_ids))\n",
        "#consultando se foi inserido\n",
        "for objeto in col.find():\n",
        "  print(objeto)"
      ],
      "metadata": {
        "id": "-m2HGihuezUX"
      },
      "execution_count": null,
      "outputs": []
    },
    {
      "cell_type": "code",
      "source": [
        "col.delete_many({})"
      ],
      "metadata": {
        "id": "tN32XjoikrS6"
      },
      "execution_count": null,
      "outputs": []
    }
  ]
}