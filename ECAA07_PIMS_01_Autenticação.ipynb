{
  "nbformat": 4,
  "nbformat_minor": 0,
  "metadata": {
    "colab": {
      "name": "ECAA07 PIMS 01 - Autenticação.ipynb",
      "provenance": [],
      "collapsed_sections": [],
      "authorship_tag": "ABX9TyMJjXIRCsoPo1nWSuygokOX",
      "include_colab_link": true
    },
    "kernelspec": {
      "name": "python3",
      "display_name": "Python 3"
    },
    "language_info": {
      "name": "python"
    }
  },
  "cells": [
    {
      "cell_type": "markdown",
      "metadata": {
        "id": "view-in-github",
        "colab_type": "text"
      },
      "source": [
        "<a href=\"https://colab.research.google.com/github/valerio-unifei/ECAA07/blob/main/ECAA07_PIMS_01_Autentica%C3%A7%C3%A3o.ipynb\" target=\"_parent\"><img src=\"https://colab.research.google.com/assets/colab-badge.svg\" alt=\"Open In Colab\"/></a>"
      ]
    },
    {
      "cell_type": "markdown",
      "metadata": {
        "id": "xIZGHIpSHAIM"
      },
      "source": [
        "# Plant Information Management System (PIMS) - Autenticação"
      ]
    },
    {
      "cell_type": "markdown",
      "metadata": {
        "id": "i75OqgGzHIn8"
      },
      "source": [
        "**Objetivo**\n",
        "\n",
        "Criar sistema de login para um PIMS simples.\n",
        "\n",
        "**Referências**\n",
        "\n",
        "https://www.digitalocean.com/community/tutorials/how-to-add-authentication-to-your-app-with-flask-login-pt"
      ]
    },
    {
      "cell_type": "markdown",
      "metadata": {
        "id": "bwNVdcfAG7Il"
      },
      "source": [
        "## Modelo de Páginas"
      ]
    },
    {
      "cell_type": "code",
      "metadata": {
        "id": "274gkJ-DGK4Q"
      },
      "source": [
        "!wget https://github.com/valerio-unifei/ECAA07/raw/main/Bancos/ECAA07_PIMS_templates.zip\n",
        "!unzip -q ECAA07_PIMS_templates.zip\n",
        "!rm ECAA07_PIMS_templates.zip"
      ],
      "execution_count": null,
      "outputs": []
    },
    {
      "cell_type": "markdown",
      "metadata": {
        "id": "6_W6qhrkHTs7"
      },
      "source": [
        "## Bibliotecas"
      ]
    },
    {
      "cell_type": "markdown",
      "metadata": {
        "id": "lZs3iXg3HXkM"
      },
      "source": [
        "### Instalar"
      ]
    },
    {
      "cell_type": "code",
      "metadata": {
        "id": "5tcpvO3IHW8Y"
      },
      "source": [
        "!pip install flask flask-sqlalchemy flask-login flask_ngrok"
      ],
      "execution_count": null,
      "outputs": []
    },
    {
      "cell_type": "markdown",
      "metadata": {
        "id": "F8Mz0gw9IAmF"
      },
      "source": [
        "### Utilizadas"
      ]
    },
    {
      "cell_type": "code",
      "metadata": {
        "id": "mwPAMVtcICtK"
      },
      "source": [
        "# classe de aplicação web em flask\n",
        "from flask import Flask\n",
        "# utiliza modelos em páginas web\n",
        "from flask import render_template\n",
        "# redireciona o navegador para outra url\n",
        "from flask import redirect\n",
        "# gera a url de uma rota do flask\n",
        "from flask import url_for\n",
        "# coleta as variáveis passadas pelo navegador\n",
        "from flask import request\n",
        "# envia um valor de retorno para o conteúdo da página\n",
        "from flask import flash\n",
        "# gera um hash criptografado de uma senha\n",
        "from werkzeug.security import generate_password_hash\n",
        "# compara hashs de senha atual e gravada\n",
        "from werkzeug.security import check_password_hash\n",
        "# classe getora de banco de dados \n",
        "from flask_sqlalchemy import SQLAlchemy\n",
        "# modelo de usuário para login\n",
        "from flask_login import UserMixin\n",
        "# classe gerenciadora de login para automação\n",
        "from flask_login import LoginManager\n",
        "# indica rotas que necessitam de login para entrar\n",
        "from flask_login import login_required\n",
        "# grava o usuário que logou na sessão\n",
        "from flask_login import login_user\n",
        "# obtem usuário logado na sessão\n",
        "from flask_login import current_user\n",
        "# apaga usuário logado da sessão\n",
        "from flask_login import logout_user\n",
        "# gerador de código aleatório para chave de segurança\n",
        "from os import urandom\n",
        "# permite ao colab gerar uma página externa para acessar a aplicação\n",
        "from flask_ngrok import run_with_ngrok"
      ],
      "execution_count": 3,
      "outputs": []
    },
    {
      "cell_type": "markdown",
      "metadata": {
        "id": "97dZUW3rKWei"
      },
      "source": [
        "## Criando aplicação Web"
      ]
    },
    {
      "cell_type": "code",
      "metadata": {
        "id": "VT9MUWXHKeHi"
      },
      "source": [
        "# cria a aplicação web e pasta com modelos de páginas\n",
        "app = Flask('PIMS UNIFEI', template_folder='templates')\n",
        "\n",
        "# chave única do site para assinatura dos cookies\n",
        "app.config['SECRET_KEY'] = urandom(12)\n",
        "app"
      ],
      "execution_count": null,
      "outputs": []
    },
    {
      "cell_type": "markdown",
      "metadata": {
        "id": "0vugrMGIKyHQ"
      },
      "source": [
        "### Gestor de Banco de Dados"
      ]
    },
    {
      "cell_type": "code",
      "metadata": {
        "id": "8CJCkyClK26y"
      },
      "source": [
        "# gerenciamento de banco de dados\n",
        "db = SQLAlchemy()\n",
        "\n",
        "# indica banco de dados da aplicação em sqlite3\n",
        "app.config['SQLALCHEMY_DATABASE_URI'] = 'sqlite:///pims.db'\n",
        "app.config['SQLALCHEMY_TRACK_MODIFICATIONS'] = False # tira notificações do db\n",
        "\n",
        "#conecta gerenciador de banco na aplicação\n",
        "db.init_app(app)\n",
        "\n",
        "# modelo para objeto usuário no banco\n",
        "class Usuario(UserMixin, db.Model):\n",
        "  id = db.Column(db.Integer, primary_key=True)\n",
        "  usuario = db.Column(db.String(255))\n",
        "  email = db.Column(db.String(150), unique=True)\n",
        "  senha = db.Column(db.String(50))\n",
        "\n",
        "# monta arquivo de banco, caso não exista\n",
        "with app.app_context():\n",
        "  db.create_all()\n",
        "  \n",
        "db"
      ],
      "execution_count": null,
      "outputs": []
    },
    {
      "cell_type": "markdown",
      "metadata": {
        "id": "AFql8PCwYRl8"
      },
      "source": [
        "### Autenticação"
      ]
    },
    {
      "cell_type": "code",
      "metadata": {
        "id": "3RnU4pTAYHNC"
      },
      "source": [
        "# gestão de login automatizada\n",
        "login_manager = LoginManager()\n",
        "login_manager.login_view = 'login'\n",
        "login_manager.init_app(app)\n",
        "\n",
        "@login_manager.user_loader\n",
        "def load_user(usuario_id):\n",
        "  # guarda a chave primária do usuário após login\n",
        "  return Usuario.query.get(int(usuario_id))\n",
        "\n",
        "login_manager"
      ],
      "execution_count": null,
      "outputs": []
    },
    {
      "cell_type": "markdown",
      "metadata": {
        "id": "RaqDTDxFYVU7"
      },
      "source": [
        "### Rotas de acesso"
      ]
    },
    {
      "cell_type": "code",
      "metadata": {
        "id": "mmOvYgltYYwe"
      },
      "source": [
        "@app.route('/')\n",
        "def index():\n",
        "    return render_template('index.html')\n",
        "\n",
        "@app.route('/login')\n",
        "def login():\n",
        "    return render_template('login.html')\n",
        "\n",
        "@app.route('/signup')\n",
        "def signup():\n",
        "    return render_template('signup.html')\n",
        "    \n",
        "app.url_map"
      ],
      "execution_count": null,
      "outputs": []
    },
    {
      "cell_type": "markdown",
      "metadata": {
        "id": "FiY3Y3iwYdgX"
      },
      "source": [
        "### Retorno dos formulários"
      ]
    },
    {
      "cell_type": "code",
      "metadata": {
        "id": "gDqOC9Q-YhJB"
      },
      "source": [
        "@app.route('/signup', methods=['POST'])\n",
        "def signup_post():\n",
        "\n",
        "    email = request.form.get('email')\n",
        "    usuario = request.form.get('name')\n",
        "    senha = request.form.get('password')\n",
        "\n",
        "    # verifica se o usuário já existe no banco\n",
        "    user = Usuario.query.filter_by(email = email).first() \n",
        "\n",
        "    # se existe rediciona a criação para tentar novamente com outro usuário\n",
        "    if user:\n",
        "        flash('E-mail de usuário já existe no site')\n",
        "        return redirect(url_for('signup'))\n",
        "\n",
        "    # montando dados do usuário para salvar no banco\n",
        "    new_user = Usuario(\n",
        "        email = email, \n",
        "        usuario = usuario, \n",
        "        senha = generate_password_hash(senha, method='sha256'),\n",
        "        )\n",
        "\n",
        "    #  inserindo o usuário no banco de dados\n",
        "    db.session.add(new_user)\n",
        "    db.session.commit()\n",
        "\n",
        "    return redirect(url_for('login'))\n",
        "\n",
        "@app.route('/login', methods=['POST'])\n",
        "def login_post():\n",
        "\n",
        "    email = request.form.get('email')\n",
        "    senha = request.form.get('password')\n",
        "    remember = True if request.form.get('Lembre-me') else False\n",
        "\n",
        "    user = Usuario.query.filter_by(email=email).first()\n",
        "\n",
        "    # se usuário ou hash da senha não são iguais ao do banco\n",
        "    if not user or not check_password_hash(user.senha, senha):\n",
        "        flash('Usuário ou senha incorretos')\n",
        "        return redirect(url_for('login'))\n",
        "\n",
        "    #cadastra usuário na memória da sessão\n",
        "    login_user(user, remember=remember)\n",
        "\n",
        "    # se tudo ok, redireciona a página principal\n",
        "    return redirect(url_for('profile'))\n",
        "\n",
        "app.url_map"
      ],
      "execution_count": null,
      "outputs": []
    },
    {
      "cell_type": "markdown",
      "metadata": {
        "id": "HtndhEIqYlOX"
      },
      "source": [
        "### Rotas restritas - necessita de login"
      ]
    },
    {
      "cell_type": "code",
      "metadata": {
        "id": "5JnHWeHwYoLm"
      },
      "source": [
        "@app.route('/profile')\n",
        "@login_required # proteção de entrada com login\n",
        "def profile():\n",
        "    # redireciona a página do usuário com \n",
        "    return render_template('profile.html', name = current_user.usuario)\n",
        "\n",
        "@app.route('/logout')\n",
        "@login_required # proteção de entrada com login\n",
        "def logout():\n",
        "    # descadastra usuário da memória\n",
        "    logout_user() \n",
        "    # rediciona a página inicial da aplicação\n",
        "    return redirect(url_for('index'))\n",
        "\n",
        "app.url_map"
      ],
      "execution_count": null,
      "outputs": []
    },
    {
      "cell_type": "markdown",
      "metadata": {
        "id": "dz2GAJMjYrqA"
      },
      "source": [
        "## Execução do servidor da aplicação"
      ]
    },
    {
      "cell_type": "code",
      "metadata": {
        "id": "N6MgxzEqYrOM"
      },
      "source": [
        "run_with_ngrok(app)\n",
        "app.run()"
      ],
      "execution_count": null,
      "outputs": []
    }
  ]
}