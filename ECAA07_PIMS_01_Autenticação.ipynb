{
  "nbformat": 4,
  "nbformat_minor": 0,
  "metadata": {
    "colab": {
      "name": "ECAA07 PIMS 01 - Autenticação.ipynb",
      "provenance": [],
      "collapsed_sections": [],
      "authorship_tag": "ABX9TyNjRsPRtqOKigRQXX+O6CTa",
      "include_colab_link": true
    },
    "kernelspec": {
      "name": "python3",
      "display_name": "Python 3"
    },
    "language_info": {
      "name": "python"
    }
  },
  "cells": [
    {
      "cell_type": "markdown",
      "metadata": {
        "id": "view-in-github",
        "colab_type": "text"
      },
      "source": [
        "<a href=\"https://colab.research.google.com/github/valerio-unifei/ECAA07/blob/main/ECAA07_PIMS_01_Autentica%C3%A7%C3%A3o.ipynb\" target=\"_parent\"><img src=\"https://colab.research.google.com/assets/colab-badge.svg\" alt=\"Open In Colab\"/></a>"
      ]
    },
    {
      "cell_type": "markdown",
      "metadata": {
        "id": "xIZGHIpSHAIM"
      },
      "source": [
        "# Plant Information Management System (PIMS) - Autenticação"
      ]
    },
    {
      "cell_type": "markdown",
      "metadata": {
        "id": "i75OqgGzHIn8"
      },
      "source": [
        "**Objetivo**\n",
        "\n",
        "Criar sistema de login para um PIMS simples.\n",
        "\n",
        "**Referências**\n",
        "\n",
        "https://www.digitalocean.com/community/tutorials/how-to-add-authentication-to-your-app-with-flask-login-pt"
      ]
    },
    {
      "cell_type": "markdown",
      "metadata": {
        "id": "bwNVdcfAG7Il"
      },
      "source": [
        "## Modelo de Páginas"
      ]
    },
    {
      "cell_type": "code",
      "metadata": {
        "colab": {
          "base_uri": "https://localhost:8080/"
        },
        "id": "274gkJ-DGK4Q",
        "outputId": "48eb3b83-11ac-488c-8043-ba11459cae66"
      },
      "source": [
        "!wget https://github.com/valerio-unifei/ECAA07/raw/main/Bancos/ECAA07_PIMS_templates.zip\n",
        "!unzip -q ECAA07_PIMS_templates.zip\n",
        "!rm ECAA07_PIMS_templates.zip"
      ],
      "execution_count": 1,
      "outputs": [
        {
          "output_type": "stream",
          "name": "stdout",
          "text": [
            "--2021-11-09 16:45:12--  https://github.com/valerio-unifei/ECAA07/raw/main/Bancos/ECAA07_PIMS_templates.zip\n",
            "Resolving github.com (github.com)... 140.82.113.4\n",
            "Connecting to github.com (github.com)|140.82.113.4|:443... connected.\n",
            "HTTP request sent, awaiting response... 302 Found\n",
            "Location: https://raw.githubusercontent.com/valerio-unifei/ECAA07/main/Bancos/ECAA07_PIMS_templates.zip [following]\n",
            "--2021-11-09 16:45:12--  https://raw.githubusercontent.com/valerio-unifei/ECAA07/main/Bancos/ECAA07_PIMS_templates.zip\n",
            "Resolving raw.githubusercontent.com (raw.githubusercontent.com)... 185.199.108.133, 185.199.109.133, 185.199.110.133, ...\n",
            "Connecting to raw.githubusercontent.com (raw.githubusercontent.com)|185.199.108.133|:443... connected.\n",
            "HTTP request sent, awaiting response... 200 OK\n",
            "Length: 2563 (2.5K) [application/zip]\n",
            "Saving to: ‘ECAA07_PIMS_templates.zip’\n",
            "\n",
            "ECAA07_PIMS_templat 100%[===================>]   2.50K  --.-KB/s    in 0s      \n",
            "\n",
            "2021-11-09 16:45:12 (23.3 MB/s) - ‘ECAA07_PIMS_templates.zip’ saved [2563/2563]\n",
            "\n"
          ]
        }
      ]
    },
    {
      "cell_type": "markdown",
      "metadata": {
        "id": "6_W6qhrkHTs7"
      },
      "source": [
        "## Bibliotecas"
      ]
    },
    {
      "cell_type": "markdown",
      "metadata": {
        "id": "lZs3iXg3HXkM"
      },
      "source": [
        "### Instalar"
      ]
    },
    {
      "cell_type": "code",
      "metadata": {
        "colab": {
          "base_uri": "https://localhost:8080/"
        },
        "id": "5tcpvO3IHW8Y",
        "outputId": "37d230c5-87b4-40dc-d149-8dabe94f3c03"
      },
      "source": [
        "!pip install flask flask-sqlalchemy flask-login flask_ngrok"
      ],
      "execution_count": 2,
      "outputs": [
        {
          "output_type": "stream",
          "name": "stdout",
          "text": [
            "Requirement already satisfied: flask in /usr/local/lib/python3.7/dist-packages (1.1.4)\n",
            "Collecting flask-sqlalchemy\n",
            "  Downloading Flask_SQLAlchemy-2.5.1-py2.py3-none-any.whl (17 kB)\n",
            "Collecting flask-login\n",
            "  Downloading Flask_Login-0.5.0-py2.py3-none-any.whl (16 kB)\n",
            "Collecting flask_ngrok\n",
            "  Downloading flask_ngrok-0.0.25-py3-none-any.whl (3.1 kB)\n",
            "Requirement already satisfied: itsdangerous<2.0,>=0.24 in /usr/local/lib/python3.7/dist-packages (from flask) (1.1.0)\n",
            "Requirement already satisfied: click<8.0,>=5.1 in /usr/local/lib/python3.7/dist-packages (from flask) (7.1.2)\n",
            "Requirement already satisfied: Werkzeug<2.0,>=0.15 in /usr/local/lib/python3.7/dist-packages (from flask) (1.0.1)\n",
            "Requirement already satisfied: Jinja2<3.0,>=2.10.1 in /usr/local/lib/python3.7/dist-packages (from flask) (2.11.3)\n",
            "Requirement already satisfied: MarkupSafe>=0.23 in /usr/local/lib/python3.7/dist-packages (from Jinja2<3.0,>=2.10.1->flask) (2.0.1)\n",
            "Requirement already satisfied: SQLAlchemy>=0.8.0 in /usr/local/lib/python3.7/dist-packages (from flask-sqlalchemy) (1.4.25)\n",
            "Requirement already satisfied: importlib-metadata in /usr/local/lib/python3.7/dist-packages (from SQLAlchemy>=0.8.0->flask-sqlalchemy) (4.8.1)\n",
            "Requirement already satisfied: greenlet!=0.4.17 in /usr/local/lib/python3.7/dist-packages (from SQLAlchemy>=0.8.0->flask-sqlalchemy) (1.1.2)\n",
            "Requirement already satisfied: requests in /usr/local/lib/python3.7/dist-packages (from flask_ngrok) (2.23.0)\n",
            "Requirement already satisfied: typing-extensions>=3.6.4 in /usr/local/lib/python3.7/dist-packages (from importlib-metadata->SQLAlchemy>=0.8.0->flask-sqlalchemy) (3.7.4.3)\n",
            "Requirement already satisfied: zipp>=0.5 in /usr/local/lib/python3.7/dist-packages (from importlib-metadata->SQLAlchemy>=0.8.0->flask-sqlalchemy) (3.6.0)\n",
            "Requirement already satisfied: certifi>=2017.4.17 in /usr/local/lib/python3.7/dist-packages (from requests->flask_ngrok) (2021.5.30)\n",
            "Requirement already satisfied: idna<3,>=2.5 in /usr/local/lib/python3.7/dist-packages (from requests->flask_ngrok) (2.10)\n",
            "Requirement already satisfied: chardet<4,>=3.0.2 in /usr/local/lib/python3.7/dist-packages (from requests->flask_ngrok) (3.0.4)\n",
            "Requirement already satisfied: urllib3!=1.25.0,!=1.25.1,<1.26,>=1.21.1 in /usr/local/lib/python3.7/dist-packages (from requests->flask_ngrok) (1.24.3)\n",
            "Installing collected packages: flask-sqlalchemy, flask-ngrok, flask-login\n",
            "Successfully installed flask-login-0.5.0 flask-ngrok-0.0.25 flask-sqlalchemy-2.5.1\n"
          ]
        }
      ]
    },
    {
      "cell_type": "markdown",
      "metadata": {
        "id": "F8Mz0gw9IAmF"
      },
      "source": [
        "### Utilizadas"
      ]
    },
    {
      "cell_type": "code",
      "metadata": {
        "id": "mwPAMVtcICtK"
      },
      "source": [
        "# classe de aplicação web em flask\n",
        "from flask import Flask\n",
        "# utiliza modelos em páginas web\n",
        "from flask import render_template\n",
        "# redireciona o navegador para outra url\n",
        "from flask import redirect\n",
        "# gera a url de uma rota do flask\n",
        "from flask import url_for\n",
        "# coleta as variáveis passadas pelo navegador\n",
        "from flask import request\n",
        "# envia um valor de retorno para o conteúdo da página\n",
        "from flask import flash\n",
        "# gera um hash criptografado de uma senha\n",
        "from werkzeug.security import generate_password_hash\n",
        "# compara hashs de senha atual e gravada\n",
        "from werkzeug.security import check_password_hash\n",
        "# classe getora de banco de dados \n",
        "from flask_sqlalchemy import SQLAlchemy\n",
        "# modelo de usuário para login\n",
        "from flask_login import UserMixin\n",
        "# classe gerenciadora de login para automação\n",
        "from flask_login import LoginManager\n",
        "# indica rotas que necessitam de login para entrar\n",
        "from flask_login import login_required\n",
        "# grava o usuário que logou na sessão\n",
        "from flask_login import login_user\n",
        "# obtem usuário logado na sessão\n",
        "from flask_login import current_user\n",
        "# apaga usuário logado da sessão\n",
        "from flask_login import logout_user\n",
        "# gerador de código aleatório para chave de segurança\n",
        "from os import urandom\n",
        "# permite ao colab gerar uma página externa para acessar a aplicação\n",
        "from flask_ngrok import run_with_ngrok"
      ],
      "execution_count": 3,
      "outputs": []
    },
    {
      "cell_type": "markdown",
      "metadata": {
        "id": "97dZUW3rKWei"
      },
      "source": [
        "## Criando aplicação Web"
      ]
    },
    {
      "cell_type": "code",
      "metadata": {
        "colab": {
          "base_uri": "https://localhost:8080/"
        },
        "id": "VT9MUWXHKeHi",
        "outputId": "74e95cd6-7fa9-474e-e767-075e7e487261"
      },
      "source": [
        "# cria a aplicação web e pasta com modelos de páginas\n",
        "app = Flask('PIMS UNIFEI', template_folder='templates')\n",
        "\n",
        "# chave única do site para criptografia das senhas\n",
        "app.config['SECRET_KEY'] = urandom(12)\n",
        "app"
      ],
      "execution_count": 4,
      "outputs": [
        {
          "output_type": "execute_result",
          "data": {
            "text/plain": [
              "<Flask 'PIMS UNIFEI'>"
            ]
          },
          "metadata": {},
          "execution_count": 4
        }
      ]
    },
    {
      "cell_type": "markdown",
      "metadata": {
        "id": "0vugrMGIKyHQ"
      },
      "source": [
        "### Gestor de Banco de Dados"
      ]
    },
    {
      "cell_type": "code",
      "metadata": {
        "colab": {
          "base_uri": "https://localhost:8080/"
        },
        "id": "8CJCkyClK26y",
        "outputId": "d61e3dc2-a609-460f-cf41-29d96418d491"
      },
      "source": [
        "# gerenciamento de banco de dados\n",
        "db = SQLAlchemy()\n",
        "\n",
        "# indica banco de dados da aplicação em sqlite3\n",
        "app.config['SQLALCHEMY_DATABASE_URI'] = 'sqlite:///pims.db'\n",
        "app.config['SQLALCHEMY_TRACK_MODIFICATIONS'] = False # tira notificações do db\n",
        "\n",
        "#conecta gerenciador de banco na aplicação\n",
        "db.init_app(app)\n",
        "\n",
        "# modelo para objeto usuário no banco\n",
        "class Usuario(UserMixin, db.Model):\n",
        "  id = db.Column(db.Integer, primary_key=True)\n",
        "  usuario = db.Column(db.String(255))\n",
        "  email = db.Column(db.String(150), unique=True)\n",
        "  senha = db.Column(db.String(50))\n",
        "\n",
        "# monta arquivo de banco, caso não exista\n",
        "with app.app_context():\n",
        "  db.create_all()\n",
        "  \n",
        "db"
      ],
      "execution_count": 5,
      "outputs": [
        {
          "output_type": "execute_result",
          "data": {
            "text/plain": [
              "<SQLAlchemy engine=None>"
            ]
          },
          "metadata": {},
          "execution_count": 5
        }
      ]
    },
    {
      "cell_type": "markdown",
      "metadata": {
        "id": "AFql8PCwYRl8"
      },
      "source": [
        "### Autenticação"
      ]
    },
    {
      "cell_type": "code",
      "metadata": {
        "colab": {
          "base_uri": "https://localhost:8080/"
        },
        "id": "3RnU4pTAYHNC",
        "outputId": "406708ae-42ee-4156-c865-f823430a234d"
      },
      "source": [
        "# gestão de login automatizada\n",
        "login_manager = LoginManager()\n",
        "login_manager.login_view = 'login'\n",
        "login_manager.init_app(app)\n",
        "\n",
        "@login_manager.user_loader\n",
        "def load_user(usuario_id):\n",
        "  # guarda a chave primária do usuário após login\n",
        "  return Usuario.query.get(int(usuario_id))\n",
        "\n",
        "login_manager"
      ],
      "execution_count": 6,
      "outputs": [
        {
          "output_type": "execute_result",
          "data": {
            "text/plain": [
              "<flask_login.login_manager.LoginManager at 0x7fb0814ef790>"
            ]
          },
          "metadata": {},
          "execution_count": 6
        }
      ]
    },
    {
      "cell_type": "markdown",
      "metadata": {
        "id": "RaqDTDxFYVU7"
      },
      "source": [
        "### Rotas de acesso"
      ]
    },
    {
      "cell_type": "code",
      "metadata": {
        "colab": {
          "base_uri": "https://localhost:8080/"
        },
        "id": "mmOvYgltYYwe",
        "outputId": "df455605-f426-45f0-fd43-10f8850a06f8"
      },
      "source": [
        "@app.route('/')\n",
        "def index():\n",
        "    return render_template('index.html')\n",
        "\n",
        "@app.route('/login')\n",
        "def login():\n",
        "    return render_template('login.html')\n",
        "\n",
        "@app.route('/signup')\n",
        "def signup():\n",
        "    return render_template('signup.html')\n",
        "    \n",
        "app.url_map"
      ],
      "execution_count": 7,
      "outputs": [
        {
          "output_type": "execute_result",
          "data": {
            "text/plain": [
              "Map([<Rule '/signup' (HEAD, GET, OPTIONS) -> signup>,\n",
              " <Rule '/login' (HEAD, GET, OPTIONS) -> login>,\n",
              " <Rule '/' (HEAD, GET, OPTIONS) -> index>,\n",
              " <Rule '/static/<filename>' (HEAD, GET, OPTIONS) -> static>])"
            ]
          },
          "metadata": {},
          "execution_count": 7
        }
      ]
    },
    {
      "cell_type": "markdown",
      "metadata": {
        "id": "FiY3Y3iwYdgX"
      },
      "source": [
        "### Retorno dos formulários"
      ]
    },
    {
      "cell_type": "code",
      "metadata": {
        "colab": {
          "base_uri": "https://localhost:8080/"
        },
        "id": "gDqOC9Q-YhJB",
        "outputId": "e423ddfd-6ee5-4265-bfac-b7dd044093f6"
      },
      "source": [
        "@app.route('/signup', methods=['POST'])\n",
        "def signup_post():\n",
        "\n",
        "    email = request.form.get('email')\n",
        "    usuario = request.form.get('name')\n",
        "    senha = request.form.get('password')\n",
        "\n",
        "    # verifica se o usuário já existe no banco\n",
        "    user = Usuario.query.filter_by(email = email).first() \n",
        "\n",
        "    # se existe rediciona a criação para tentar novamente com outro usuário\n",
        "    if user:\n",
        "        flash('E-mail de usuário já existe no site')\n",
        "        return redirect(url_for('signup'))\n",
        "\n",
        "    # montando dados do usuário para salvar no banco\n",
        "    new_user = Usuario(\n",
        "        email = email, \n",
        "        usuario = usuario, \n",
        "        senha = generate_password_hash(senha, method='sha256'),\n",
        "        )\n",
        "\n",
        "    #  inserindo o usuário no banco de dados\n",
        "    db.session.add(new_user)\n",
        "    db.session.commit()\n",
        "\n",
        "    return redirect(url_for('login'))\n",
        "\n",
        "@app.route('/login', methods=['POST'])\n",
        "def login_post():\n",
        "\n",
        "    email = request.form.get('email')\n",
        "    senha = request.form.get('password')\n",
        "    remember = True if request.form.get('Lembre-me') else False\n",
        "\n",
        "    user = Usuario.query.filter_by(email=email).first()\n",
        "\n",
        "    # se usuário ou hash da senha não são iguais ao do banco\n",
        "    if not user or not check_password_hash(user.senha, senha):\n",
        "        flash('Usuário ou senha incorretos')\n",
        "        return redirect(url_for('login'))\n",
        "\n",
        "    #cadastra usuário na memória da sessão\n",
        "    login_user(user, remember=remember)\n",
        "\n",
        "    # se tudo ok, redireciona a página principal\n",
        "    return redirect(url_for('profile'))\n",
        "\n",
        "app.url_map"
      ],
      "execution_count": 8,
      "outputs": [
        {
          "output_type": "execute_result",
          "data": {
            "text/plain": [
              "Map([<Rule '/signup' (HEAD, GET, OPTIONS) -> signup>,\n",
              " <Rule '/signup' (POST, OPTIONS) -> signup_post>,\n",
              " <Rule '/login' (HEAD, GET, OPTIONS) -> login>,\n",
              " <Rule '/login' (POST, OPTIONS) -> login_post>,\n",
              " <Rule '/' (HEAD, GET, OPTIONS) -> index>,\n",
              " <Rule '/static/<filename>' (HEAD, GET, OPTIONS) -> static>])"
            ]
          },
          "metadata": {},
          "execution_count": 8
        }
      ]
    },
    {
      "cell_type": "markdown",
      "metadata": {
        "id": "HtndhEIqYlOX"
      },
      "source": [
        "### Rotas restritas - necessita de login"
      ]
    },
    {
      "cell_type": "code",
      "metadata": {
        "colab": {
          "base_uri": "https://localhost:8080/"
        },
        "id": "5JnHWeHwYoLm",
        "outputId": "e411bacd-eb5b-403e-8c71-0336edb3cb8a"
      },
      "source": [
        "@app.route('/profile')\n",
        "@login_required # proteção de entrada com login\n",
        "def profile():\n",
        "    # redireciona a página do usuário com \n",
        "    return render_template('profile.html', name = current_user.usuario)\n",
        "\n",
        "@app.route('/logout')\n",
        "@login_required # proteção de entrada com login\n",
        "def logout():\n",
        "    # descadastra usuário da memória\n",
        "    logout_user() \n",
        "    # rediciona a página inicial da aplicação\n",
        "    return redirect(url_for('index'))\n",
        "\n",
        "app.url_map"
      ],
      "execution_count": 9,
      "outputs": [
        {
          "output_type": "execute_result",
          "data": {
            "text/plain": [
              "Map([<Rule '/profile' (HEAD, GET, OPTIONS) -> profile>,\n",
              " <Rule '/signup' (HEAD, GET, OPTIONS) -> signup>,\n",
              " <Rule '/signup' (POST, OPTIONS) -> signup_post>,\n",
              " <Rule '/logout' (HEAD, GET, OPTIONS) -> logout>,\n",
              " <Rule '/login' (HEAD, GET, OPTIONS) -> login>,\n",
              " <Rule '/login' (POST, OPTIONS) -> login_post>,\n",
              " <Rule '/' (HEAD, GET, OPTIONS) -> index>,\n",
              " <Rule '/static/<filename>' (HEAD, GET, OPTIONS) -> static>])"
            ]
          },
          "metadata": {},
          "execution_count": 9
        }
      ]
    },
    {
      "cell_type": "markdown",
      "metadata": {
        "id": "dz2GAJMjYrqA"
      },
      "source": [
        "## Execução do servidor da aplicação"
      ]
    },
    {
      "cell_type": "code",
      "metadata": {
        "id": "N6MgxzEqYrOM"
      },
      "source": [
        "run_with_ngrok(app)\n",
        "app.run()"
      ],
      "execution_count": null,
      "outputs": []
    }
  ]
}