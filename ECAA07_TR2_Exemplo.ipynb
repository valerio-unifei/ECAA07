{
  "nbformat": 4,
  "nbformat_minor": 0,
  "metadata": {
    "colab": {
      "name": "ECAA07 TR2 Exemplo.ipynb",
      "provenance": [],
      "authorship_tag": "ABX9TyMgDXV1z/7uel437JTFsVHK",
      "include_colab_link": true
    },
    "kernelspec": {
      "name": "python3",
      "display_name": "Python 3"
    },
    "language_info": {
      "name": "python"
    }
  },
  "cells": [
    {
      "cell_type": "markdown",
      "metadata": {
        "id": "view-in-github",
        "colab_type": "text"
      },
      "source": [
        "<a href=\"https://colab.research.google.com/github/valerio-unifei/ECAA07/blob/main/ECAA07_TR2_Exemplo.ipynb\" target=\"_parent\"><img src=\"https://colab.research.google.com/assets/colab-badge.svg\" alt=\"Open In Colab\"/></a>"
      ]
    },
    {
      "cell_type": "code",
      "metadata": {
        "id": "anfn-gFiwWDU"
      },
      "source": [
        "!wget https://github.com/valerio-unifei/ECAA07/raw/main/Bancos/base_tr2.zip\n",
        "!unzip -o base_tr2.zip\n",
        "!rm base_tr2.zip"
      ],
      "execution_count": null,
      "outputs": []
    },
    {
      "cell_type": "markdown",
      "metadata": {
        "id": "rhFDb83AwvYr"
      },
      "source": [
        "# Conectando ao Banco SQLite"
      ]
    },
    {
      "cell_type": "code",
      "metadata": {
        "id": "Yz4viokqwk03"
      },
      "source": [
        "%load_ext sql\n",
        "%config SqlMagic.feedback=False\n",
        "%config SqlMagic.autopandas=True\n",
        "%sql sqlite:////content/processo.db"
      ],
      "execution_count": null,
      "outputs": []
    },
    {
      "cell_type": "code",
      "metadata": {
        "id": "YLUYLjE6y_SP"
      },
      "source": [
        "%sql SELECT name FROM sqlite_master WHERE type='table'"
      ],
      "execution_count": null,
      "outputs": []
    },
    {
      "cell_type": "code",
      "metadata": {
        "id": "ynchbnXFxo-0"
      },
      "source": [
        "%sql SELECT * FROM medidas"
      ],
      "execution_count": null,
      "outputs": []
    },
    {
      "cell_type": "markdown",
      "metadata": {
        "id": "UsRcfW9x00pl"
      },
      "source": [
        "## Gerando consulta"
      ]
    },
    {
      "cell_type": "code",
      "metadata": {
        "id": "9Dbqy8JkzScs"
      },
      "source": [
        "%%sql resultados <<\n",
        "  SELECT \n",
        "    time_stamp, \n",
        "    medida AS 'AmbientConditions.AmbientHumidity.U.Actual'\n",
        "  FROM medidas\n",
        "  WHERE\n",
        "    tag = 'AmbientConditions.AmbientHumidity.U.Actual'"
      ],
      "execution_count": null,
      "outputs": []
    },
    {
      "cell_type": "code",
      "metadata": {
        "id": "_GaZbW8j0L7c"
      },
      "source": [
        "resultados"
      ],
      "execution_count": null,
      "outputs": []
    },
    {
      "cell_type": "markdown",
      "metadata": {
        "id": "FBzKlVG603NU"
      },
      "source": [
        "### Salvando em CSV"
      ]
    },
    {
      "cell_type": "code",
      "metadata": {
        "id": "FdRD2GnPzfOC"
      },
      "source": [
        "resultados.to_csv('tr_numeroMatricula.csv')"
      ],
      "execution_count": 32,
      "outputs": []
    }
  ]
}