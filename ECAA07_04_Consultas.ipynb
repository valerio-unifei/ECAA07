{
  "nbformat": 4,
  "nbformat_minor": 0,
  "metadata": {
    "colab": {
      "provenance": [],
      "authorship_tag": "ABX9TyNILwWQv1J0flpM0dXQgWbQ",
      "include_colab_link": true
    },
    "kernelspec": {
      "name": "python3",
      "display_name": "Python 3"
    },
    "language_info": {
      "name": "python"
    }
  },
  "cells": [
    {
      "cell_type": "markdown",
      "metadata": {
        "id": "view-in-github",
        "colab_type": "text"
      },
      "source": [
        "<a href=\"https://colab.research.google.com/github/valerio-unifei/ECAA07/blob/main/ECAA07_04_Consultas.ipynb\" target=\"_parent\"><img src=\"https://colab.research.google.com/assets/colab-badge.svg\" alt=\"Open In Colab\"/></a>"
      ]
    },
    {
      "cell_type": "markdown",
      "source": [
        "# SQL DQL (Data Query Language)"
      ],
      "metadata": {
        "id": "EjYGbQIt2uXx"
      }
    },
    {
      "cell_type": "markdown",
      "source": [
        "## Banco de Dados para Códigos"
      ],
      "metadata": {
        "id": "yNIz09uF2yNv"
      }
    },
    {
      "cell_type": "code",
      "execution_count": null,
      "metadata": {
        "id": "fM08TXQr1n_m"
      },
      "outputs": [],
      "source": [
        "!wget https://github.com/valerio-unifei/ECAA07/raw/main/Bancos/sakila.db"
      ]
    },
    {
      "cell_type": "markdown",
      "source": [
        "<img src=\"https://github.com/valerio-unifei/ECAA07/raw/main/Bancos/sakila_schema.png\" />"
      ],
      "metadata": {
        "id": "qc0gEgHB1-24"
      }
    },
    {
      "cell_type": "markdown",
      "source": [
        "### Conectando Banco"
      ],
      "metadata": {
        "id": "lieMf0ls22bC"
      }
    },
    {
      "cell_type": "code",
      "source": [
        "%load_ext sql\n",
        "%sql sqlite:///sakila.db\n",
        "%config SqlMagic.autopandas=True"
      ],
      "metadata": {
        "id": "CaEKb7AJ2lb9"
      },
      "execution_count": null,
      "outputs": []
    },
    {
      "cell_type": "markdown",
      "source": [
        "# Consultas"
      ],
      "metadata": {
        "id": "JbC-eAdg24iM"
      }
    },
    {
      "cell_type": "markdown",
      "source": [
        "category"
      ],
      "metadata": {
        "id": "8kp1gRmC3Ia2"
      }
    },
    {
      "cell_type": "code",
      "source": [],
      "metadata": {
        "id": "62XmPNyo3Bj9"
      },
      "execution_count": null,
      "outputs": []
    },
    {
      "cell_type": "markdown",
      "source": [
        "staff"
      ],
      "metadata": {
        "id": "abS7DVbV3KOm"
      }
    },
    {
      "cell_type": "code",
      "source": [],
      "metadata": {
        "id": "vz_SYlE53WGn"
      },
      "execution_count": null,
      "outputs": []
    },
    {
      "cell_type": "markdown",
      "source": [
        "## JOIN"
      ],
      "metadata": {
        "id": "m_OB-hfn3Whb"
      }
    },
    {
      "cell_type": "markdown",
      "source": [
        "film + film_category + category"
      ],
      "metadata": {
        "id": "58w-a71t1t4d"
      }
    },
    {
      "cell_type": "code",
      "source": [],
      "metadata": {
        "id": "TtvLOYQN1C4G"
      },
      "execution_count": null,
      "outputs": []
    },
    {
      "cell_type": "markdown",
      "source": [
        "customer + address + city + country"
      ],
      "metadata": {
        "id": "uv07g-Ji1m-5"
      }
    },
    {
      "cell_type": "code",
      "source": [],
      "metadata": {
        "id": "9r5zZKgp11NE"
      },
      "execution_count": null,
      "outputs": []
    },
    {
      "cell_type": "markdown",
      "source": [
        "inventory + film_text + film + film_category + category + language"
      ],
      "metadata": {
        "id": "zspykBJX15xg"
      }
    },
    {
      "cell_type": "code",
      "source": [],
      "metadata": {
        "id": "aj2dGksl2Guk"
      },
      "execution_count": null,
      "outputs": []
    },
    {
      "cell_type": "markdown",
      "source": [
        "inventory + film_text + film + film_actor + actor"
      ],
      "metadata": {
        "id": "SsxSmcF_2M-l"
      }
    },
    {
      "cell_type": "code",
      "source": [],
      "metadata": {
        "id": "QHxcvfQx2HIs"
      },
      "execution_count": null,
      "outputs": []
    },
    {
      "cell_type": "markdown",
      "source": [
        "## WHERE"
      ],
      "metadata": {
        "id": "0MsQgIUq2Owk"
      }
    },
    {
      "cell_type": "markdown",
      "source": [
        "film >> category.name = \"terror\""
      ],
      "metadata": {
        "id": "8OdvzHtL2bi1"
      }
    },
    {
      "cell_type": "code",
      "source": [],
      "metadata": {
        "id": "g-ofnd-02QfM"
      },
      "execution_count": null,
      "outputs": []
    },
    {
      "cell_type": "markdown",
      "source": [
        "month(rental.rental_date) = 4 [abril]"
      ],
      "metadata": {
        "id": "ThKF5hWh2kQN"
      }
    },
    {
      "cell_type": "code",
      "source": [],
      "metadata": {
        "id": "4eTOTjdt2nIU"
      },
      "execution_count": null,
      "outputs": []
    },
    {
      "cell_type": "markdown",
      "source": [
        "## ORDER BY"
      ],
      "metadata": {
        "id": "y4VrvVFU3JNc"
      }
    },
    {
      "cell_type": "markdown",
      "source": [
        "Ordenar store by address"
      ],
      "metadata": {
        "id": "fCo_YMT73MNc"
      }
    },
    {
      "cell_type": "code",
      "source": [],
      "metadata": {
        "id": "Q2FSRFbR3Mkc"
      },
      "execution_count": null,
      "outputs": []
    },
    {
      "cell_type": "markdown",
      "source": [
        "Ordenar decrescente film por language e category"
      ],
      "metadata": {
        "id": "0Dc2zoKF4_M9"
      }
    },
    {
      "cell_type": "code",
      "source": [],
      "metadata": {
        "id": "e-oLGnAF4-02"
      },
      "execution_count": null,
      "outputs": []
    },
    {
      "cell_type": "markdown",
      "source": [
        "## GROUP BY"
      ],
      "metadata": {
        "id": "QEES96oC28os"
      }
    },
    {
      "cell_type": "markdown",
      "source": [
        "Quantos filmes tem por category"
      ],
      "metadata": {
        "id": "8-rMNF0K3CZt"
      }
    },
    {
      "cell_type": "code",
      "source": [],
      "metadata": {
        "id": "2X92HicG3B6c"
      },
      "execution_count": null,
      "outputs": []
    },
    {
      "cell_type": "markdown",
      "source": [
        "Quantas city com stores por country"
      ],
      "metadata": {
        "id": "bFRZyaLP5S7V"
      }
    },
    {
      "cell_type": "code",
      "source": [],
      "metadata": {
        "id": "SoBjDUYV5Y2N"
      },
      "execution_count": null,
      "outputs": []
    },
    {
      "cell_type": "markdown",
      "source": [
        "O film com maior quantidade de alugueis."
      ],
      "metadata": {
        "id": "XV3Jqnq25Zue"
      }
    },
    {
      "cell_type": "code",
      "source": [],
      "metadata": {
        "id": "_qJt1dNL7cbE"
      },
      "execution_count": null,
      "outputs": []
    },
    {
      "cell_type": "markdown",
      "source": [
        "A loja mais rentável"
      ],
      "metadata": {
        "id": "IWQTIKtx7dK9"
      }
    },
    {
      "cell_type": "code",
      "source": [],
      "metadata": {
        "id": "cd7ZRKIF7fRs"
      },
      "execution_count": null,
      "outputs": []
    },
    {
      "cell_type": "markdown",
      "source": [
        "O funcionário mais produtivo"
      ],
      "metadata": {
        "id": "vhs0n6jo7e5M"
      }
    },
    {
      "cell_type": "code",
      "source": [],
      "metadata": {
        "id": "xSdxT-H47mJ0"
      },
      "execution_count": null,
      "outputs": []
    },
    {
      "cell_type": "markdown",
      "source": [
        "Os clientes mais rentáveis"
      ],
      "metadata": {
        "id": "fT7vg5d-7nT0"
      }
    },
    {
      "cell_type": "code",
      "source": [],
      "metadata": {
        "id": "BLlEA5ZK7rWv"
      },
      "execution_count": null,
      "outputs": []
    },
    {
      "cell_type": "markdown",
      "source": [
        "## Outras funções"
      ],
      "metadata": {
        "id": "z66YoOOU7uFf"
      }
    },
    {
      "cell_type": "markdown",
      "source": [
        "As locações mais longas"
      ],
      "metadata": {
        "id": "4Y2Cj0HH71FP"
      }
    },
    {
      "cell_type": "code",
      "source": [],
      "metadata": {
        "id": "fsL01lUP70pP"
      },
      "execution_count": null,
      "outputs": []
    },
    {
      "cell_type": "markdown",
      "source": [
        "Os 10 filmes mais alugados"
      ],
      "metadata": {
        "id": "rt3NYnhb728U"
      }
    },
    {
      "cell_type": "code",
      "source": [],
      "metadata": {
        "id": "OvAXurXV76ZE"
      },
      "execution_count": null,
      "outputs": []
    },
    {
      "cell_type": "markdown",
      "source": [
        "Os filmes nunca devolvidos"
      ],
      "metadata": {
        "id": "a0n2lqPu7-L0"
      }
    },
    {
      "cell_type": "code",
      "source": [],
      "metadata": {
        "id": "mvncewri8Cms"
      },
      "execution_count": null,
      "outputs": []
    }
  ]
}