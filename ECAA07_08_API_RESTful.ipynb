{
  "nbformat": 4,
  "nbformat_minor": 0,
  "metadata": {
    "colab": {
      "provenance": [],
      "authorship_tag": "ABX9TyMKG7ykBd1ppKgUan0EaI0c",
      "include_colab_link": true
    },
    "kernelspec": {
      "name": "python3",
      "display_name": "Python 3"
    },
    "language_info": {
      "name": "python"
    }
  },
  "cells": [
    {
      "cell_type": "markdown",
      "metadata": {
        "id": "view-in-github",
        "colab_type": "text"
      },
      "source": [
        "<a href=\"https://colab.research.google.com/github/valerio-unifei/ECAA07/blob/main/ECAA07_08_API_RESTful.ipynb\" target=\"_parent\"><img src=\"https://colab.research.google.com/assets/colab-badge.svg\" alt=\"Open In Colab\"/></a>"
      ]
    },
    {
      "cell_type": "markdown",
      "source": [
        "**Atenção:**\n",
        "\n",
        "Este código funciona apenas no VSCode no Ubuntu nas máquinas do LEC."
      ],
      "metadata": {
        "id": "FxdbT-BU3GOx"
      }
    },
    {
      "cell_type": "markdown",
      "source": [
        "# API RESTful"
      ],
      "metadata": {
        "id": "1HHsmSeefj_X"
      }
    },
    {
      "cell_type": "markdown",
      "source": [
        "**Representational State Transfer (REST)**: Transferência Representacional de Estado\n",
        "\n",
        "Uma **API RESTful** (também conhecida como API REST) é uma interface de programação de aplicativos (API ou API Web) que está em conformidade com as restrições do estilo de arquitetura REST e permite a interação com serviços Web RESTful.\n",
        "\n",
        "Uma **API** é um conjunto de definições e protocolos para construir e integrar software de aplicação. Às vezes, é chamado de contrato entre um provedor de informações e um usuário de informações – estabelecendo o conteúdo exigido do consumidor (a chamada) e o conteúdo exigido pelo produtor (a resposta). Por exemplo, o design da API para um serviço meteorológico pode especificar que o usuário forneça um CEP e que o produtor responda com uma resposta em duas partes, sendo a primeira a temperatura alta e a segunda a baixa.  \n",
        "\n",
        "Em outras palavras, se você deseja interagir com um computador ou sistema para recuperar informações ou executar uma função, uma API o ajuda a comunicar o que deseja a esse sistema para que ele possa entender e atender à solicitação.\n",
        "\n",
        "Você pode pensar em uma API como um mediador entre os usuários ou clientes e os recursos ou serviços da Web que eles desejam obter. É também uma forma de uma organização compartilhar recursos e informações enquanto mantém a segurança, o controle e a autenticação — determinando quem tem acesso a quê.\n",
        "\n",
        "<img src=\"https://upload.wikimedia.org/wikipedia/commons/f/f1/Rest-API.png\" width=\"500px\">"
      ],
      "metadata": {
        "id": "QqlnFLjvfmTK"
      }
    },
    {
      "cell_type": "markdown",
      "source": [
        "# Acessórios"
      ],
      "metadata": {
        "id": "4tq4CfpyhRd4"
      }
    },
    {
      "cell_type": "markdown",
      "source": [
        "Bibliotecas para Python:\n",
        "- fastapi: bibliteca para criar uma API Rest\n",
        "- nest-asyncio: permite a execução assíncrona de threads no colab\n",
        "- pyngrok: tunelamento de serviço web em url válida\n",
        "- uvicorn: servidor web para subir o FastAPI"
      ],
      "metadata": {
        "id": "jznFh6B3hV6N"
      }
    },
    {
      "cell_type": "code",
      "execution_count": null,
      "metadata": {
        "id": "LpLQPZaKXvx2"
      },
      "outputs": [],
      "source": [
        "!pip install fastapi nest-asyncio pyngrok uvicorn"
      ]
    },
    {
      "cell_type": "markdown",
      "source": [
        "## Banco de Dados Local SQLite3"
      ],
      "metadata": {
        "id": "bS7K8k1CipZ5"
      }
    },
    {
      "cell_type": "markdown",
      "source": [
        "Baixar o banco de dados do repositório:\n",
        "- https://github.com/jpwhite3/northwind-SQLite3\n",
        "\n",
        "O banco possui a estrutura abaixo:\n",
        "- https://github.com/jpwhite3/northwind-SQLite3/blob/main/README.md\n"
      ],
      "metadata": {
        "id": "kA1VzdYCfQAF"
      }
    },
    {
      "cell_type": "code",
      "source": [
        "!wget https://raw.githubusercontent.com/jpwhite3/northwind-SQLite3/master/dist/northwind.db -O northwind.db"
      ],
      "metadata": {
        "id": "qFyXwjsZgA7V"
      },
      "execution_count": null,
      "outputs": []
    },
    {
      "cell_type": "code",
      "source": [
        "import sqlite3\n",
        "import pandas as pd\n",
        "conexao = sqlite3.connect('northwind.db')\n",
        "pd.read_sql('SELECT name, sql  FROM sqlite_master WHERE type=\"table\"',conexao)"
      ],
      "metadata": {
        "id": "ALyVZCppgmLM"
      },
      "execution_count": null,
      "outputs": []
    },
    {
      "cell_type": "markdown",
      "source": [
        "# Aplicação REST API"
      ],
      "metadata": {
        "id": "0o2L5ukNnl-Y"
      }
    },
    {
      "cell_type": "markdown",
      "source": [
        "Cria a aplicação principal do FastAPI (app)"
      ],
      "metadata": {
        "id": "u1FQFm5iu9hW"
      }
    },
    {
      "cell_type": "code",
      "source": [
        "from fastapi import FastAPI # cria o serviço de Rest API\n",
        "\n",
        "from fastapi.responses import JSONResponse # converte valores para JSON\n",
        "# cria a aplicação rest api\n",
        "app = FastAPI()\n",
        "\n",
        "# domínio inicial da aplicação\n",
        "@app.get('/')\n",
        "def home():\n",
        "  return f'Restfull API da ECAA07 Banco de Dados'"
      ],
      "metadata": {
        "id": "SPX1NGZknr-i"
      },
      "execution_count": null,
      "outputs": []
    },
    {
      "cell_type": "markdown",
      "source": [
        "## Conectando o banco de dados"
      ],
      "metadata": {
        "id": "cBVnbu_hvgev"
      }
    },
    {
      "cell_type": "markdown",
      "source": [
        "### Tabela Produtos sem Filtro"
      ],
      "metadata": {
        "id": "PwCyDJay5Uju"
      }
    },
    {
      "cell_type": "markdown",
      "source": [
        "Criando a rota ```<url>/produtos``` para acessar a lista de produtos.\n",
        "\n",
        "Exemplo:\n",
        "- https://50e4-34-91-157-85.ngrok-free.app/produtos"
      ],
      "metadata": {
        "id": "aYQM0iYN7VM2"
      }
    },
    {
      "cell_type": "code",
      "source": [
        "@app.get('/produtos')\n",
        "def prod():\n",
        "  conexao = sqlite3.connect('northwind.db')\n",
        "  cursor = conexao.cursor()\n",
        "  cursor.execute(\"SELECT * FROM Products\")\n",
        "  items = cursor.fetchall()\n",
        "  conexao.close()\n",
        "  return items"
      ],
      "metadata": {
        "id": "PSbvyAL0vgA-"
      },
      "execution_count": null,
      "outputs": []
    },
    {
      "cell_type": "markdown",
      "source": [
        "### Tabela Categories com Filtro"
      ],
      "metadata": {
        "id": "j-Qp6R2P5X33"
      }
    },
    {
      "cell_type": "markdown",
      "source": [
        "Visualizando Tabela"
      ],
      "metadata": {
        "id": "3Szr4-Dy6kx_"
      }
    },
    {
      "cell_type": "code",
      "source": [
        "conexao = sqlite3.connect('northwind.db')\n",
        "pd.read_sql('SELECT CategoryID, CategoryName, Description FROM Categories',conexao)"
      ],
      "metadata": {
        "id": "wrXw2TiY5zco"
      },
      "execution_count": null,
      "outputs": []
    },
    {
      "cell_type": "markdown",
      "source": [
        "Criando a rota ```<url>/categoria/{item_id}``` para acessar uma categoria específica do banco de dados.\n",
        "\n",
        "Exemplos:\n",
        "- https://50e4-34-91-157-85.ngrok-free.app/categoria/2\n",
        "- https://50e4-34-91-157-85.ngrok-free.app/categoria/6"
      ],
      "metadata": {
        "id": "9FHd8r8H62BW"
      }
    },
    {
      "cell_type": "code",
      "source": [
        "@app.get('/categorias/{item_id}')\n",
        "def categ(item_id:int):\n",
        "  conexao = sqlite3.connect('northwind.db')\n",
        "  cursor = conexao.cursor()\n",
        "  cursor.execute(\"SELECT CategoryName, Description FROM Categories WHERE CategoryID=?\",(item_id,))\n",
        "  items = cursor.fetchall()\n",
        "  conexao.close()\n",
        "  return items"
      ],
      "metadata": {
        "id": "mokVoxbw5XHY"
      },
      "execution_count": null,
      "outputs": []
    },
    {
      "cell_type": "markdown",
      "source": [
        "# Atividades"
      ],
      "metadata": {
        "id": "1wCg9clQ6sxX"
      }
    },
    {
      "cell_type": "markdown",
      "source": [
        "## Rota de Fornecedores por País"
      ],
      "metadata": {
        "id": "PGPW3ulU8L4I"
      }
    },
    {
      "cell_type": "markdown",
      "source": [
        "Crie um rota ```<url>/fornecedor/{pais}``` para selecionar os fornecedores de um determinado país.\n",
        "\n",
        "Exemplos:\n",
        "- https://50e4-34-91-157-85.ngrok-free.app/fornecedor/USA\n",
        "- https://50e4-34-91-157-85.ngrok-free.app/fornecedor/Japan"
      ],
      "metadata": {
        "id": "ozPC6Uem6wkI"
      }
    },
    {
      "cell_type": "code",
      "source": [
        "conexao = sqlite3.connect('northwind.db')\n",
        "pd.read_sql('SELECT DISTINCT Country FROM Suppliers',conexao)"
      ],
      "metadata": {
        "id": "u7b_l4sp7mwu"
      },
      "execution_count": null,
      "outputs": []
    },
    {
      "cell_type": "code",
      "source": [],
      "metadata": {
        "id": "WLeiwXt_8K4Q"
      },
      "execution_count": null,
      "outputs": []
    },
    {
      "cell_type": "markdown",
      "source": [
        "# Ativando o Serviço e Gerando Link"
      ],
      "metadata": {
        "id": "elweNpT2pOCy"
      }
    },
    {
      "cell_type": "markdown",
      "source": [
        "Só funciona fora da UNIFEI:\n",
        "- Vá em https://dashboard.ngrok.com/login\n",
        "- Crie uma conta.\n",
        "- Gere um token de acesso: https://dashboard.ngrok.com/get-started/your-authtoken\n",
        "- Insira o token no código abaixo"
      ],
      "metadata": {
        "id": "YnLRRDMppTu4"
      }
    },
    {
      "cell_type": "code",
      "source": [
        "from pyngrok import ngrok, conf\n",
        "conf.get_default().auth_token = '21bBJ3C4LOIh31WGirKRk7rPbYj_7jr77kF6TvBoUXs95REDj'\n",
        "\n",
        "import nest_asyncio #permite execução de servidor em loop no Colab\n",
        "from pyngrok import ngrok #dá um nome de DNS real para a aplicação\n",
        "import uvicorn #gestor de aplicação web\n",
        "\n",
        "connection_string = ngrok.connect(8000).public_url\n",
        "\n",
        "print()\n",
        "print('Abra no navegador:', connection_string + '/docs')\n",
        "print()\n",
        "nest_asyncio.apply()\n",
        "uvicorn.run(app, port=8000)"
      ],
      "metadata": {
        "id": "uI2a2miXpnG7"
      },
      "execution_count": null,
      "outputs": []
    },
    {
      "cell_type": "markdown",
      "source": [
        "Teste a aplicação no link gerado acima."
      ],
      "metadata": {
        "id": "tscFynd8psoE"
      }
    }
  ]
}