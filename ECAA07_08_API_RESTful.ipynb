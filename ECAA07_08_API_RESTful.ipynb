{
  "nbformat": 4,
  "nbformat_minor": 0,
  "metadata": {
    "colab": {
      "provenance": [],
      "authorship_tag": "ABX9TyMQlYE/Eya1ZUBctXEyQWX0",
      "include_colab_link": true
    },
    "kernelspec": {
      "name": "python3",
      "display_name": "Python 3"
    },
    "language_info": {
      "name": "python"
    }
  },
  "cells": [
    {
      "cell_type": "markdown",
      "metadata": {
        "id": "view-in-github",
        "colab_type": "text"
      },
      "source": [
        "<a href=\"https://colab.research.google.com/github/valerio-unifei/ECAA07/blob/main/ECAA07_08_API_RESTful.ipynb\" target=\"_parent\"><img src=\"https://colab.research.google.com/assets/colab-badge.svg\" alt=\"Open In Colab\"/></a>"
      ]
    },
    {
      "cell_type": "markdown",
      "source": [
        "**Atenção:**\n",
        "\n",
        "Este código funciona apenas no VSCode no Ubuntu nas máquinas do LEC."
      ],
      "metadata": {
        "id": "FxdbT-BU3GOx"
      }
    },
    {
      "cell_type": "markdown",
      "source": [
        "# API RESTful"
      ],
      "metadata": {
        "id": "1HHsmSeefj_X"
      }
    },
    {
      "cell_type": "markdown",
      "source": [
        "**Representational State Transfer (REST)**: Transferência Representacional de Estado\n",
        "\n",
        "Uma **API RESTful** (também conhecida como API REST) é uma interface de programação de aplicativos (API ou API Web) que está em conformidade com as restrições do estilo de arquitetura REST e permite a interação com serviços Web RESTful.\n",
        "\n",
        "Uma **API** é um conjunto de definições e protocolos para construir e integrar software de aplicação. Às vezes, é chamado de contrato entre um provedor de informações e um usuário de informações – estabelecendo o conteúdo exigido do consumidor (a chamada) e o conteúdo exigido pelo produtor (a resposta). Por exemplo, o design da API para um serviço meteorológico pode especificar que o usuário forneça um CEP e que o produtor responda com uma resposta em duas partes, sendo a primeira a temperatura alta e a segunda a baixa.  \n",
        "\n",
        "Em outras palavras, se você deseja interagir com um computador ou sistema para recuperar informações ou executar uma função, uma API o ajuda a comunicar o que deseja a esse sistema para que ele possa entender e atender à solicitação.\n",
        "\n",
        "Você pode pensar em uma API como um mediador entre os usuários ou clientes e os recursos ou serviços da Web que eles desejam obter. É também uma forma de uma organização compartilhar recursos e informações enquanto mantém a segurança, o controle e a autenticação — determinando quem tem acesso a quê.\n",
        "\n",
        "<img src=\"https://cdn-ajfbi.nitrocdn.com/GuYcnotRkcKfJXshTEEKnCZTOtUwxDnm/assets/static/optimized/rev-5f831ce/wp-content/uploads/2020/01/rest.png\">"
      ],
      "metadata": {
        "id": "QqlnFLjvfmTK"
      }
    },
    {
      "cell_type": "markdown",
      "source": [
        "# Iniciando a Aplicação Web"
      ],
      "metadata": {
        "id": "4tq4CfpyhRd4"
      }
    },
    {
      "cell_type": "markdown",
      "source": [
        "## Bibliotecas para Python"
      ],
      "metadata": {
        "id": "jznFh6B3hV6N"
      }
    },
    {
      "cell_type": "code",
      "execution_count": null,
      "metadata": {
        "id": "LpLQPZaKXvx2"
      },
      "outputs": [],
      "source": [
        "!pip install fastapi nest-asyncio pyngrok uvicorn"
      ]
    },
    {
      "cell_type": "markdown",
      "source": [
        "## Instalando MongoDB"
      ],
      "metadata": {
        "id": "JupAhBs0iI_I"
      }
    },
    {
      "cell_type": "code",
      "source": [
        "!apt install mongodb >log\n",
        "!service mongodb start"
      ],
      "metadata": {
        "id": "PNIg0E0kidKf"
      },
      "execution_count": null,
      "outputs": []
    },
    {
      "cell_type": "markdown",
      "source": [
        "## Preparando Banco"
      ],
      "metadata": {
        "id": "bS7K8k1CipZ5"
      }
    },
    {
      "cell_type": "code",
      "source": [
        "from pymongo import MongoClient\n",
        "# conectando ao MongoDB Local\n",
        "client = MongoClient()\n",
        "# criando banco\n",
        "db = client.get_database('ecaa07')\n",
        "# criando coleção\n",
        "col = db.get_collection('medidas')\n",
        "db.name, col.name"
      ],
      "metadata": {
        "id": "90VFtPVki4gX"
      },
      "execution_count": null,
      "outputs": []
    },
    {
      "cell_type": "markdown",
      "source": [
        "### Inserindo Dados"
      ],
      "metadata": {
        "id": "g3Q9HGtljXu3"
      }
    },
    {
      "cell_type": "markdown",
      "source": [
        "Dados sintéticos a partir de \"2010-08-01 12:00:00\":"
      ],
      "metadata": {
        "id": "eXHe_ZiClMRH"
      }
    },
    {
      "cell_type": "code",
      "source": [
        "from random import seed, randint, random\n",
        "from datetime import datetime, timedelta\n",
        "matr = int(input('Forneça sua matrícula: '))\n",
        "seed(matr)\n",
        "# gerando medidas sintéticas\n",
        "medidas = []\n",
        "for i in range(randint(50,100)):\n",
        "  med = {'dispositivo':1,'instante':datetime(2010,8,1,12,0,0)+timedelta(minutes=i)}\n",
        "  for c in range(randint(3,6)):\n",
        "    med[f'sensor_{c}'] = random()*1000.0\n",
        "  medidas.append(med)\n",
        "# inserindo no banco\n",
        "res = col.insert_many(medidas)\n",
        "print('Sucesso:',res.acknowledged,', inseridos:',len(res.inserted_ids))"
      ],
      "metadata": {
        "id": "PAUeT92PjZ35"
      },
      "execution_count": null,
      "outputs": []
    },
    {
      "cell_type": "markdown",
      "source": [
        "# Configurando API RESTful"
      ],
      "metadata": {
        "id": "0o2L5ukNnl-Y"
      }
    },
    {
      "cell_type": "code",
      "source": [
        "from fastapi import FastAPI # cria o serviço de Rest API\n",
        "from fastapi.responses import JSONResponse # converte valores para JSON\n",
        "app = FastAPI()\n",
        "# domínio inicial da aplicação\n",
        "@app.get('/')\n",
        "def home():\n",
        "  return f'Aplicação de {matr}'"
      ],
      "metadata": {
        "id": "SPX1NGZknr-i"
      },
      "execution_count": null,
      "outputs": []
    },
    {
      "cell_type": "markdown",
      "source": [
        "## Listando Medidas"
      ],
      "metadata": {
        "id": "9L26BmI7n9Zr"
      }
    },
    {
      "cell_type": "code",
      "source": [
        "@app.get('/medidas')\n",
        "def medidas():\n",
        "  client = MongoClient()\n",
        "  # TODO: faça a leitura de todas as medidas do banco\n",
        "  json = []\n",
        "  return json"
      ],
      "metadata": {
        "id": "sFJvHvSnn_8X"
      },
      "execution_count": null,
      "outputs": []
    },
    {
      "cell_type": "markdown",
      "source": [
        "## Filtrando por Dispositivo"
      ],
      "metadata": {
        "id": "xw3Mehc4odnh"
      }
    },
    {
      "cell_type": "code",
      "source": [
        "@app.post('/dispositivo')\n",
        "def dispositivo(nome:str):\n",
        "  client = MongoClient()\n",
        "  # TODO: faça uma query para ler medidas do dispositivo pedido\n",
        "  json = []\n",
        "  return json"
      ],
      "metadata": {
        "id": "dG_6egZAogko"
      },
      "execution_count": null,
      "outputs": []
    },
    {
      "cell_type": "markdown",
      "source": [
        "## Filtrando por Intervalo de Tempo"
      ],
      "metadata": {
        "id": "IJ2sCyTFo2he"
      }
    },
    {
      "cell_type": "code",
      "source": [
        "@app.post('/intervalo')\n",
        "def intervalo(inicio:str, fim:str):\n",
        "  client = MongoClient()\n",
        "  # TODO: faça uma query para ler medidas de um intervalo de tempo\n",
        "  json = []\n",
        "  return json"
      ],
      "metadata": {
        "id": "K3_6M_6Do8qW"
      },
      "execution_count": null,
      "outputs": []
    },
    {
      "cell_type": "markdown",
      "source": [
        "# Ativando o Serviço e Gerando Link"
      ],
      "metadata": {
        "id": "elweNpT2pOCy"
      }
    },
    {
      "cell_type": "markdown",
      "source": [
        "Vá no site: https://dashboard.ngrok.com/login\n",
        "- Crie uma conta.\n",
        "- Gere um token de acesso: https://dashboard.ngrok.com/get-started/your-authtoken\n",
        "- Insira o token no código abaixo"
      ],
      "metadata": {
        "id": "YnLRRDMppTu4"
      }
    },
    {
      "cell_type": "code",
      "source": [
        "from pyngrok import ngrok, conf\n",
        "conf.get_default().auth_token = 'SEU_TOKEN_AQUI'\n",
        "\n",
        "import nest_asyncio #permite execução de servidor em loop no Colab\n",
        "from pyngrok import ngrok #dá um nome de DNS real para a aplicação\n",
        "import uvicorn #gestor de aplicação web\n",
        "\n",
        "connection_string = ngrok.connect(8000).public_url\n",
        "\n",
        "print()\n",
        "print('Abra no navegador:', connection_string + '/docs')\n",
        "print()\n",
        "nest_asyncio.apply()\n",
        "uvicorn.run(app, port=8000)"
      ],
      "metadata": {
        "id": "uI2a2miXpnG7"
      },
      "execution_count": null,
      "outputs": []
    },
    {
      "cell_type": "markdown",
      "source": [
        "Teste a aplicação no link gerado acima."
      ],
      "metadata": {
        "id": "tscFynd8psoE"
      }
    }
  ]
}