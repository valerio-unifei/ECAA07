{
  "nbformat": 4,
  "nbformat_minor": 0,
  "metadata": {
    "colab": {
      "provenance": [],
      "authorship_tag": "ABX9TyPAPq1wp1JlQ0SkQQxZVZN0",
      "include_colab_link": true
    },
    "kernelspec": {
      "name": "python3",
      "display_name": "Python 3"
    },
    "language_info": {
      "name": "python"
    }
  },
  "cells": [
    {
      "cell_type": "markdown",
      "metadata": {
        "id": "view-in-github",
        "colab_type": "text"
      },
      "source": [
        "<a href=\"https://colab.research.google.com/github/valerio-unifei/ECAA07/blob/main/ECAA07_06_Servidor.ipynb\" target=\"_parent\"><img src=\"https://colab.research.google.com/assets/colab-badge.svg\" alt=\"Open In Colab\"/></a>"
      ]
    },
    {
      "cell_type": "markdown",
      "metadata": {
        "id": "GUpHzutnoqbR"
      },
      "source": [
        "# Instalando o MySQL no Colab"
      ]
    },
    {
      "cell_type": "code",
      "metadata": {
        "id": "awq67TdLKTDI"
      },
      "source": [
        "!apt-get install mysql-server > /dev/null\n",
        "!service mysql start"
      ],
      "execution_count": null,
      "outputs": []
    },
    {
      "cell_type": "markdown",
      "metadata": {
        "id": "EnwTE0OKsptF"
      },
      "source": [
        "Permitindo o acesso ao root"
      ]
    },
    {
      "cell_type": "code",
      "metadata": {
        "id": "CIDtZYsYsoOF"
      },
      "source": [
        "!mysql -e \"ALTER USER 'root'@'localhost' IDENTIFIED WITH mysql_native_password BY 'root'\""
      ],
      "execution_count": null,
      "outputs": []
    },
    {
      "cell_type": "markdown",
      "metadata": {
        "id": "KIL13v-Nos7r"
      },
      "source": [
        "## Instalando o PyMySQL para executar comandos SQL como código no Python"
      ]
    },
    {
      "cell_type": "code",
      "metadata": {
        "id": "8AFLBhe_MKhv"
      },
      "source": [
        "!pip -q install PyMySQL\n",
        "%load_ext sql\n",
        "%config SqlMagic.feedback=True\n",
        "%config SqlMagic.autopandas=True\n",
        "%sql mysql+pymysql://root:root@/"
      ],
      "execution_count": null,
      "outputs": []
    },
    {
      "cell_type": "markdown",
      "metadata": {
        "id": "jWSePejasX30"
      },
      "source": [
        "# Criando Banco de Dados"
      ]
    },
    {
      "cell_type": "markdown",
      "metadata": {
        "id": "8QnmN0ab3B0l"
      },
      "source": [
        "Base Exemplo:\n",
        "\n",
        "https://github.com/datacharmer/test_db/blob/master/employees.sql"
      ]
    },
    {
      "cell_type": "code",
      "metadata": {
        "id": "Kd_FsruMsaRu"
      },
      "source": [
        "%sql CREATE DATABASE ECAA07Base;"
      ],
      "execution_count": null,
      "outputs": []
    },
    {
      "cell_type": "markdown",
      "metadata": {
        "id": "nSN8xe-U84gU"
      },
      "source": [
        "## Direcionando base para criação de tabelas e dados"
      ]
    },
    {
      "cell_type": "code",
      "metadata": {
        "id": "rhFeVnoV4nM0"
      },
      "source": [
        "%sql USE ECAA07Base;"
      ],
      "execution_count": null,
      "outputs": []
    },
    {
      "cell_type": "markdown",
      "metadata": {
        "id": "GijvszxK2CJj"
      },
      "source": [
        "##Criando Tabelas"
      ]
    },
    {
      "cell_type": "code",
      "metadata": {
        "id": "khiM7lHH2BOP"
      },
      "source": [
        "%%sql\n",
        "\n",
        "CREATE TABLE employees (\n",
        "    emp_no      INT             NOT NULL,\n",
        "    birth_date  DATE            NOT NULL,\n",
        "    first_name  VARCHAR(14)     NOT NULL,\n",
        "    last_name   VARCHAR(16)     NOT NULL,\n",
        "    gender      ENUM ('M','F')  NOT NULL,\n",
        "    hire_date   DATE            NOT NULL,\n",
        "    PRIMARY KEY (emp_no)\n",
        ");\n",
        "\n",
        "CREATE TABLE departments (\n",
        "    dept_no     CHAR(4)         NOT NULL,\n",
        "    dept_name   VARCHAR(40)     NOT NULL,\n",
        "    PRIMARY KEY (dept_no),\n",
        "    UNIQUE  KEY (dept_name)\n",
        ");\n",
        "\n",
        "CREATE TABLE dept_emp (\n",
        "    emp_no      INT             NOT NULL,\n",
        "    dept_no     CHAR(4)         NOT NULL,\n",
        "    from_date   DATE            NOT NULL,\n",
        "    to_date     DATE            NOT NULL,\n",
        "    FOREIGN KEY (emp_no)  REFERENCES employees   (emp_no)  ON DELETE CASCADE,\n",
        "    FOREIGN KEY (dept_no) REFERENCES departments (dept_no) ON DELETE CASCADE,\n",
        "    PRIMARY KEY (emp_no,dept_no)\n",
        ");"
      ],
      "execution_count": null,
      "outputs": []
    },
    {
      "cell_type": "markdown",
      "metadata": {
        "id": "RIkaHZ7i5VW-"
      },
      "source": [
        "## Inserindo valores"
      ]
    },
    {
      "cell_type": "code",
      "metadata": {
        "id": "JC1QwZ585Xpk"
      },
      "source": [
        "%%sql\n",
        "\n",
        "INSERT INTO employees\n",
        "  VALUES\n",
        "  (1,'1974-06-30','Jupiter','Natalino','M','2015-09-10'),\n",
        "  (2,'1978-12-10','Amancia','Mefisto','F','2016-02-14'),\n",
        "  (3,'1984-05-23','Mefisto','Papanatas','M','2016-02-14'),\n",
        "  (4,'1977-03-03','Sigismunda','Moluco','F','2013-06-07');\n",
        "\n",
        "INSERT INTO departments\n",
        "  VALUES\n",
        "  (1,'Diretoria'),\n",
        "  (2,'Vendas');\n",
        "\n",
        "INSERT INTO dept_emp\n",
        "  VALUES\n",
        "  (1,1,'2015-09-10','2099-01-01'),\n",
        "  (2,1,'2016-02-14','2019-03-10'),\n",
        "  (3,2,'2016-02-14','2017-06-20'),\n",
        "  (4,2,'2013-06-07','2099-01-01');"
      ],
      "execution_count": null,
      "outputs": []
    },
    {
      "cell_type": "markdown",
      "metadata": {
        "id": "dOjkSGq-8ynj"
      },
      "source": [
        "## Definindo Usuários para Banco"
      ]
    },
    {
      "cell_type": "code",
      "metadata": {
        "id": "fQXsdxwW80_S"
      },
      "source": [
        "%%sql\n",
        "\n",
        "CREATE USER 'ecaa07user'@'localhost' IDENTIFIED BY 'sqlehdivertido2021sqn';\n",
        "\n",
        "GRANT ALL PRIVILEGES ON ECAA07Base.* TO 'ecaa07user'@'localhost';\n",
        "\n",
        "CREATE USER 'ecaa07web'@'%' IDENTIFIED BY 'se#for#facil#a#turma&invade09';\n",
        "\n",
        "GRANT SELECT ON ECAA07Base.employees TO 'ecaa07web'@'%';"
      ],
      "execution_count": null,
      "outputs": []
    },
    {
      "cell_type": "markdown",
      "metadata": {
        "id": "2CCvci1m-jWD"
      },
      "source": [
        "# Acesso Teste"
      ]
    },
    {
      "cell_type": "markdown",
      "metadata": {
        "id": "ysPaDxRLUL7H"
      },
      "source": [
        "Código 1"
      ]
    },
    {
      "cell_type": "code",
      "metadata": {
        "id": "ap91stvI-mPS"
      },
      "source": [
        "import pymysql.cursors\n",
        "\n",
        "conn = pymysql.connect(\n",
        "    host=\"localhost\",\n",
        "    user=\"ecaa07user\",\n",
        "    password=\"sqlehdivertido2021sqn\",\n",
        "    database='ECAA07Base',\n",
        "    )\n",
        "\n",
        "cursor = conn.cursor()\n",
        "\n",
        "cursor.execute('''\n",
        "  SELECT\n",
        "    e.first_name as nome,\n",
        "    e.last_name as sobrenome,\n",
        "    e.birth_date as nascimento,\n",
        "    e.gender as sexo,\n",
        "    e.hire_date as contratacao,\n",
        "    d.dept_name as departamento\n",
        "  FROM employees as e INNER JOIN dept_emp as de ON e.emp_no = de.emp_no\n",
        "    INNER JOIN departments as d ON d.dept_no = de.dept_no\n",
        "  '''\n",
        " )\n",
        "\n",
        "cursor.fetchall()"
      ],
      "execution_count": null,
      "outputs": []
    },
    {
      "cell_type": "markdown",
      "metadata": {
        "id": "RC6pTTvzUOUd"
      },
      "source": [
        "Código 2"
      ]
    },
    {
      "cell_type": "code",
      "metadata": {
        "id": "Npj6PJGwCB3q"
      },
      "source": [
        "import pymysql.cursors\n",
        "\n",
        "conn = pymysql.connect(\n",
        "    host=\"localhost\",\n",
        "    user=\"ecaa07web\",\n",
        "    password=\"se#for#facil#a#turma&invade09\",\n",
        "    database='ECAA07Base',\n",
        "    )\n",
        "\n",
        "cursor = conn.cursor()\n",
        "\n",
        "cursor.execute('''\n",
        "  SELECT\n",
        "    e.first_name as nome,\n",
        "    e.last_name as sobrenome,\n",
        "    e.birth_date as nascimento,\n",
        "    e.gender as sexo,\n",
        "    e.hire_date as contratacao,\n",
        "    d.dept_name as departamento\n",
        "  FROM employees as e INNER JOIN dept_emp as de ON e.emp_no = de.emp_no\n",
        "    INNER JOIN departments as d ON d.dept_no = de.dept_no\n",
        "  '''\n",
        " )\n",
        "\n",
        "cursor.fetchall()"
      ],
      "execution_count": null,
      "outputs": []
    },
    {
      "cell_type": "code",
      "source": [
        "%%sql\n",
        "GRANT SELECT ON ECAA07Base.dept_emp TO 'ecaa07web'@'%';\n",
        "GRANT SELECT ON ECAA07Base.departments TO 'ecaa07web'@'%';"
      ],
      "metadata": {
        "id": "H1HuGZEsaBt0"
      },
      "execution_count": null,
      "outputs": []
    },
    {
      "cell_type": "markdown",
      "metadata": {
        "id": "qywY9czgUPol"
      },
      "source": [
        "Código 3"
      ]
    },
    {
      "cell_type": "code",
      "metadata": {
        "id": "f3KI1ZQKCIM-"
      },
      "source": [
        "import pymysql.cursors\n",
        "\n",
        "conn = pymysql.connect(\n",
        "    host=\"localhost\",\n",
        "    user=\"ecaa07web\",\n",
        "    password=\"se#for#facil#a#turma&invade09\",\n",
        "    database='ECAA07Base',\n",
        "    )\n",
        "\n",
        "cursor = conn.cursor()\n",
        "\n",
        "cursor.execute(' SELECT * FROM employees')\n",
        "\n",
        "cursor.fetchall()"
      ],
      "execution_count": null,
      "outputs": []
    },
    {
      "cell_type": "markdown",
      "source": [
        "# Atividades"
      ],
      "metadata": {
        "id": "e0CHHM9Ma7IE"
      }
    },
    {
      "cell_type": "markdown",
      "source": [
        "Crie um novo banco neste servidor MySQL para armazenar dados de uma concessionária, seguindo os seguintes passos:\n",
        "1. Crie um novo banco\n",
        "2. Direcione o banco para edição\n",
        "3. Crie as tabelas da aplicação com relacionamentos\n",
        "4. Insira pelo menos 1 linha em cada tabela\n",
        "5. Crie um VIEW com uma consulta que aglutine as tabelas\n",
        "5. Crie um usuário que pode apenas executar esse VIEW."
      ],
      "metadata": {
        "id": "tUy9cRNtoDaq"
      }
    },
    {
      "cell_type": "code",
      "source": [
        "%%sql\n"
      ],
      "metadata": {
        "id": "KHcBP_v8a91z"
      },
      "execution_count": null,
      "outputs": []
    }
  ]
}