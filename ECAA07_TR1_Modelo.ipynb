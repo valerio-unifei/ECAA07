{
  "nbformat": 4,
  "nbformat_minor": 0,
  "metadata": {
    "colab": {
      "name": "ECAA07 TR1 Modelo.ipynb",
      "provenance": [],
      "collapsed_sections": [],
      "authorship_tag": "ABX9TyOSzRd3UEWICbHMGO72bs5r",
      "include_colab_link": true
    },
    "kernelspec": {
      "name": "python3",
      "display_name": "Python 3"
    },
    "language_info": {
      "name": "python"
    }
  },
  "cells": [
    {
      "cell_type": "markdown",
      "metadata": {
        "id": "view-in-github",
        "colab_type": "text"
      },
      "source": [
        "<a href=\"https://colab.research.google.com/github/valerio-unifei/ECAA07/blob/main/ECAA07_TR1_Modelo.ipynb\" target=\"_parent\"><img src=\"https://colab.research.google.com/assets/colab-badge.svg\" alt=\"Open In Colab\"/></a>"
      ]
    },
    {
      "cell_type": "markdown",
      "metadata": {
        "id": "EycKYvr2UeAK"
      },
      "source": [
        "# Trabalho 1 - SQL"
      ]
    },
    {
      "cell_type": "markdown",
      "metadata": {
        "id": "m70pFM0Gf7KB"
      },
      "source": [
        "Nome: Carlos Henrique Valério de Moraes\n",
        "\n",
        "Matrícula: (professor)"
      ]
    },
    {
      "cell_type": "markdown",
      "metadata": {
        "id": "rsaltn6WgG8V"
      },
      "source": [
        "# Banco Original em Arquivo CSV"
      ]
    },
    {
      "cell_type": "markdown",
      "metadata": {
        "id": "R5o2e9E1R5E6"
      },
      "source": [
        "## Analisando Arquivo CSV"
      ]
    },
    {
      "cell_type": "code",
      "metadata": {
        "id": "UFZQtsvNgKrM"
      },
      "source": [
        "import pandas as pd\n",
        "\n",
        "banco = pd.read_csv('https://github.com/valerio-unifei/ECAA07/raw/main/Bancos/ecaa07inv_079.csv')\n",
        "banco.head()"
      ],
      "execution_count": null,
      "outputs": []
    },
    {
      "cell_type": "code",
      "metadata": {
        "id": "z8CQiJEc4VvI"
      },
      "source": [
        "#convertendo campo numérico para data\n",
        "banco['data'] = pd.to_datetime(banco['data'], format='%Y%m%d')\n",
        "# ordenando por id do fundo e data do rendimento\n",
        "banco = banco.sort_values(by = ['id','data'])\n",
        "banco.head()"
      ],
      "execution_count": null,
      "outputs": []
    },
    {
      "cell_type": "code",
      "metadata": {
        "id": "Bl5Jk2KvhBKV"
      },
      "source": [
        "# informações sobre a base\n",
        "print(banco.info())\n",
        "print(banco.nunique())"
      ],
      "execution_count": null,
      "outputs": []
    },
    {
      "cell_type": "markdown",
      "metadata": {
        "id": "R47ohZLYR9nC"
      },
      "source": [
        "## Criando Arquivo SQLite com Tabela Auxiliar"
      ]
    },
    {
      "cell_type": "code",
      "metadata": {
        "id": "4lujhdX8ScdJ"
      },
      "source": [
        "!rm ecaa07inv_079.db"
      ],
      "execution_count": null,
      "outputs": []
    },
    {
      "cell_type": "code",
      "metadata": {
        "id": "Wd7NRKm0SD0l"
      },
      "source": [
        "import sqlite3\n",
        "with sqlite3.connect('ecaa07inv_079.db') as conn:\n",
        "  banco.to_sql('auxiliar',conn)"
      ],
      "execution_count": null,
      "outputs": []
    },
    {
      "cell_type": "markdown",
      "metadata": {
        "id": "Hqu8UKZmOS0w"
      },
      "source": [
        "# Banco de Dados em SQLite"
      ]
    },
    {
      "cell_type": "code",
      "metadata": {
        "id": "p2ev_GjWOTJG"
      },
      "source": [
        "%load_ext sql\n",
        "\n",
        "%sql sqlite:///ecaa07inv_079.db"
      ],
      "execution_count": null,
      "outputs": []
    },
    {
      "cell_type": "markdown",
      "metadata": {
        "id": "bMNHGz4OUhk7"
      },
      "source": [
        "## Criando Tabelas do Banco"
      ]
    },
    {
      "cell_type": "code",
      "metadata": {
        "id": "dzmkt-j5PZRa"
      },
      "source": [
        "%%sql \n",
        "CREATE TABLE IF NOT EXISTS classes (\n",
        "  classe_id   INTEGER PRIMARY KEY AUTOINCREMENT,\n",
        "  classe      TEXT NOT NULL\n",
        ");"
      ],
      "execution_count": null,
      "outputs": []
    },
    {
      "cell_type": "code",
      "metadata": {
        "id": "AZj6I50wkpvs"
      },
      "source": [
        "%%sql \n",
        "CREATE TABLE IF NOT EXISTS fundos (\n",
        "  fundo_id    INTEGER PRIMARY KEY AUTOINCREMENT,\n",
        "  cnpj        TEXT,\n",
        "  id          INTEGER NOT NULL,\n",
        "  fundo       TEXT NOT NULL,\n",
        "  classe_id   INTEGER REFERENCES classes(classe_id) ON DELETE CASCADE,\n",
        "  minimo      REAL,\n",
        "  taxa        INTEGER,\n",
        "  estudo      INTEGER,\n",
        "  fator       REAL\n",
        ");"
      ],
      "execution_count": null,
      "outputs": []
    },
    {
      "cell_type": "code",
      "metadata": {
        "id": "hbNLHcLNmHfx"
      },
      "source": [
        "%%sql\n",
        "CREATE TABLE IF NOT EXISTS rendimentos (\n",
        "  rendimento_id INTEGER PRIMARY KEY AUTOINCREMENT,\n",
        "  fundo_id      INTEGER REFERENCES fundos(fundo_id) ON DELETE CASCADE,\n",
        "  rendimento    REAL,\n",
        "  data          DATETIME,\n",
        "  patrimonio    REAL,\n",
        "  calculo       REAL,\n",
        "  momento       INTEGER,\n",
        "  custo         REAL\n",
        ");"
      ],
      "execution_count": null,
      "outputs": []
    },
    {
      "cell_type": "markdown",
      "metadata": {
        "id": "D1lTOpJDoBM1"
      },
      "source": [
        "### Verificando estrutura"
      ]
    },
    {
      "cell_type": "code",
      "metadata": {
        "id": "u30SJGv-ni71"
      },
      "source": [
        "%sql SELECT * FROM sqlite_master"
      ],
      "execution_count": null,
      "outputs": []
    },
    {
      "cell_type": "markdown",
      "metadata": {
        "id": "nY4kekEin5Jx"
      },
      "source": [
        "# Inserindo Dados"
      ]
    },
    {
      "cell_type": "markdown",
      "metadata": {
        "id": "DEYvh3tGSxQa"
      },
      "source": [
        "## Usando Tabela Auxiliar na Importação"
      ]
    },
    {
      "cell_type": "code",
      "metadata": {
        "id": "VOyU4nkMSv0o"
      },
      "source": [
        "%sql SELECT * FROM auxiliar LIMIT 10"
      ],
      "execution_count": null,
      "outputs": []
    },
    {
      "cell_type": "code",
      "metadata": {
        "id": "8r965paeTiVI"
      },
      "source": [
        "%sql INSERT INTO classes (classe) SELECT DISTINCT classe FROM auxiliar"
      ],
      "execution_count": null,
      "outputs": []
    },
    {
      "cell_type": "code",
      "metadata": {
        "id": "n2CrogHrT-Ep"
      },
      "source": [
        "%%sql\n",
        "  INSERT INTO fundos (cnpj, id, fundo, minimo, taxa, estudo, fator, classe_id)\n",
        "  SELECT DISTINCT a.cnpj, a.id, a.fundo, a.minimo, a.taxa, a.estudo, a.fator, b.classe_id\n",
        "  FROM auxiliar as a INNER JOIN classes as b ON a.classe = b.classe"
      ],
      "execution_count": null,
      "outputs": []
    },
    {
      "cell_type": "code",
      "metadata": {
        "id": "HqxyADnVU3k2"
      },
      "source": [
        "%%sql\n",
        "  INSERT INTO rendimentos (fundo_id, rendimento, data, patrimonio, calculo, momento, custo)\n",
        "  SELECT DISTINCT a.fundo_id, b.rendimento, b.data, b.patrimonio, b.calculo, b.momento, b.custo\n",
        "  FROM fundos as a INNER JOIN auxiliar as b ON a.id = b.id"
      ],
      "execution_count": null,
      "outputs": []
    },
    {
      "cell_type": "code",
      "metadata": {
        "id": "ligryxHdgKl1"
      },
      "source": [
        "%sql DROP TABLE IF EXISTS auxiliar"
      ],
      "execution_count": null,
      "outputs": []
    },
    {
      "cell_type": "markdown",
      "metadata": {
        "id": "V_m2ho_dJjA3"
      },
      "source": [
        "# Criando consultas"
      ]
    },
    {
      "cell_type": "markdown",
      "metadata": {
        "id": "sp2LLmwYQ252"
      },
      "source": [
        "## Ajustando SQL"
      ]
    },
    {
      "cell_type": "code",
      "metadata": {
        "id": "c8p1v_miQ5cd"
      },
      "source": [
        "%%sql \n",
        "  SELECT b.cnpj, b.id, a.classe, b.fundo, b.minimo, b.taxa, b.estudo, b.fator, c.rendimento, c.data, c.patrimonio, c.calculo, c.momento, c.custo\n",
        "  FROM classes as a INNER JOIN fundos as b ON a.classe_id = b.classe_id\n",
        "    INNER JOIN rendimentos as c ON b.fundo_id = c.fundo_id\n",
        "  ORDER BY b.id, c.data\n",
        "  LIMIT 10"
      ],
      "execution_count": null,
      "outputs": []
    },
    {
      "cell_type": "code",
      "metadata": {
        "id": "14vynOhSPk8H"
      },
      "source": [
        "%%sql \n",
        "SELECT b.fundo, (MAX(c.patrimonio) - MIN(c.patrimonio))/(MAX(JULIANDAY(c.data)) - MIN(JULIANDAY(c.data))) as diariomedio\n",
        "    FROM fundos as b INNER JOIN rendimentos as c ON b.fundo_id = c.fundo_id\n",
        "    GROUP BY b.fundo\n",
        "    ORDER BY diariomedio DESC"
      ],
      "execution_count": null,
      "outputs": []
    },
    {
      "cell_type": "markdown",
      "metadata": {
        "id": "ZT74bbCURKG1"
      },
      "source": [
        "## Criando VIEWS"
      ]
    },
    {
      "cell_type": "code",
      "metadata": {
        "id": "V4dnQZjUJbuO"
      },
      "source": [
        "%%sql \n",
        "CREATE VIEW IF NOT EXISTS original as\n",
        "    SELECT b.cnpj, b.id, a.classe, b.fundo, b.minimo, b.taxa, b.estudo, b.fator, c.rendimento, c.data, c.patrimonio, c.calculo, c.momento, c.custo\n",
        "    FROM classes as a INNER JOIN fundos as b ON a.classe_id = b.classe_id\n",
        "      INNER JOIN rendimentos as c ON b.fundo_id = c.fundo_id;"
      ],
      "execution_count": null,
      "outputs": []
    },
    {
      "cell_type": "code",
      "metadata": {
        "id": "UhZbC41ULDge"
      },
      "source": [
        "%%sql \n",
        "CREATE VIEW IF NOT EXISTS melhor_fundo as\n",
        "  SELECT *"
      ],
      "execution_count": null,
      "outputs": []
    },
    {
      "cell_type": "code",
      "metadata": {
        "id": "qnNfTOixWExZ"
      },
      "source": [
        "# descobrir como implementar\n",
        "%%sql\n",
        "  SELECT * from original"
      ],
      "execution_count": null,
      "outputs": []
    },
    {
      "cell_type": "markdown",
      "metadata": {
        "id": "oUAyPw7jRR-7"
      },
      "source": [
        "### Testando Views"
      ]
    },
    {
      "cell_type": "code",
      "metadata": {
        "id": "ncN9SDVJRTpO"
      },
      "source": [
        "%sql SELECT * FROM original"
      ],
      "execution_count": null,
      "outputs": []
    },
    {
      "cell_type": "code",
      "metadata": {
        "id": "6mkgVuR1RkBC"
      },
      "source": [
        "%sql SELECT * FROM melhor_fundo"
      ],
      "execution_count": null,
      "outputs": []
    }
  ]
}