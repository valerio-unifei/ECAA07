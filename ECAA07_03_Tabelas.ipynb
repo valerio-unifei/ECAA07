{
  "nbformat": 4,
  "nbformat_minor": 0,
  "metadata": {
    "colab": {
      "provenance": [],
      "authorship_tag": "ABX9TyNuPVRleM+LaeowrCSsR+Ou",
      "include_colab_link": true
    },
    "kernelspec": {
      "name": "python3",
      "display_name": "Python 3"
    },
    "language_info": {
      "name": "python"
    }
  },
  "cells": [
    {
      "cell_type": "markdown",
      "metadata": {
        "id": "view-in-github",
        "colab_type": "text"
      },
      "source": [
        "<a href=\"https://colab.research.google.com/github/valerio-unifei/ECAA07/blob/main/ECAA07_03_Tabelas.ipynb\" target=\"_parent\"><img src=\"https://colab.research.google.com/assets/colab-badge.svg\" alt=\"Open In Colab\"/></a>"
      ]
    },
    {
      "cell_type": "markdown",
      "source": [
        "# Criação de Tabelas"
      ],
      "metadata": {
        "id": "VIlh__lFRL5P"
      }
    },
    {
      "cell_type": "markdown",
      "source": [
        "- Tabela: Medidores\n",
        "- Campos:\n",
        " - id_medidor: inteiro, auto incremento\n",
        " - medidor: texto, obrigatório\n",
        " - unidade: texto\n",
        " - instalado: data hora\n",
        " - valor máximo: número"
      ],
      "metadata": {
        "id": "BqDGkmiHRPXS"
      }
    },
    {
      "cell_type": "markdown",
      "source": [
        "## Tipo de Campo"
      ],
      "metadata": {
        "id": "dlp3CP4YRt9_"
      }
    },
    {
      "cell_type": "markdown",
      "source": [
        "- Texto\n",
        "- Inteiro\n",
        "- Boleano\n",
        "- Fraçoes\n",
        "- Datas e Horários\n",
        "- Objetos\n"
      ],
      "metadata": {
        "id": "C5P42x83SELo"
      }
    },
    {
      "cell_type": "markdown",
      "source": [
        "## Atributos"
      ],
      "metadata": {
        "id": "uVGyhhvbSik3"
      }
    },
    {
      "cell_type": "markdown",
      "source": [
        "- VALUE: Armazena dado do campo\n",
        "- ISNULLABLE: permite armazenar NULL\n",
        "- DEFAULTVALU: valor inicial do campo\n",
        "- RULE: Regra de inserção do valor\n",
        "- PRIMARY KEY: Coluna é chave primária\n",
        "- FOREIGN KEY: Coluna é chave em outra tabela\n",
        "- AUTOINCREMENT: ++ para cada nova linha\n",
        "- UNIQUE: permite apenas valores sem repetição na tabela"
      ],
      "metadata": {
        "id": "5BQ47lp0SlIH"
      }
    },
    {
      "cell_type": "code",
      "source": [
        "%load_ext sql\n",
        "%sql sqlite:///ecaa07_03_tabelas.db"
      ],
      "metadata": {
        "id": "DrljQkyTRjdX"
      },
      "execution_count": null,
      "outputs": []
    },
    {
      "cell_type": "code",
      "source": [
        "%%sql\n",
        "CREATE TABLE Alunos (\n",
        "    IdAluno    INTEGER      PRIMARY KEY AUTOINCREMENT,\n",
        "    Aluno      VARCHAR(255) NOT NULL,\n",
        "    CPF        VARCHAR(15)  NOT NULL UNIQUE,\n",
        "    Nascimento DATETIME,\n",
        "    Matricula  INTEGER UNIQUE);"
      ],
      "metadata": {
        "id": "DecZ4j0gx-qY"
      },
      "execution_count": null,
      "outputs": []
    },
    {
      "cell_type": "markdown",
      "source": [
        "## Atividade 1"
      ],
      "metadata": {
        "id": "XztDO5bsxCGo"
      }
    },
    {
      "cell_type": "markdown",
      "source": [
        "Informações sobre os dados: [Kaggle](https://www.kaggle.com/datasets/tr1gg3rtrash/cars-2022-dataset)\n",
        "\n",
        "Visualizando tabela no arquivo CSV:\n",
        "[Dados da tabela](https://drive.google.com/file/d/1vgP0GeO_zkake8VjALZGx5c_k6xdQeJE/view?usp=sharing)\n"
      ],
      "metadata": {
        "id": "RiYqsFNKxIE4"
      }
    },
    {
      "cell_type": "markdown",
      "source": [
        "Monte uma tabela no banco de dados para armazenar esses dados:"
      ],
      "metadata": {
        "id": "aMtUxnjXxrEg"
      }
    },
    {
      "cell_type": "code",
      "source": [],
      "metadata": {
        "id": "Kq07CAMgxuoY"
      },
      "execution_count": null,
      "outputs": []
    },
    {
      "cell_type": "markdown",
      "source": [
        "# Relacionamento entre Tabelas"
      ],
      "metadata": {
        "id": "Pk6nRh90xveX"
      }
    },
    {
      "cell_type": "markdown",
      "source": [
        "Tabela Cores:\n",
        "\n",
        "| IdCor | Cor |\n",
        "|:---:|:---:|\n",
        "| 1 | Preto |\n",
        "| 2 | Marrom |\n",
        "| 3 | Azul |\n",
        "| 4 | Verde |\n",
        "\n",
        "Tabela Fornecedores:\n",
        "\n",
        "| IdFornecedor | Fornecedor | Telefone | Contato |\n",
        "|:---:|:---:|:---:|:---:|\n",
        "| 1 | Samelo | (11) 3452-3454 | João |\n",
        "| 2 | Miloca | (31) 4325-7684 | Pedro |\n",
        "\n",
        "Tabela Produtos:\n",
        "\n",
        "| IdProduto | Produto | IdCor | IdFornecedor |\n",
        "|:---:|:---:|:---:|:---:|\n",
        "| 1 | Sapato | 1 | 1 |\n",
        "| 2 | Sapato | 2 | 1 |\n",
        "| 3 | Bolsa | 3 | 2 |\n",
        "| 4 | Boné | 1 | 1 |\n",
        "| 5 | Boné | 4 | 1 |"
      ],
      "metadata": {
        "id": "0HPeS7rZx3m_"
      }
    },
    {
      "cell_type": "code",
      "source": [
        "%%sql\n",
        "CREATE TABLE Cores (\n",
        "    IdCor INTEGER PRIMARY KEY AUTOINCREMENT,\n",
        "    Cor   VARCHAR(50) NOT NULL\n",
        ");"
      ],
      "metadata": {
        "id": "M3nrKteH3I3V"
      },
      "execution_count": null,
      "outputs": []
    },
    {
      "cell_type": "code",
      "source": [
        "%%sql\n",
        "CREATE TABLE Fornecedores (\n",
        "    IdFornecedor INTEGER PRIMARY KEY AUTOINCREMENT,\n",
        "    Fornecedor   VARCHAR(150) NOT NULL,\n",
        "    Telefone     VARCHAR(50),\n",
        "    Contato      VARCHAR(255)\n",
        ");"
      ],
      "metadata": {
        "id": "0HAJrivk3Com"
      },
      "execution_count": null,
      "outputs": []
    },
    {
      "cell_type": "code",
      "source": [
        "%%sql\n",
        "CREATE TABLE Produtos (\n",
        "    IdProduto    INTEGER PRIMARY KEY AUTOINCREMENT,\n",
        "    Produto      VARCHAR(150) NOT NULL,\n",
        "    IdCor        INTEGER REFERENCES Cores(IdCor) ON DELETE CASCADE,\n",
        "    IdFornecedor INTEGER REFERENCES Fornecedores(IdFornecedor) ON DELETE CASCADE\n",
        ");"
      ],
      "metadata": {
        "id": "YOharRKI3Lxt"
      },
      "execution_count": null,
      "outputs": []
    },
    {
      "cell_type": "markdown",
      "source": [
        "## Atividade 2"
      ],
      "metadata": {
        "id": "tIJF-IOO3PrH"
      }
    },
    {
      "cell_type": "markdown",
      "source": [
        "Informações da tabela: [Kaggle](https://www.kaggle.com/datasets/shivamsingh0194/top-500-cities)\n",
        "\n",
        "Dados da tabela: [Visualizar](https://drive.google.com/file/d/1iBTb3Wn4b4Euybe713cyj15G6e9HGpbh/view?usp=sharing)"
      ],
      "metadata": {
        "id": "UDDA2Rye3RT9"
      }
    },
    {
      "cell_type": "markdown",
      "source": [
        "Crie as tabelas derivadas dessa informação original e seus relacionamentos por chaves primárias e extrangeiras."
      ],
      "metadata": {
        "id": "ZipBwB0v5utM"
      }
    },
    {
      "cell_type": "code",
      "source": [],
      "metadata": {
        "id": "iFwyacD351UT"
      },
      "execution_count": null,
      "outputs": []
    }
  ]
}