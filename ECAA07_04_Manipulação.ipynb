{
  "nbformat": 4,
  "nbformat_minor": 0,
  "metadata": {
    "colab": {
      "name": "ECAA07 04 Manipulação.ipynb",
      "provenance": [],
      "authorship_tag": "ABX9TyMwZg49CT9div4+JirlGzPh",
      "include_colab_link": true
    },
    "kernelspec": {
      "name": "python3",
      "display_name": "Python 3"
    },
    "language_info": {
      "name": "python"
    }
  },
  "cells": [
    {
      "cell_type": "markdown",
      "metadata": {
        "id": "view-in-github",
        "colab_type": "text"
      },
      "source": [
        "<a href=\"https://colab.research.google.com/github/valerio-unifei/ECAA07/blob/main/ECAA07_04_Manipula%C3%A7%C3%A3o.ipynb\" target=\"_parent\"><img src=\"https://colab.research.google.com/assets/colab-badge.svg\" alt=\"Open In Colab\"/></a>"
      ]
    },
    {
      "cell_type": "markdown",
      "metadata": {
        "id": "Zhj5GgiptwLY"
      },
      "source": [
        "# Sakila Database Schema\n",
        "\n",
        "<img src=\"https://github.com/valerio-unifei/ECAA07/raw/main/Bancos/sakila_schema.png\">"
      ]
    },
    {
      "cell_type": "markdown",
      "metadata": {
        "id": "M71__Cp0uA57"
      },
      "source": [
        "# Baixando e conectando ao banco de dados"
      ]
    },
    {
      "cell_type": "code",
      "metadata": {
        "id": "YTQ06ogGr8Lc"
      },
      "source": [
        "# baixando banco\n",
        "!wget https://github.com/valerio-unifei/ECAA07/raw/main/Bancos/sakila.db"
      ],
      "execution_count": null,
      "outputs": []
    },
    {
      "cell_type": "code",
      "metadata": {
        "id": "K25zu9ZvuadT"
      },
      "source": [
        "#conectando ao banco\n",
        "import sqlite3\n",
        "import pandas as pd\n",
        "conn = sqlite3.connect('sakila.db')\n",
        "\n",
        "#cursor para execução de comandos SQL\n",
        "cursor = conn.cursor()\n",
        "\n",
        "#exibindo componentes do banco\n",
        "sql ='''\n",
        "  SELECT type, name, sql\n",
        "  FROM sqlite_master\n",
        "  WHERE type=\"table\" or type=\"view\"\n",
        "  ORDER BY type, name\n",
        "  '''\n",
        "\n",
        "pd.read_sql_query(sql=sql,con=conn)"
      ],
      "execution_count": null,
      "outputs": []
    },
    {
      "cell_type": "markdown",
      "metadata": {
        "id": "YzFpIiKTwFCe"
      },
      "source": [
        "#Visualizações"
      ]
    },
    {
      "cell_type": "code",
      "metadata": {
        "id": "tQNbV4dswErJ"
      },
      "source": [
        "pd.read_sql_query(sql='SELECT * FROM film_list',con=conn)"
      ],
      "execution_count": null,
      "outputs": []
    },
    {
      "cell_type": "code",
      "metadata": {
        "id": "QhYg7vgRwD83"
      },
      "source": [
        "pd.read_sql_query(sql='SELECT * FROM sales_by_store',con=conn)"
      ],
      "execution_count": null,
      "outputs": []
    },
    {
      "cell_type": "code",
      "metadata": {
        "id": "Jk3wzE52wcxX"
      },
      "source": [
        "pd.read_sql_query(sql='SELECT * FROM sales_by_film_category ORDER BY total_sales DESC',con=conn)"
      ],
      "execution_count": null,
      "outputs": []
    },
    {
      "cell_type": "markdown",
      "metadata": {
        "id": "jDgkYF5Cwwq5"
      },
      "source": [
        "# Inserindo um novo filme"
      ]
    },
    {
      "cell_type": "markdown",
      "metadata": {
        "id": "fVQJ_5P3xBPg"
      },
      "source": [
        "Exemplo:\n",
        "\n",
        "https://en.wikipedia.org/wiki/Once_Upon_a_Time_in_Hollywood"
      ]
    },
    {
      "cell_type": "markdown",
      "metadata": {
        "id": "uJ1hfHghxt6u"
      },
      "source": [
        "## Verificando se o filme existe na base"
      ]
    },
    {
      "cell_type": "code",
      "metadata": {
        "id": "2r7mm0qkxtKp"
      },
      "source": [
        "#filme existe no repositório?\n",
        "pd.read_sql_query(sql='SELECT * FROM film WHERE title = \"ONCE UPON A TIME... IN HOLLYWOOD\" or title LIKE \"ONCE UPON%\" ',con=conn)"
      ],
      "execution_count": null,
      "outputs": []
    },
    {
      "cell_type": "markdown",
      "metadata": {
        "id": "J6BeIgxp58Ms"
      },
      "source": [
        "## Inserindo filme\n",
        "\n",
        "Se aparecer o erro: \n",
        "\n",
        "*OperationalError: database is locked*\n",
        "\n",
        "Vá na opção: Ambiente de execução >> Redefinir ambiente de execução ...\n",
        "\n",
        "Reconecte o ambiente do colab"
      ]
    },
    {
      "cell_type": "code",
      "metadata": {
        "id": "v6Tokgzl7esJ"
      },
      "source": [
        "pd.read_sql_query(sql='SELECT * FROM film',con=conn).head(2)"
      ],
      "execution_count": null,
      "outputs": []
    },
    {
      "cell_type": "code",
      "metadata": {
        "id": "W19gtpmXycqD"
      },
      "source": [
        "#inserindo filme\n",
        "cursor.execute('''\n",
        "  INSERT INTO film \n",
        "  \n",
        "  (film_id, title, \n",
        "  description, \n",
        "  release_year, language_id, rental_duration, rental_rate, length, replacement_cost, rating, special_features, last_update)\n",
        "\n",
        "  VALUES\n",
        "  \n",
        "  (1001, \"Once Upon a Time In...Hollywood\",\n",
        "  \"Actor Rick Dalton gained fame and fortune by starring in a 1950s television Western, but is now struggling to find meaningful work in a Hollywood that he doesn't recognize anymore. He spends most of his time drinking and palling around with Cliff Booth, his easygoing best friend and longtime stunt double. Rick also happens to live next door to Roman Polanski and Sharon Tate -- the filmmaker and budding actress whose futures will forever be altered by members of the Manson Family.\",\n",
        "  2019, 1, 3, 3.99, 162, 17.99, \"R\", \"Trailers,Behind the Scenes\", CURRENT_TIMESTAMP)\n",
        "\n",
        "  ''')\n",
        "\n",
        "film_id = cursor.lastrowid\n",
        "print('film_id =',film_id)\n",
        "pd.read_sql_query(sql='SELECT * FROM film',con=conn).tail(1)"
      ],
      "execution_count": null,
      "outputs": []
    },
    {
      "cell_type": "markdown",
      "metadata": {
        "id": "YpBVwq5459ov"
      },
      "source": [
        "## Inserindo categoria do filme"
      ]
    },
    {
      "cell_type": "code",
      "metadata": {
        "id": "T37ut40z7o5P"
      },
      "source": [
        "display(pd.read_sql_query(sql='SELECT * FROM category',con=conn))\n",
        "display(pd.read_sql_query(sql='SELECT * FROM film_category',con=conn).head(2))"
      ],
      "execution_count": null,
      "outputs": []
    },
    {
      "cell_type": "code",
      "metadata": {
        "id": "SFDgHujf1tVn"
      },
      "source": [
        "cursor.execute(f'DELETE FROM film_category WHERE film_id = {film_id}')\n",
        "\n",
        "#categorias do filme: Drama(category_id=7), Comedy(5)\n",
        "sqls = [\n",
        "        f'INSERT INTO film_category (film_id, category_id, last_update) VALUES ({film_id}, 7, CURRENT_TIMESTAMP)',\n",
        "        f'INSERT INTO film_category (film_id, category_id, last_update) VALUES ({film_id}, 5, CURRENT_TIMESTAMP)'\n",
        "]\n",
        "\n",
        "for sql in sqls:\n",
        "  cursor.execute(sql)\n",
        "  print('sql = ',sql,';')\n",
        "pd.read_sql_query(sql='SELECT * FROM film_category',con=conn).tail(len(sqls))"
      ],
      "execution_count": null,
      "outputs": []
    },
    {
      "cell_type": "markdown",
      "metadata": {
        "id": "fEN25E6T5_yE"
      },
      "source": [
        "## Inserindo atores"
      ]
    },
    {
      "cell_type": "code",
      "metadata": {
        "id": "E29kpvZj56u9"
      },
      "source": [
        "pd.read_sql_query(sql='SELECT * FROM actor',con=conn)"
      ],
      "execution_count": null,
      "outputs": []
    },
    {
      "cell_type": "code",
      "metadata": {
        "id": "fnvB8lnW7WuN"
      },
      "source": [
        "sqls = [\n",
        "        'INSERT INTO actor VALUES (201, \"Leonardo\", \"DiCaprio\", CURRENT_TIMESTAMP)',\n",
        "        'INSERT INTO actor VALUES (202, \"Brad\", \"Pitt\", CURRENT_TIMESTAMP)',\n",
        "        'INSERT INTO actor VALUES (203, \"Margot\", \"Robbie\", CURRENT_TIMESTAMP)',\n",
        "        'INSERT INTO actor VALUES (204, \"Emile\", \"Hirsch\", CURRENT_TIMESTAMP)',\n",
        "        'INSERT INTO actor VALUES (205, \"Margaret\", \"Qualley\", CURRENT_TIMESTAMP)',\n",
        "]\n",
        "\n",
        "for sql in sqls:\n",
        "  cursor.execute(sql)\n",
        "  print('sql = ',sql,';')\n",
        "pd.read_sql_query(sql='SELECT * FROM actor',con=conn).tail(len(sqls))"
      ],
      "execution_count": null,
      "outputs": []
    },
    {
      "cell_type": "code",
      "metadata": {
        "id": "pC3m5mNK9Aw8"
      },
      "source": [
        "pd.read_sql_query(sql='SELECT * FROM film_actor',con=conn).tail(2)"
      ],
      "execution_count": null,
      "outputs": []
    },
    {
      "cell_type": "code",
      "metadata": {
        "id": "RWa_5Dma9I5B"
      },
      "source": [
        "cursor.execute(f'DELETE FROM film_actor WHERE film_id = {film_id}')\n",
        "\n",
        "sqls = [\n",
        "        f'INSERT INTO film_actor VALUES (201, {film_id}, CURRENT_TIMESTAMP)',\n",
        "        f'INSERT INTO film_actor VALUES (202, {film_id}, CURRENT_TIMESTAMP)',\n",
        "        f'INSERT INTO film_actor VALUES (203, {film_id}, CURRENT_TIMESTAMP)',\n",
        "        f'INSERT INTO film_actor VALUES (204, {film_id}, CURRENT_TIMESTAMP)',\n",
        "        f'INSERT INTO film_actor VALUES (205, {film_id}, CURRENT_TIMESTAMP)',\n",
        "]\n",
        "\n",
        "for sql in sqls:\n",
        "  cursor.execute(sql)\n",
        "  print('sql = ',sql,';')\n",
        "pd.read_sql_query(sql='SELECT * FROM film_actor',con=conn).tail(len(sqls))"
      ],
      "execution_count": null,
      "outputs": []
    },
    {
      "cell_type": "markdown",
      "metadata": {
        "id": "wgmxFBuY9n0t"
      },
      "source": [
        "##Inserindo Inventário"
      ]
    },
    {
      "cell_type": "code",
      "metadata": {
        "id": "A2HWNbY09qZo"
      },
      "source": [
        "pd.read_sql_query(sql='SELECT * FROM inventory',con=conn).tail(10)"
      ],
      "execution_count": null,
      "outputs": []
    },
    {
      "cell_type": "code",
      "metadata": {
        "id": "XdSeHBaC90Gq"
      },
      "source": [
        "cursor.execute(f'DELETE FROM inventory WHERE film_id = {film_id}')\n",
        "\n",
        "inventory_id = 4581\n",
        "\n",
        "for i in range(5):\n",
        "  sql = f'INSERT INTO inventory VALUES ({inventory_id+1}, {film_id}, 1,CURRENT_TIMESTAMP)'\n",
        "  cursor.execute(sql)\n",
        "  print('sql = ',sql,';')\n",
        "  inventory_id = cursor.lastrowid\n",
        "\n",
        "for i in range(3):\n",
        "  sql = f'INSERT INTO inventory VALUES ({inventory_id+1}, {film_id}, 2,CURRENT_TIMESTAMP)'\n",
        "  cursor.execute(sql)\n",
        "  print('sql = ',sql,';')\n",
        "  inventory_id = cursor.lastrowid\n",
        "\n",
        "pd.read_sql_query(sql='SELECT * FROM inventory',con=conn).tail(10)"
      ],
      "execution_count": null,
      "outputs": []
    },
    {
      "cell_type": "markdown",
      "metadata": {
        "id": "39Fh7DN9ASBr"
      },
      "source": [
        "# Atualizando Banco"
      ]
    },
    {
      "cell_type": "code",
      "metadata": {
        "id": "U215bwQrATsI"
      },
      "source": [
        "sql = '''\n",
        "  SELECT *\n",
        "  FROM address as a INNER JOIN city as c ON a.city_id = c.city_id\n",
        "    INNER JOIN country as p ON c.country_id = p.country_id\n",
        "  WHERE p.country LIKE 'B%'\n",
        "  ORDER BY p.country, c.city\n",
        "'''\n",
        "\n",
        "pd.read_sql_query(sql=sql,con=conn).head()"
      ],
      "execution_count": null,
      "outputs": []
    },
    {
      "cell_type": "markdown",
      "metadata": {
        "id": "9gtShfVtBgav"
      },
      "source": [
        "Inserir no final de cada address o texto ' (old)' para city_id abaixo ou igual a 100.\n"
      ]
    },
    {
      "cell_type": "code",
      "metadata": {
        "id": "3nMqrlE4Cb9q"
      },
      "source": [
        "sql = 'UPDATE address SET address = address || \" (old)\" WHERE city_id <= 100 and address NOT LIKE \"% (old)\"'\n",
        "cursor.execute(sql)\n",
        "pd.read_sql_query(sql='SELECT * FROM address WHERE city_id <= 100',con=conn).head(100)"
      ],
      "execution_count": null,
      "outputs": []
    }
  ]
}