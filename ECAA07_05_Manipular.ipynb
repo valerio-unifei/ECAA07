{
  "nbformat": 4,
  "nbformat_minor": 0,
  "metadata": {
    "colab": {
      "provenance": [],
      "authorship_tag": "ABX9TyMe/WVynCJVuSaY8PQ0ng3k",
      "include_colab_link": true
    },
    "kernelspec": {
      "name": "python3",
      "display_name": "Python 3"
    },
    "language_info": {
      "name": "python"
    }
  },
  "cells": [
    {
      "cell_type": "markdown",
      "metadata": {
        "id": "view-in-github",
        "colab_type": "text"
      },
      "source": [
        "<a href=\"https://colab.research.google.com/github/valerio-unifei/ECAA07/blob/main/ECAA07_05_Manipular.ipynb\" target=\"_parent\"><img src=\"https://colab.research.google.com/assets/colab-badge.svg\" alt=\"Open In Colab\"/></a>"
      ]
    },
    {
      "cell_type": "markdown",
      "source": [
        "# SQL DML (*Data Manager Language*)"
      ],
      "metadata": {
        "id": "YzMGMtXOwTz5"
      }
    },
    {
      "cell_type": "code",
      "source": [
        "%load_ext sql\n",
        "%sql sqlite:///ecaa07_05_manipular.db"
      ],
      "metadata": {
        "id": "aQNIWdgEwuKD"
      },
      "execution_count": null,
      "outputs": []
    },
    {
      "cell_type": "markdown",
      "source": [
        "# Inserir Dados Novos na Tabela"
      ],
      "metadata": {
        "id": "cK3gxr9gweW3"
      }
    },
    {
      "cell_type": "markdown",
      "source": [
        "```\n",
        "INSERT INTO <Tabela> (<campo1>, <campo2>) VALUES (<valor1>, <valor2>)\n",
        "```"
      ],
      "metadata": {
        "id": "UouPN6RCwh-2"
      }
    },
    {
      "cell_type": "code",
      "execution_count": null,
      "metadata": {
        "id": "xkc9b8Y_vpNK"
      },
      "outputs": [],
      "source": [
        "%%sql\n",
        "CREATE TABLE IF NOT EXISTS Alunos (\n",
        "  IdAluno INTEGER PRIMARY KEY,\n",
        "  Aluno VARCHAR(255),\n",
        "  Matricula INTEGER,\n",
        "  Entrada DATETIME)"
      ]
    },
    {
      "cell_type": "markdown",
      "source": [
        "## Usando TODOS os campos da tabela"
      ],
      "metadata": {
        "id": "QhCALOCxiMRU"
      }
    },
    {
      "cell_type": "code",
      "source": [
        "%%sql\n",
        "INSERT INTO Alunos\n",
        "  VALUES (1,'Andrés Urdangarin Dorronsoro',201201001,'2012-09-27')"
      ],
      "metadata": {
        "id": "kRQzhl8dxks2"
      },
      "execution_count": null,
      "outputs": []
    },
    {
      "cell_type": "code",
      "source": [
        "%sql SELECT * FROM Alunos"
      ],
      "metadata": {
        "id": "4IzGMne7xply"
      },
      "execution_count": null,
      "outputs": []
    },
    {
      "cell_type": "code",
      "source": [
        "%sql INSERT INTO Alunos VALUES (2,'Anfilófio Neves',201201004,'2012-04-26')"
      ],
      "metadata": {
        "id": "7AxPhiRTxtO7"
      },
      "execution_count": null,
      "outputs": []
    },
    {
      "cell_type": "code",
      "source": [
        "%sql INSERT INTO Alunos VALUES (2,'Anfilófio Neves',201201004,'2012-04-26')"
      ],
      "metadata": {
        "id": "HwJEzV3ZibAD"
      },
      "execution_count": null,
      "outputs": []
    },
    {
      "cell_type": "markdown",
      "source": [
        "## Determinando a chave primária incrementada"
      ],
      "metadata": {
        "id": "yysllepRiSEH"
      }
    },
    {
      "cell_type": "markdown",
      "source": [
        "Última chave primária inserida (SQLite):\n",
        "\n",
        "```\n",
        "SELECT last_insert_rowid()\n",
        "```\n",
        "\n"
      ],
      "metadata": {
        "id": "HWxZtepUyfg0"
      }
    },
    {
      "cell_type": "code",
      "source": [
        "%%sql\n",
        "CREATE TABLE IF NOT EXISTS Dispositivos (\n",
        "  IdDispositivo INTEGER PRIMARY KEY AUTOINCREMENT,\n",
        "  Dispositivo VARCHAR(255) NOT NULL,\n",
        "  TagID INTEGER,\n",
        "  Criado DATETIME DEFAULT CURRENT_TIMESTAMP)"
      ],
      "metadata": {
        "id": "qxYc5IoNysMs"
      },
      "execution_count": null,
      "outputs": []
    },
    {
      "cell_type": "code",
      "source": [
        "%%sql\n",
        "INSERT INTO Dispositivos\n",
        "  (Dispositivo, TagID) VALUES ('Sensor Indutivo', 43252)"
      ],
      "metadata": {
        "id": "3I144dmkzjNd"
      },
      "execution_count": null,
      "outputs": []
    },
    {
      "cell_type": "code",
      "source": [
        "%sql SELECT last_insert_rowid()"
      ],
      "metadata": {
        "id": "1vsIyTKCzvas"
      },
      "execution_count": null,
      "outputs": []
    },
    {
      "cell_type": "code",
      "source": [
        "%sql SELECT * FROM Dispositivos"
      ],
      "metadata": {
        "id": "J3Q2hVcMz11F"
      },
      "execution_count": null,
      "outputs": []
    },
    {
      "cell_type": "markdown",
      "source": [
        "# Inserindo Dados de Outras Tabelas"
      ],
      "metadata": {
        "id": "iC3gASPVwxVx"
      }
    },
    {
      "cell_type": "markdown",
      "source": [
        "```\n",
        "INSERT INTO <Tabela1> SELECT * FROM <Tabela2>\n",
        "```"
      ],
      "metadata": {
        "id": "69bRJBqew1EO"
      }
    },
    {
      "cell_type": "markdown",
      "source": [
        "Criando uma tabela cópia de Dispositivos"
      ],
      "metadata": {
        "id": "cCAHBv_2izoW"
      }
    },
    {
      "cell_type": "code",
      "source": [
        "%%sql\n",
        "CREATE TABLE IF NOT EXISTS Dispositivos2022 (\n",
        "  IdDispositivo INTEGER PRIMARY KEY AUTOINCREMENT,\n",
        "  Dispositivo VARCHAR(255) NOT NULL,\n",
        "  TagID INTEGER,\n",
        "  Unidade VARCHAR(30) DEFAULT '-',\n",
        "  Criado DATETIME DEFAULT CURRENT_TIMESTAMP)"
      ],
      "metadata": {
        "id": "4KBdK5zAw0Rj"
      },
      "execution_count": null,
      "outputs": []
    },
    {
      "cell_type": "markdown",
      "source": [
        "Copiando dados de dispositivos para dispositivos2022"
      ],
      "metadata": {
        "id": "-ti9gC20i492"
      }
    },
    {
      "cell_type": "code",
      "source": [
        "%%sql\n",
        "INSERT INTO Dispositivos2022\n",
        "  (Dispositivo, TagID, Criado)\n",
        "  SELECT d.Dispositivo, d.TagID, d.Criado\n",
        "    FROM Dispositivos AS d"
      ],
      "metadata": {
        "id": "JvG-AfTZgxKo"
      },
      "execution_count": null,
      "outputs": []
    },
    {
      "cell_type": "markdown",
      "source": [
        "Nova cópia"
      ],
      "metadata": {
        "id": "-kfX42dDi9c0"
      }
    },
    {
      "cell_type": "code",
      "source": [
        "%%sql\n",
        "INSERT INTO Dispositivos2022\n",
        "  (Dispositivo, TagID, Criado)\n",
        "  SELECT d.Dispositivo, d.TagID, d.Criado\n",
        "    FROM Dispositivos AS d"
      ],
      "metadata": {
        "id": "vfVgclXRixWn"
      },
      "execution_count": null,
      "outputs": []
    },
    {
      "cell_type": "markdown",
      "source": [
        "Exibindo apenas dados sem repetição (ignorando chave primária)"
      ],
      "metadata": {
        "id": "ySi7NjvZi_PB"
      }
    },
    {
      "cell_type": "code",
      "source": [
        "%%sql\n",
        "SELECT DISTINCT Dispositivo,TagID,Unidade,Criado\n",
        "  FROM Dispositivos2022"
      ],
      "metadata": {
        "id": "WFHm__4Mhi6v"
      },
      "execution_count": null,
      "outputs": []
    },
    {
      "cell_type": "markdown",
      "source": [
        "# Atualizar Dados Existentes"
      ],
      "metadata": {
        "id": "cWydBOxtxHeF"
      }
    },
    {
      "cell_type": "markdown",
      "source": [
        "\n",
        "\n",
        "```\n",
        "UPDATE <Tabela> SET <campo>=<valor> WHERE <campo>=<filtro>\n",
        "```\n",
        "\n"
      ],
      "metadata": {
        "id": "_UX0FQiOxOF1"
      }
    },
    {
      "cell_type": "markdown",
      "source": [
        "## Edição sem Filtro - todos os registros"
      ],
      "metadata": {
        "id": "rCnyYCUUjdH0"
      }
    },
    {
      "cell_type": "markdown",
      "source": [
        "Editando campo Unidade de dispositivos2022"
      ],
      "metadata": {
        "id": "OSXX7g8ejHLB"
      }
    },
    {
      "cell_type": "code",
      "source": [
        "%sql UPDATE Dispositivos2022 SET Unidade = 'metros'"
      ],
      "metadata": {
        "id": "1KClOwowxOd1"
      },
      "execution_count": null,
      "outputs": []
    },
    {
      "cell_type": "markdown",
      "source": [
        "## Edição com Filtro (Where)"
      ],
      "metadata": {
        "id": "5W8LNmXXjhca"
      }
    },
    {
      "cell_type": "markdown",
      "source": [
        "Inserindo novos valores"
      ],
      "metadata": {
        "id": "MMTgHwbpjKOQ"
      }
    },
    {
      "cell_type": "code",
      "source": [
        "%%sql\n",
        "INSERT INTO Dispositivos2022\n",
        "  (Dispositivo, TagID, Criado)\n",
        "  SELECT d.Dispositivo, d.TagID, d.Criado\n",
        "    FROM Dispositivos AS d"
      ],
      "metadata": {
        "id": "lazfAjpOjMik"
      },
      "execution_count": null,
      "outputs": []
    },
    {
      "cell_type": "markdown",
      "source": [
        "Editando apenas dados novos"
      ],
      "metadata": {
        "id": "H0ccY9FcjNQp"
      }
    },
    {
      "cell_type": "code",
      "source": [
        "%%sql\n",
        "UPDATE Dispositivos2022\n",
        "  SET Unidade = 'litros'\n",
        "  WHERE Unidade = '-'"
      ],
      "metadata": {
        "id": "cV6LwkSWnE3L"
      },
      "execution_count": null,
      "outputs": []
    },
    {
      "cell_type": "markdown",
      "source": [
        "## Edição com Cálculo"
      ],
      "metadata": {
        "id": "epoyeFAkjnsV"
      }
    },
    {
      "cell_type": "markdown",
      "source": [
        "Edição com valores antigos modificados"
      ],
      "metadata": {
        "id": "hA6mAgW1jPei"
      }
    },
    {
      "cell_type": "code",
      "source": [
        "%%sql\n",
        "UPDATE Dispositivos2022\n",
        "  SET TagID = TagID - 200\n",
        "  WHERE Unidade = 'metros'"
      ],
      "metadata": {
        "id": "mVaSFU8soMgP"
      },
      "execution_count": null,
      "outputs": []
    },
    {
      "cell_type": "code",
      "source": [
        "%sql SELECT * FROM Dispositivos2022"
      ],
      "metadata": {
        "id": "Fwcqu5Ngmth0"
      },
      "execution_count": null,
      "outputs": []
    },
    {
      "cell_type": "markdown",
      "source": [
        "Atualizando data de criação"
      ],
      "metadata": {
        "id": "bBfxp3ntj4Hf"
      }
    },
    {
      "cell_type": "markdown",
      "source": [
        "\n",
        "\n",
        "```\n",
        "SET Criado = DATE('now')\n",
        "```\n",
        "\n"
      ],
      "metadata": {
        "id": "gh81dqsS0J4_"
      }
    },
    {
      "cell_type": "code",
      "source": [
        "%%sql\n",
        "UPDATE Dispositivos2022\n",
        "  SET Criado = DATE('now')\n",
        "  WHERE Unidade = 'litros'"
      ],
      "metadata": {
        "id": "NSDrikGnjzaX"
      },
      "execution_count": null,
      "outputs": []
    },
    {
      "cell_type": "code",
      "source": [
        "%sql SELECT * FROM Dispositivos2022"
      ],
      "metadata": {
        "id": "bYgmhzYekAKl"
      },
      "execution_count": null,
      "outputs": []
    },
    {
      "cell_type": "markdown",
      "source": [
        "## Edição Simultânea"
      ],
      "metadata": {
        "id": "AVs8evaajuQE"
      }
    },
    {
      "cell_type": "markdown",
      "source": [
        "Edição de múltiplos valores simultaneamente"
      ],
      "metadata": {
        "id": "2nxacOx8jTfq"
      }
    },
    {
      "cell_type": "markdown",
      "source": [
        "\n",
        "\n",
        "```\n",
        "SET <campo1>=<valor1>, <campo2>=<valor2>,...\n",
        "```\n",
        "\n"
      ],
      "metadata": {
        "id": "CYc3GuGQ0Bda"
      }
    },
    {
      "cell_type": "code",
      "source": [
        "%%sql\n",
        "UPDATE Dispositivos2022\n",
        "  SET TagID = TagID + 200, Criado = DATETIME(Criado, '+3 days')\n",
        "  WHERE Unidade = 'litros'"
      ],
      "metadata": {
        "id": "ZR_d0T3d0GDq"
      },
      "execution_count": null,
      "outputs": []
    },
    {
      "cell_type": "code",
      "source": [
        "%sql SELECT * FROM Dispositivos2022"
      ],
      "metadata": {
        "id": "NWuxYkY-rPGj"
      },
      "execution_count": null,
      "outputs": []
    },
    {
      "cell_type": "markdown",
      "source": [
        "## Edição com Filtro Indireto (IN SELECT INNER JOIN)"
      ],
      "metadata": {
        "id": "Qx_v0B84jZXX"
      }
    },
    {
      "cell_type": "markdown",
      "source": [
        "\n",
        "\n",
        "```\n",
        "WHERE <campo> IN (SELECT <campo> FROM <tabela>)\n",
        "\n",
        "WHERE <campo> IN (\n",
        "  SELECT <campo>\n",
        "  FROM <tabela1> INNER JOIN <tabela2>\n",
        "    ON <tabela1>.<campo> = <tabela2>.<campo>\n",
        "  )\n",
        "\n",
        "```\n",
        "\n"
      ],
      "metadata": {
        "id": "UyFa8RsY0SOA"
      }
    },
    {
      "cell_type": "code",
      "source": [
        "%%sql\n",
        "-- Proteção para nova execução\n",
        "DROP TABLE IF EXISTS Maquinas;\n",
        "DROP TABLE IF EXISTS Controles;\n",
        "DROP TABLE IF EXISTS Sensores;\n",
        "-- Tabela de máquinas da linha\n",
        "CREATE TABLE Maquinas (\n",
        "  Maquina_id INTEGER PRIMARY KEY AUTOINCREMENT,\n",
        "  Maquina VARCHAR(255) NOT NULL,\n",
        "  Criado DATETIME DEFAULT CURRENT_TIMESTAMP);\n",
        "-- Tabela de controladores da linha\n",
        "CREATE TABLE Controles (\n",
        "  Controle_id INTEGER PRIMARY KEY AUTOINCREMENT,\n",
        "  Controle VARCHAR(255) NOT NULL,\n",
        "  Maquina_id INTEGER REFERENCES Maquinas(Maquina_id),\n",
        "  Criado DATETIME DEFAULT CURRENT_TIMESTAMP);\n",
        "-- Sensores\n",
        "CREATE TABLE Sensores (\n",
        "  Sensor_id INTEGER PRIMARY KEY AUTOINCREMENT,\n",
        "  Sensor VARCHAR(255) NOT NULL,\n",
        "  Tipo VARCHAR(10),\n",
        "  Controle_id INTEGER REFERENCES Controles(Controle_id),\n",
        "  Criado DATETIME DEFAULT CURRENT_TIMESTAMP);\n",
        "-- Inserindo\n",
        "INSERT INTO Maquinas(Maquina) VALUES ('Prensa 5032');\n",
        "INSERT INTO Controles(Controle, Maquina_id) VALUES ('CLP 123',last_insert_rowid());\n",
        "INSERT INTO Sensores(Sensor,Controle_id,Tipo) VALUES ('M43897',last_insert_rowid(),'Temp');\n",
        "INSERT INTO Maquinas(Maquina) VALUES ('Cortadora 3241');\n",
        "INSERT INTO Controles(Controle, Maquina_id) VALUES ('CLP 124',last_insert_rowid());\n",
        "INSERT INTO Sensores(Sensor,Controle_id,Tipo) VALUES ('K438975',last_insert_rowid(),'Umid');\n",
        "INSERT INTO Maquinas(Maquina) VALUES ('Solagem 7652');\n",
        "INSERT INTO Controles(Controle, Maquina_id) VALUES ('CLP 125',last_insert_rowid());\n",
        "INSERT INTO Sensores(Sensor,Controle_id,Tipo) VALUES ('V213432',last_insert_rowid(),'Tensao');\n",
        "INSERT INTO Maquinas(Maquina) VALUES ('Elevador 6234');\n",
        "INSERT INTO Controles(Controle, Maquina_id) VALUES ('CLP 126',last_insert_rowid());\n",
        "INSERT INTO Sensores(Sensor,Controle_id,Tipo) VALUES ('V65730',last_insert_rowid(),'Tensao');"
      ],
      "metadata": {
        "id": "SWd8Ehr1kPxE"
      },
      "execution_count": null,
      "outputs": []
    },
    {
      "cell_type": "code",
      "source": [
        "%sql SELECT * FROM Maquinas;"
      ],
      "metadata": {
        "id": "Xf1DQxaQqagH"
      },
      "execution_count": null,
      "outputs": []
    },
    {
      "cell_type": "code",
      "source": [
        "%sql SELECT * FROM Controles;"
      ],
      "metadata": {
        "id": "fJdHkii3mVzT"
      },
      "execution_count": null,
      "outputs": []
    },
    {
      "cell_type": "code",
      "source": [
        "%sql SELECT * FROM Sensores;"
      ],
      "metadata": {
        "id": "MuPQsDXqqGzV"
      },
      "execution_count": null,
      "outputs": []
    },
    {
      "cell_type": "markdown",
      "source": [
        "Atualizando as Máquinas pelo sensores de Tensão do sistema:"
      ],
      "metadata": {
        "id": "v5WOPI2XqogD"
      }
    },
    {
      "cell_type": "code",
      "source": [
        "%%sql\n",
        "UPDATE Maquinas SET Maquina = Maquina || \" - Atualizada\"\n",
        "  WHERE Maquina_id IN (\n",
        "    SELECT c.Maquina_id FROM Controles as c\n",
        "      INNER JOIN Sensores as s ON c.Controle_id = s.Controle_id\n",
        "      WHERE s.Tipo = \"Tensao\"\n",
        "  )"
      ],
      "metadata": {
        "id": "ptkxGOyKqhnm"
      },
      "execution_count": null,
      "outputs": []
    },
    {
      "cell_type": "code",
      "source": [
        "%sql SELECT * FROM Maquinas;"
      ],
      "metadata": {
        "id": "vfuY0OL5rQ66"
      },
      "execution_count": null,
      "outputs": []
    },
    {
      "cell_type": "markdown",
      "source": [
        "# Remover Dados"
      ],
      "metadata": {
        "id": "3A2ZiN1p0kVF"
      }
    },
    {
      "cell_type": "markdown",
      "source": [
        "\n",
        "\n",
        "```\n",
        "DELETE FROM <Tabela WHERE <campo> = <filtro>\n",
        "```\n",
        "\n"
      ],
      "metadata": {
        "id": "xSsyHLn50oWq"
      }
    },
    {
      "cell_type": "code",
      "source": [
        "%sql DELETE FROM Dispositivos2022 WHERE IdDispositivo = 19"
      ],
      "metadata": {
        "id": "pSKPxkOW0n36"
      },
      "execution_count": null,
      "outputs": []
    },
    {
      "cell_type": "code",
      "source": [
        "%sql SELECT * FROM Dispositivos2022"
      ],
      "metadata": {
        "id": "agbRXO9Hru6A"
      },
      "execution_count": null,
      "outputs": []
    },
    {
      "cell_type": "markdown",
      "source": [
        "## Utilizando campo de remoção"
      ],
      "metadata": {
        "id": "Gvq9n81E0tPd"
      }
    },
    {
      "cell_type": "code",
      "source": [
        "%%sql\n",
        "ALTER TABLE Dispositivos2022\n",
        "  ADD COLUMN Apagado DATETIME DEFAULT NULL"
      ],
      "metadata": {
        "id": "iqPiGvvI00SD"
      },
      "execution_count": null,
      "outputs": []
    },
    {
      "cell_type": "code",
      "source": [
        "%%sql\n",
        "UPDATE Dispositivos2022 SET Apagado = DATETIME('now')\n",
        "  WHERE IdDispositivo = 16"
      ],
      "metadata": {
        "id": "utBu4-V7ttOV"
      },
      "execution_count": null,
      "outputs": []
    },
    {
      "cell_type": "code",
      "source": [
        "%sql SELECT * FROM Dispositivos2022 WHERE Apagado IS NULL"
      ],
      "metadata": {
        "id": "Pqkvf8PLrqYG"
      },
      "execution_count": null,
      "outputs": []
    },
    {
      "cell_type": "code",
      "source": [
        "%sql SELECT * FROM Dispositivos2022"
      ],
      "metadata": {
        "id": "EBlCXGhqrziT"
      },
      "execution_count": null,
      "outputs": []
    },
    {
      "cell_type": "markdown",
      "source": [
        "# SQL TCL (*Transaction Control Language*)"
      ],
      "metadata": {
        "id": "xzIW4aQd31Kz"
      }
    },
    {
      "cell_type": "markdown",
      "source": [
        "Gestão do fluxo de informação da DML\n",
        "```\n",
        "BEGIN TRANSACTION;\n",
        "\n",
        "UPDATE ...\n",
        "UPDATE ...\n",
        "UPDATE ...\n",
        "UPDATE ...\n",
        "UPDATE ...\n",
        "UPDATE ...\n",
        "\n",
        "INSERT INTO ...\n",
        "INSERT INTO ...\n",
        "INSERT INTO ...\n",
        "INSERT INTO ...\n",
        "INSERT INTO ...\n",
        "INSERT INTO ...\n",
        "\n",
        "COMMIT;\n",
        "```"
      ],
      "metadata": {
        "id": "crf1ZP8J5kru"
      }
    },
    {
      "cell_type": "markdown",
      "source": [
        "\n",
        "\n",
        "```\n",
        "BEGIN TRANSACTION;\n",
        "\n",
        "...\n",
        "\n",
        "ROLLBACK;\n",
        "```\n",
        "\n"
      ],
      "metadata": {
        "id": "kZX3u5CF51Yw"
      }
    },
    {
      "cell_type": "markdown",
      "source": [
        "## Inserindo registros com envio individual"
      ],
      "metadata": {
        "id": "m5kdnZYYr-nz"
      }
    },
    {
      "cell_type": "code",
      "source": [
        "%%time\n",
        "import pandas as pd\n",
        "import sqlite3\n",
        "\n",
        "df = pd.read_csv('https://raw.githubusercontent.com/valerio-unifei/ECAA07/main/Bancos/tr2_8867.csv')\n",
        "print(f'Tabela linhas:{df.shape[0]} colunas:{df.shape[1]}')\n",
        "\n",
        "print('Abrindo/Criando banco')\n",
        "cn = sqlite3.Connection('tran_exemplo.db')\n",
        "\n",
        "print('Criando Tabela Medidas')\n",
        "cn.execute('DROP TABLE IF EXISTS Medidas')\n",
        "cn.execute('''CREATE TABLE Medidas (\n",
        "  Medidas_id INTEGER PRIMARY KEY AUTOINCREMENT,\n",
        "  Medida REAL,\n",
        "  Criado DATETIME DEFAULT CURRENT_TIMESTAMP)\n",
        "''')\n",
        "\n",
        "print('Inserindo Registros')\n",
        "for id, row in df.iterrows():\n",
        "  cn.execute('INSERT INTO Medidas(Medida) VALUES (?)',[row[3]])\n",
        "  cn.commit()\n",
        "\n",
        "print('Fecha o banco')\n",
        "cn.close()"
      ],
      "metadata": {
        "id": "iEPnphb1ubYP"
      },
      "execution_count": null,
      "outputs": []
    },
    {
      "cell_type": "markdown",
      "source": [
        "## Inserindo via Transação"
      ],
      "metadata": {
        "id": "H1rYAMKKxGg6"
      }
    },
    {
      "cell_type": "code",
      "source": [
        "%%time\n",
        "import pandas as pd\n",
        "import sqlite3\n",
        "\n",
        "df = pd.read_csv('https://raw.githubusercontent.com/valerio-unifei/ECAA07/main/Bancos/tr2_8867.csv')\n",
        "print(f'Tabela linhas:{df.shape[0]} colunas:{df.shape[1]}')\n",
        "\n",
        "print('Abrindo/Criando banco')\n",
        "cn = sqlite3.Connection('tran_exemplo.db')\n",
        "\n",
        "print('Criando Tabela Medidas')\n",
        "cn.execute('DROP TABLE IF EXISTS Medidas')\n",
        "cn.execute('''CREATE TABLE Medidas (\n",
        "  Medidas_id INTEGER PRIMARY KEY AUTOINCREMENT,\n",
        "  Medida REAL,\n",
        "  Criado DATETIME DEFAULT CURRENT_TIMESTAMP)\n",
        "''')\n",
        "\n",
        "print('Inserindo Registros')\n",
        "for id, row in df.iterrows():\n",
        "  cn.execute('INSERT INTO Medidas(Medida) VALUES (?)',[row[3]])\n",
        "# Transação só ocorre 1 vez para todos os registros\n",
        "cn.commit()\n",
        "\n",
        "print('Fecha o banco')\n",
        "cn.close()"
      ],
      "metadata": {
        "id": "YVapS4L4xJTz"
      },
      "execution_count": null,
      "outputs": []
    }
  ]
}