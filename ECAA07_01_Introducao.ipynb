{
  "nbformat": 4,
  "nbformat_minor": 0,
  "metadata": {
    "colab": {
      "provenance": [],
      "authorship_tag": "ABX9TyO7e5I0XWTkSrTPwgKCNv8n",
      "include_colab_link": true
    },
    "kernelspec": {
      "name": "python3",
      "display_name": "Python 3"
    },
    "language_info": {
      "name": "python"
    }
  },
  "cells": [
    {
      "cell_type": "markdown",
      "metadata": {
        "id": "view-in-github",
        "colab_type": "text"
      },
      "source": [
        "<a href=\"https://colab.research.google.com/github/valerio-unifei/ECAA07/blob/main/ECAA07_01_Introducao.ipynb\" target=\"_parent\"><img src=\"https://colab.research.google.com/assets/colab-badge.svg\" alt=\"Open In Colab\"/></a>"
      ]
    },
    {
      "cell_type": "markdown",
      "source": [
        "# Introdução a Banco de Dados"
      ],
      "metadata": {
        "id": "xDnImn9o7CeD"
      }
    },
    {
      "cell_type": "markdown",
      "source": [
        "## Baixando o Banco"
      ],
      "metadata": {
        "id": "wiW9jtLH7Nt6"
      }
    },
    {
      "cell_type": "code",
      "source": [
        "!wget https://github.com/valerio-unifei/ECAA07/raw/main/Bancos/ECAA07_xpi_minimo.db"
      ],
      "metadata": {
        "id": "NnZauc7E7QIt"
      },
      "execution_count": null,
      "outputs": []
    },
    {
      "cell_type": "markdown",
      "source": [
        "## Conectando o Banco"
      ],
      "metadata": {
        "id": "zzCAo2GK7USo"
      }
    },
    {
      "cell_type": "code",
      "execution_count": null,
      "metadata": {
        "id": "i5qPLunv6zeN"
      },
      "outputs": [],
      "source": [
        "%load_ext sql\n",
        "%sql sqlite:///ECAA07_xpi_minimo.db\n",
        "%config SqlMagic.autopandas=True"
      ]
    },
    {
      "cell_type": "markdown",
      "source": [
        "## Listando Conteúdo do Banco"
      ],
      "metadata": {
        "id": "T-XwEBW-7E9G"
      }
    },
    {
      "cell_type": "code",
      "source": [
        "%sql SELECT * FROM sqlite_master"
      ],
      "metadata": {
        "id": "dy6lTJFE7RUU"
      },
      "execution_count": null,
      "outputs": []
    },
    {
      "cell_type": "code",
      "source": [
        "%sql SELECT * FROM xpi_fundos"
      ],
      "metadata": {
        "id": "nt033gpsZs0V"
      },
      "execution_count": null,
      "outputs": []
    },
    {
      "cell_type": "code",
      "source": [
        "%sql SELECT COUNT(*) FROM xpi_fundos"
      ],
      "metadata": {
        "id": "1JmtMB1_ccsM"
      },
      "execution_count": null,
      "outputs": []
    },
    {
      "cell_type": "code",
      "source": [
        "%sql SELECT * FROM baixo_risco"
      ],
      "metadata": {
        "id": "AHOFyAEWcy5g"
      },
      "execution_count": null,
      "outputs": []
    }
  ]
}