{
  "nbformat": 4,
  "nbformat_minor": 0,
  "metadata": {
    "colab": {
      "provenance": [],
      "authorship_tag": "ABX9TyPjbBtTdbgRFe/YnxAJcdGp",
      "include_colab_link": true
    },
    "kernelspec": {
      "name": "python3",
      "display_name": "Python 3"
    },
    "language_info": {
      "name": "python"
    }
  },
  "cells": [
    {
      "cell_type": "markdown",
      "metadata": {
        "id": "view-in-github",
        "colab_type": "text"
      },
      "source": [
        "<a href=\"https://colab.research.google.com/github/valerio-unifei/ECAA07/blob/main/ECAA07_02_MagicSQL.ipynb\" target=\"_parent\"><img src=\"https://colab.research.google.com/assets/colab-badge.svg\" alt=\"Open In Colab\"/></a>"
      ]
    },
    {
      "cell_type": "markdown",
      "source": [
        "Ativando o Magic SQL do Notebook:"
      ],
      "metadata": {
        "id": "-xcI0wyEjE5Y"
      }
    },
    {
      "cell_type": "code",
      "source": [
        "%load_ext sql\n",
        "%sql sqlite:///ecaa07_02_magicsql.db"
      ],
      "metadata": {
        "id": "DrljQkyTRjdX"
      },
      "execution_count": null,
      "outputs": []
    },
    {
      "cell_type": "markdown",
      "source": [
        "# Linguagem SQL"
      ],
      "metadata": {
        "id": "-V6ZTUI7Q1mQ"
      }
    },
    {
      "cell_type": "markdown",
      "source": [
        "- Structured Query Language\n",
        " - Apelido: Sequel\n",
        "- Desenvolvida na IBM por Donald D. Chamberlin e Raymond F. Boyce em torno de 1970\n",
        "- Padronizada pela ANSI e ISO em 1986\n",
        "- Versões:\n",
        " - 1989, 1992, 1996, 1999, 2003, 2006, 2008, 2011 e 2016.\n"
      ],
      "metadata": {
        "id": "xkAhx0g9Q6po"
      }
    },
    {
      "cell_type": "markdown",
      "source": [
        "## Tipos de SQL"
      ],
      "metadata": {
        "id": "Gab8i8lHRB93"
      }
    },
    {
      "cell_type": "markdown",
      "source": [
        "- Linguagem de Definição de Dados (DDL)\n",
        " - Instruções de criação e modificação das estruturas do banco\n",
        "- Linguagem de Consulta de Dados (DQL)\n",
        "  - Instruções de consulta dos dados armazenados.\n",
        "- Linguagem de Manipulação de Dados (DML)\n",
        " - Instruções de inserção ou modificação dos dados armazenados\n",
        "- Linguagem de Controle de Dados (DCL)\n",
        " - Controle de acesso e permissões para usuários no banco\n",
        "- Linguagem de Controle de Transações (TCL)\n",
        " - Gestão do fluxo de informação da DML\n"
      ],
      "metadata": {
        "id": "lySsevDjRDgH"
      }
    },
    {
      "cell_type": "markdown",
      "source": [
        "# Criação de Tabelas"
      ],
      "metadata": {
        "id": "VIlh__lFRL5P"
      }
    },
    {
      "cell_type": "markdown",
      "source": [
        "- Tabela: Medidores\n",
        "- Campos:\n",
        " - id_medidor: inteiro, auto incremento\n",
        " - medidor: texto, obrigatório\n",
        " - unidade: texto\n",
        " - instalado: data hora\n",
        " - valor máximo: número"
      ],
      "metadata": {
        "id": "BqDGkmiHRPXS"
      }
    },
    {
      "cell_type": "markdown",
      "source": [
        "## Tipo de Campo"
      ],
      "metadata": {
        "id": "dlp3CP4YRt9_"
      }
    },
    {
      "cell_type": "markdown",
      "source": [
        "- Texto\n",
        "- Inteiro\n",
        "- Boleano\n",
        "- Fraçoes\n",
        "- Datas e Horários\n",
        "- Objetos\n"
      ],
      "metadata": {
        "id": "C5P42x83SELo"
      }
    },
    {
      "cell_type": "markdown",
      "source": [
        "## Atributos"
      ],
      "metadata": {
        "id": "uVGyhhvbSik3"
      }
    },
    {
      "cell_type": "markdown",
      "source": [
        "- VALUE: Armazena dado do campo\n",
        "- ISNULLABLE: permite armazenar NULL\n",
        "- DEFAULTVALU: valor inicial do campo\n",
        "- RULE: Regra de inserção do valor\n",
        "- PRIMARY KEY: Coluna é chave primária\n",
        "- FOREIGN KEY: Coluna é chave em outra tabela\n",
        "- AUTOINCREMENT: ++ para cada nova linha\n",
        "- UNIQUE: permite apenas valores sem repetição na tabela"
      ],
      "metadata": {
        "id": "5BQ47lp0SlIH"
      }
    },
    {
      "cell_type": "markdown",
      "source": [
        "## Exemplo"
      ],
      "metadata": {
        "id": "G_JRIx1nS04f"
      }
    },
    {
      "cell_type": "markdown",
      "source": [
        "SQL para criação de tabela no SQLite:"
      ],
      "metadata": {
        "id": "sDQjIZ3Hw8TI"
      }
    },
    {
      "cell_type": "code",
      "source": [
        "%%sql\n",
        "CREATE TABLE Alunos (\n",
        "    IdAluno    INTEGER      PRIMARY KEY AUTOINCREMENT,\n",
        "    Aluno      VARCHAR(255) NOT NULL,\n",
        "    CPF        VARCHAR(15)  NOT NULL UNIQUE,\n",
        "    Nascimento DATETIME,\n",
        "    Matricula  INTEGER UNIQUE);"
      ],
      "metadata": {
        "id": "uLMrp6j6Sg-Q"
      },
      "execution_count": null,
      "outputs": []
    },
    {
      "cell_type": "markdown",
      "source": [
        "Crie uma tabela com esses dados:\n",
        "\n",
        "| Produto | Quantidade | Peso | Telefone | Recebimento |\n",
        "|:---:|:---:|:---:|:---:|:---:|\n",
        "| Sapato | 12 | 0,234 | (11) 3452-3454 | 10/04/2018 |\n",
        "| Bolsa | 45 | 1,020 | (31) 4325-7684 | 22/08/2017 |\n",
        "| Boné | 77 | 0,353 | (11) 3452-3454 | 09/12/2019 |"
      ],
      "metadata": {
        "id": "H2AeWWeVTGEu"
      }
    },
    {
      "cell_type": "code",
      "source": [],
      "metadata": {
        "id": "0WampBdzTXnm"
      },
      "execution_count": null,
      "outputs": []
    },
    {
      "cell_type": "markdown",
      "source": [
        "# Atividade"
      ],
      "metadata": {
        "id": "DaP0q2wyi1N4"
      }
    },
    {
      "cell_type": "markdown",
      "source": [
        "Em Magic SQL do Jupyter Notebook implemente o código da apresentação:\n",
        "\n",
        "[Aula 2 Slides](https://docs.google.com/presentation/d/e/2PACX-1vTlK1MoGFeGbP7rQ7uEpiXn8pHqw_EJS8Vl-H_-7m51BM7MusQRK8mmsoGK_UNzfGpdFaXzvcIvBd_X/pub?start=false&loop=false&delayms=3000)"
      ],
      "metadata": {
        "id": "ZA9IIl7_i3Nn"
      }
    },
    {
      "cell_type": "code",
      "source": [],
      "metadata": {
        "id": "d9Y6Xuz4i2wH"
      },
      "execution_count": null,
      "outputs": []
    }
  ]
}