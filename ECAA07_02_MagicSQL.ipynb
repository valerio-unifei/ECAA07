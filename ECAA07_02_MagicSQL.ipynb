{
  "nbformat": 4,
  "nbformat_minor": 0,
  "metadata": {
    "colab": {
      "provenance": [],
      "authorship_tag": "ABX9TyOwZJ0M7K/G9gw7K0JIJRlx",
      "include_colab_link": true
    },
    "kernelspec": {
      "name": "python3",
      "display_name": "Python 3"
    },
    "language_info": {
      "name": "python"
    }
  },
  "cells": [
    {
      "cell_type": "markdown",
      "metadata": {
        "id": "view-in-github",
        "colab_type": "text"
      },
      "source": [
        "<a href=\"https://colab.research.google.com/github/valerio-unifei/ECAA07/blob/main/ECAA07_02_MagicSQL.ipynb\" target=\"_parent\"><img src=\"https://colab.research.google.com/assets/colab-badge.svg\" alt=\"Open In Colab\"/></a>"
      ]
    },
    {
      "cell_type": "markdown",
      "source": [
        "# Linguagem SQL"
      ],
      "metadata": {
        "id": "-V6ZTUI7Q1mQ"
      }
    },
    {
      "cell_type": "markdown",
      "source": [
        "- Structured Query Language\n",
        " - Apelido: Sequel\n",
        "- Desenvolvida na IBM por Donald D. Chamberlin e Raymond F. Boyce em torno de 1970\n",
        "- Padronizada pela ANSI e ISO em 1986\n",
        "- Versões:\n",
        " - 1989, 1992, 1996, 1999, 2003, 2006, 2008, 2011 e 2016.\n"
      ],
      "metadata": {
        "id": "xkAhx0g9Q6po"
      }
    },
    {
      "cell_type": "markdown",
      "source": [
        "## Tipos de SQL"
      ],
      "metadata": {
        "id": "Gab8i8lHRB93"
      }
    },
    {
      "cell_type": "markdown",
      "source": [
        "- Linguagem de Definição de Dados (DDL)\n",
        " - Instruções de criação e modificação das estruturas do banco\n",
        "- Linguagem de Consulta de Dados (DQL)\n",
        "  - Instruções de consulta dos dados armazenados.\n",
        "- Linguagem de Manipulação de Dados (DML)\n",
        " - Instruções de inserção ou modificação dos dados armazenados\n",
        "- Linguagem de Controle de Dados (DCL)\n",
        " - Controle de acesso e permissões para usuários no banco\n",
        "- Linguagem de Controle de Transações (TCL)\n",
        " - Gestão do fluxo de informação da DML\n"
      ],
      "metadata": {
        "id": "lySsevDjRDgH"
      }
    },
    {
      "cell_type": "markdown",
      "source": [
        "## Exemplo"
      ],
      "metadata": {
        "id": "G_JRIx1nS04f"
      }
    },
    {
      "cell_type": "markdown",
      "source": [
        "Ativando o Magic SQL do Notebook:"
      ],
      "metadata": {
        "id": "-xcI0wyEjE5Y"
      }
    },
    {
      "cell_type": "code",
      "source": [
        "%load_ext sql\n",
        "%sql sqlite:///ecaa07_02_magicsql.db\n",
        "%config SqlMagic.autopandas=True"
      ],
      "metadata": {
        "id": "DrljQkyTRjdX"
      },
      "execution_count": null,
      "outputs": []
    },
    {
      "cell_type": "markdown",
      "source": [
        "SQL para criação de tabela no SQLite (DDL):"
      ],
      "metadata": {
        "id": "sDQjIZ3Hw8TI"
      }
    },
    {
      "cell_type": "code",
      "source": [
        "%sql DROP TABLE Alunos"
      ],
      "metadata": {
        "id": "hUGrXO3fq3KZ"
      },
      "execution_count": null,
      "outputs": []
    },
    {
      "cell_type": "code",
      "source": [
        "%%sql\n",
        "CREATE TABLE Alunos (\n",
        "    IdAluno    INTEGER      PRIMARY KEY AUTOINCREMENT,\n",
        "    Aluno      VARCHAR(255) NOT NULL,\n",
        "    CPF        VARCHAR(15)  NOT NULL UNIQUE,\n",
        "    Nascimento DATETIME,\n",
        "    Matricula  INTEGER UNIQUE);"
      ],
      "metadata": {
        "id": "uLMrp6j6Sg-Q"
      },
      "execution_count": null,
      "outputs": []
    },
    {
      "cell_type": "markdown",
      "source": [
        "SQL para preenchimento de alunos (DML):"
      ],
      "metadata": {
        "id": "afl8ZqSigEEg"
      }
    },
    {
      "cell_type": "code",
      "source": [
        "%sql INSERT INTO Alunos (Aluno, CPF) VALUES ('Sigimundo Pinpinela','987.654.321-00');"
      ],
      "metadata": {
        "id": "0WampBdzTXnm"
      },
      "execution_count": null,
      "outputs": []
    },
    {
      "cell_type": "code",
      "source": [
        "%sql INSERT INTO Alunos (Aluno, CPF, Nascimento, Matricula) VALUES ('Jupiter Natalino','654.987.321-01','2001-07-12',2021000123);"
      ],
      "metadata": {
        "id": "y83CNlvKgYbg"
      },
      "execution_count": null,
      "outputs": []
    },
    {
      "cell_type": "markdown",
      "source": [
        "SQL para consulta dos alunos (DQL):"
      ],
      "metadata": {
        "id": "d3nCJvqUgu2h"
      }
    },
    {
      "cell_type": "code",
      "source": [
        "%sql SELECT * FROM Alunos"
      ],
      "metadata": {
        "id": "sKA2ZAaFg3FC"
      },
      "execution_count": null,
      "outputs": []
    },
    {
      "cell_type": "markdown",
      "source": [
        "# Atividade"
      ],
      "metadata": {
        "id": "DaP0q2wyi1N4"
      }
    },
    {
      "cell_type": "markdown",
      "source": [
        "Em Magic SQL do Jupyter Notebook implemente o código da apresentação:\n",
        "\n",
        "[Aula 2 Slides](https://docs.google.com/presentation/d/e/2PACX-1vTlK1MoGFeGbP7rQ7uEpiXn8pHqw_EJS8Vl-H_-7m51BM7MusQRK8mmsoGK_UNzfGpdFaXzvcIvBd_X/pub?start=false&loop=false&delayms=3000)"
      ],
      "metadata": {
        "id": "ZA9IIl7_i3Nn"
      }
    },
    {
      "cell_type": "code",
      "source": [],
      "metadata": {
        "id": "d9Y6Xuz4i2wH"
      },
      "execution_count": null,
      "outputs": []
    }
  ]
}