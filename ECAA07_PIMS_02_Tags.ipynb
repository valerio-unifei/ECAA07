{
  "nbformat": 4,
  "nbformat_minor": 0,
  "metadata": {
    "colab": {
      "name": "ECAA07 PIMS 02 Tags.ipynb",
      "provenance": [],
      "authorship_tag": "ABX9TyNp2kqJ5x7euteoVmHt57zI",
      "include_colab_link": true
    },
    "kernelspec": {
      "name": "python3",
      "display_name": "Python 3"
    },
    "language_info": {
      "name": "python"
    }
  },
  "cells": [
    {
      "cell_type": "markdown",
      "metadata": {
        "id": "view-in-github",
        "colab_type": "text"
      },
      "source": [
        "<a href=\"https://colab.research.google.com/github/valerio-unifei/ECAA07/blob/main/ECAA07_PIMS_02_Tags.ipynb\" target=\"_parent\"><img src=\"https://colab.research.google.com/assets/colab-badge.svg\" alt=\"Open In Colab\"/></a>"
      ]
    },
    {
      "cell_type": "markdown",
      "metadata": {
        "id": "c2vKYDo-hn5Q"
      },
      "source": [
        "#PIMS 02 - TAGs"
      ]
    },
    {
      "cell_type": "markdown",
      "metadata": {
        "id": "yEIfyfyCdr5N"
      },
      "source": [
        "## Baixando Arquivos da Aplicação"
      ]
    },
    {
      "cell_type": "code",
      "metadata": {
        "id": "Xidw7U3Jc8Ec"
      },
      "source": [
        "!wget https://github.com/valerio-unifei/ECAA07/raw/main/Bancos/ECAA07-PIMS2.zip -O ECAA07-PIMS2.zip\n",
        "!unzip ECAA07-PIMS2.zip"
      ],
      "execution_count": null,
      "outputs": []
    },
    {
      "cell_type": "markdown",
      "metadata": {
        "id": "x53CtsMoeF08"
      },
      "source": [
        "\n",
        "Estrutura do PIMS\n",
        "*   templates - pasta com modelos das páginas da aplicação Web\n",
        "*   PIMS_UNIFEI.py - código fonte com detalhes apresentados na aula passada\n",
        "*   fabrica1.csv - Arquivo CSV com TAGs a serem importados na aplicação\n",
        "\n"
      ]
    },
    {
      "cell_type": "markdown",
      "metadata": {
        "id": "i9-aZyPXemMR"
      },
      "source": [
        "## Bibliotecas"
      ]
    },
    {
      "cell_type": "code",
      "metadata": {
        "id": "3g5YMsBgeus7"
      },
      "source": [
        "!pip install flask flask-sqlalchemy flask-login flask_ngrok"
      ],
      "execution_count": null,
      "outputs": []
    },
    {
      "cell_type": "code",
      "metadata": {
        "id": "ol0see0Se6bw"
      },
      "source": [
        "from flask import Flask # classe de aplicação web em flask\n",
        "from flask import render_template # utiliza modelos em páginas web\n",
        "from flask import redirect # redireciona o navegador para outra url\n",
        "from flask import url_for # gera a url de uma rota do flask\n",
        "from flask import request # coleta as variáveis passadas pelo navegador\n",
        "from flask import flash # envia um valor de retorno para o conteúdo da página\n",
        "from werkzeug.security import generate_password_hash # gera um hash criptografado de uma senha\n",
        "from werkzeug.security import check_password_hash # compara hashs de senha atual e gravada\n",
        "from flask_sqlalchemy import SQLAlchemy # classe getora de banco de dados \n",
        "from flask_login import UserMixin # modelo de usuário para login\n",
        "from flask_login import LoginManager # classe gerenciadora de login para automação\n",
        "from flask_login import login_required # indica rotas que necessitam de login para entrar\n",
        "from flask_login import login_user # grava o usuário que logou na sessão\n",
        "from flask_login import current_user # obtem usuário logado na sessão\n",
        "from flask_login import logout_user # apaga usuário logado da sessão\n",
        "from os import urandom # gerador de código aleatório para chave de segurança\n",
        "from datetime import datetime # data e hora\n",
        "from flask_ngrok import run_with_ngrok"
      ],
      "execution_count": 3,
      "outputs": []
    },
    {
      "cell_type": "markdown",
      "metadata": {
        "id": "ZotAXFijmKqW"
      },
      "source": [
        "## Código da Aula Anterior Melhorado"
      ]
    },
    {
      "cell_type": "code",
      "metadata": {
        "id": "sa9eA5RCmOy7"
      },
      "source": [
        "# cria a aplicação web e pasta com modelos de páginas\n",
        "app = Flask('PIMS UNIFEI', template_folder='templates')\n",
        "# chave única do site para assinatura dos cookies\n",
        "app.config['SECRET_KEY'] = urandom(12)\n",
        "\n",
        "# gerenciamento de banco de dados\n",
        "db = SQLAlchemy()\n",
        "# indica banco de dados da aplicação em sqlite3\n",
        "app.config['SQLALCHEMY_DATABASE_URI'] = 'sqlite:///pims.db'\n",
        "app.config['SQLALCHEMY_TRACK_MODIFICATIONS'] = False # tira notificações do db\n",
        "#conecta gerenciador de banco na aplicação\n",
        "db.init_app(app)\n",
        "\n",
        "# modelo para objeto usuário no banco\n",
        "class Usuario(UserMixin, db.Model):\n",
        "  id = db.Column(db.Integer, primary_key=True)\n",
        "  usuario = db.Column(db.String(255))\n",
        "  email = db.Column(db.String(150), unique=True)\n",
        "  senha = db.Column(db.String(300))\n",
        "  criado = db.Column(db.DateTime)\n",
        "  \n",
        "# gestão de login automatizada\n",
        "login_manager = LoginManager()\n",
        "login_manager.login_view = 'login'\n",
        "login_manager.init_app(app)\n",
        "\n",
        "@login_manager.user_loader\n",
        "def load_user(usuario_id):\n",
        "  # guarda a chave primária do usuário após login\n",
        "  return Usuario.query.get(int(usuario_id))\n",
        "\n",
        "@app.route('/')\n",
        "def index():\n",
        "    return render_template('index.html')\n",
        "\n",
        "@app.route('/login')\n",
        "def login():\n",
        "    return render_template('login.html')\n",
        "\n",
        "@app.route('/signup')\n",
        "def signup():\n",
        "    return render_template('signup.html')\n",
        "    \n",
        "@app.route('/signup', methods=['POST'])\n",
        "def signup_post():\n",
        "    email = request.form.get('email')\n",
        "    usuario = request.form.get('name')\n",
        "    senha = request.form.get('password')\n",
        "    # verifica se o usuário já existe no banco\n",
        "    user = Usuario.query.filter_by(email = email).first() \n",
        "    # se existe rediciona a criação para tentar novamente com outro usuário\n",
        "    if user:\n",
        "        flash('E-mail de usuário já existe no site')\n",
        "        return redirect(url_for('signup'))\n",
        "    # montando dados do usuário para salvar no banco\n",
        "    new_user = Usuario(\n",
        "        email = email, \n",
        "        usuario = usuario, \n",
        "        senha = generate_password_hash(senha, method='sha256'),\n",
        "        criado = datetime.now(),\n",
        "        )\n",
        "    #  inserindo o usuário no banco de dados\n",
        "    db.session.add(new_user)\n",
        "    db.session.commit()\n",
        "    return redirect(url_for('login'))\n",
        "\n",
        "@app.route('/login', methods=['POST'])\n",
        "def login_post():\n",
        "    email = request.form.get('email')\n",
        "    senha = request.form.get('password')\n",
        "    remember = True if request.form.get('Lembre-me') else False\n",
        "    user = Usuario.query.filter_by(email=email).first()\n",
        "    # se usuário ou hash da senha não são iguais ao do banco\n",
        "    if not user or not check_password_hash(user.senha, senha):\n",
        "        flash('Usuário ou senha incorretos')\n",
        "        return redirect(url_for('login'))\n",
        "    #cadastra usuário na memória da sessão\n",
        "    login_user(user, remember=remember)\n",
        "    # se tudo ok, redireciona a página principal\n",
        "    return redirect(url_for('profile'))\n",
        "\n",
        "@app.route('/profile')\n",
        "@login_required # proteção de entrada com login\n",
        "def profile():\n",
        "    # redireciona a página do usuário com \n",
        "    return render_template('profile.html', user = current_user)\n",
        "\n",
        "@app.route('/logout')\n",
        "@login_required # proteção de entrada com login\n",
        "def logout():\n",
        "    # descadastra usuário da memória\n",
        "    logout_user() \n",
        "    # rediciona a página inicial da aplicação\n",
        "    return redirect(url_for('index'))\n",
        "\n",
        "app.url_map"
      ],
      "execution_count": 4,
      "outputs": []
    },
    {
      "cell_type": "markdown",
      "metadata": {
        "id": "zTUz31tMfS9d"
      },
      "source": [
        "## Novas Tabelas do Banco de Dados"
      ]
    },
    {
      "cell_type": "code",
      "metadata": {
        "id": "nOVJGbyBfVWe"
      },
      "source": [
        "# modelo de registro para um tag de entrada ou saída\n",
        "class Tag(db.Model):\n",
        "  id = db.Column(db.Integer, primary_key=True)\n",
        "  nome = db.Column(db.String(50))\n",
        "  criado = db.Column(db.DateTime)\n",
        "  ativo = db.Column(db.Boolean)\n",
        "  medidas = db.relationship('Medida', backref='tag', lazy=True)\n",
        "\n",
        "# modelo de registro para uma medida realizada no tag\n",
        "class Medida(db.Model):\n",
        "  id = db.Column(db.Integer, primary_key=True)\n",
        "  instante = db.Column(db.DateTime)\n",
        "  valor = db.Column(db.Float)\n",
        "  tag_id = db.Column(db.Integer, db.ForeignKey('tag.id'),nullable=False)\n",
        "\n",
        "# cria banco\n",
        "with app.app_context():\n",
        "  db.create_all()"
      ],
      "execution_count": 5,
      "outputs": []
    },
    {
      "cell_type": "markdown",
      "metadata": {
        "id": "SCajD7y9fcIr"
      },
      "source": [
        "## Rotas para Tabela e Gráficos da Aplicação"
      ]
    },
    {
      "cell_type": "code",
      "metadata": {
        "id": "ZfXRjLirfgXi"
      },
      "source": [
        "@app.route('/tabela')\n",
        "@login_required\n",
        "def tabela():\n",
        "  tags = Tag.query.all()\n",
        "  return render_template('tabela.html',tags=tags)\n",
        "\n",
        "@app.route('/grafico/<tag_id>')\n",
        "@login_required\n",
        "def grafico(tag_id):\n",
        "  \n",
        "    tag_sel = Tag.query.filter_by(id=tag_id).first()\n",
        "    medidas = Medida.query.filter_by(tag_id=tag_id).all()\n",
        "\n",
        "    dados = [m.valor for m in medidas]\n",
        "    nomes = [m.instante.strftime('%Y-%m-%d %H:%M:%S') for m in medidas]\n",
        "\n",
        "    return render_template('grafico.html',\n",
        "      data=dados,\n",
        "      labels=nomes,\n",
        "      title=tag_sel.nome,\n",
        "      )\n",
        "\n",
        "app.url_map"
      ],
      "execution_count": null,
      "outputs": []
    },
    {
      "cell_type": "markdown",
      "metadata": {
        "id": "AxMIExYbfoHG"
      },
      "source": [
        "## Importando Arquivo CSV"
      ]
    },
    {
      "cell_type": "code",
      "metadata": {
        "id": "CKJ6XpBVfxIR"
      },
      "source": [
        "import pandas as pd\n",
        "# Lendo arquivo CSV\n",
        "fabrica = pd.read_csv('fabrica1.csv', index_col=0).drop(['machine_status'], axis=1)\n",
        "#converte coluna texto para data-hora\n",
        "fabrica[fabrica.columns[0]] = pd.to_datetime(fabrica[fabrica.columns[0]])\n",
        "\n",
        "fabrica.head()"
      ],
      "execution_count": null,
      "outputs": []
    },
    {
      "cell_type": "code",
      "metadata": {
        "id": "E19_bG_Qf-_r"
      },
      "source": [
        "#executa no contexto da aplicação\n",
        "with app.app_context():\n",
        "  #verifica se não existe registros\n",
        "  if Tag.query.count() == 0:\n",
        "\n",
        "    for i in range(1,len(fabrica.columns)):\n",
        "      nome = fabrica.columns[i]\n",
        "      print('Importanto TAG:',nome)\n",
        "      # insere nome das colunas como tags\n",
        "      ntag = Tag(\n",
        "        nome = nome,\n",
        "        criado = datetime.now(),\n",
        "        ativo = True,\n",
        "        )\n",
        "      db.session.add(ntag)\n",
        "      db.session.commit()\n",
        "\n",
        "      for k, row in fabrica.iterrows():\n",
        "        # insere medidas\n",
        "        med = Medida(\n",
        "          tag_id = ntag.id, #chave primária do tag\n",
        "          instante = row['timestamp'],\n",
        "          valor = row[fabrica.columns[i]],\n",
        "          )\n",
        "        db.session.add(med)\n",
        "    db.session.commit()\n",
        "  else:\n",
        "    print('Os tags já foram importados.')"
      ],
      "execution_count": null,
      "outputs": []
    },
    {
      "cell_type": "markdown",
      "metadata": {
        "id": "ogyuOJRYgGrG"
      },
      "source": [
        "## Executa Aplicação Web"
      ]
    },
    {
      "cell_type": "code",
      "metadata": {
        "id": "aQ9ZiQVOgLw9"
      },
      "source": [
        "run_with_ngrok(app)\n",
        "app.run()"
      ],
      "execution_count": null,
      "outputs": []
    }
  ]
}