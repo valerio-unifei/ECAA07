{
  "nbformat": 4,
  "nbformat_minor": 0,
  "metadata": {
    "colab": {
      "name": "ECAA07 - TRS - Planta de Flotação.ipynb",
      "provenance": [],
      "authorship_tag": "ABX9TyPoIl4GMG2rGwBJI2Ce/dGC",
      "include_colab_link": true
    },
    "kernelspec": {
      "name": "python3",
      "display_name": "Python 3"
    },
    "language_info": {
      "name": "python"
    }
  },
  "cells": [
    {
      "cell_type": "markdown",
      "metadata": {
        "id": "view-in-github",
        "colab_type": "text"
      },
      "source": [
        "<a href=\"https://colab.research.google.com/github/valerio-unifei/ECAA07/blob/main/ECAA07_TRS_Planta_de_Flota%C3%A7%C3%A3o.ipynb\" target=\"_parent\"><img src=\"https://colab.research.google.com/assets/colab-badge.svg\" alt=\"Open In Colab\"/></a>"
      ]
    },
    {
      "cell_type": "markdown",
      "source": [
        "# Identificação do Aluno para Correção"
      ],
      "metadata": {
        "id": "k1MYJS26Ztel"
      }
    },
    {
      "cell_type": "markdown",
      "source": [
        "Nome: Carlos Henrique Valério de Moraes (Professor)\n",
        "\n",
        "Matrícula: 8867"
      ],
      "metadata": {
        "id": "27mpyX-hZi1y"
      }
    },
    {
      "cell_type": "markdown",
      "source": [
        "# Base de Dados"
      ],
      "metadata": {
        "id": "IPqnGjKmBjEL"
      }
    },
    {
      "cell_type": "code",
      "execution_count": null,
      "metadata": {
        "id": "OsifpebGBJFL"
      },
      "outputs": [],
      "source": [
        "!wget https://github.com/valerio-unifei/ECAA07/raw/main/Bancos/ecaa07_trs.db -O ecaa07_trs.db"
      ]
    },
    {
      "cell_type": "markdown",
      "source": [
        "## Bibliotecas"
      ],
      "metadata": {
        "id": "Jy0QF0N2SOj1"
      }
    },
    {
      "cell_type": "code",
      "source": [
        "import pandas as pd\n",
        "import matplotlib.pyplot as plt\n",
        "plt.rcParams[\"figure.figsize\"] = (15,10)"
      ],
      "metadata": {
        "id": "MRXEcZ6NSN7I"
      },
      "execution_count": null,
      "outputs": []
    },
    {
      "cell_type": "markdown",
      "source": [
        "## Carregando Banco SQLite no Notebook"
      ],
      "metadata": {
        "id": "FTmRA0gXOFXo"
      }
    },
    {
      "cell_type": "code",
      "source": [
        "%load_ext sql\n",
        "%config SqlMagic.feedback=False\n",
        "%config SqlMagic.autopandas=True\n",
        "%sql sqlite:////content/ecaa07_trs.db"
      ],
      "metadata": {
        "id": "9dwF_DhDOE58"
      },
      "execution_count": null,
      "outputs": []
    },
    {
      "cell_type": "markdown",
      "source": [
        "# Tabela Medidas"
      ],
      "metadata": {
        "id": "BnkeoI0qONDm"
      }
    },
    {
      "cell_type": "code",
      "source": [
        "%sql SELECT * FROM medidas"
      ],
      "metadata": {
        "id": "x9KQZLw_OMcT"
      },
      "execution_count": null,
      "outputs": []
    },
    {
      "cell_type": "markdown",
      "source": [
        "# PERGUNTAS"
      ],
      "metadata": {
        "id": "1Fb_uM-WOatu"
      }
    },
    {
      "cell_type": "markdown",
      "source": [
        "## Pergunta 1 - Quais foram os 10 instantes e valores com os maiores  \"ironConcentrade\"?"
      ],
      "metadata": {
        "id": "jMQvqHYhOcn9"
      }
    },
    {
      "cell_type": "code",
      "source": [
        "%%sql res1 <<\n",
        "  SELECT timespan, ironConcentrade \n",
        "  FROM medidas \n",
        "  ORDER BY ironConcentrade DESC \n",
        "  limit 10"
      ],
      "metadata": {
        "id": "oQtCqSVMOen6"
      },
      "execution_count": null,
      "outputs": []
    },
    {
      "cell_type": "code",
      "source": [
        "res1"
      ],
      "metadata": {
        "id": "U3mSsjlJRUmq"
      },
      "execution_count": null,
      "outputs": []
    },
    {
      "cell_type": "code",
      "source": [
        "res1.plot(x='timeSpan', y='ironConcentrade', kind='bar', title='10 Maiores Valore de IronConcentrade', xlabel='Horários',ylabel='Concentração %')"
      ],
      "metadata": {
        "id": "QWmmXPRQRqAM"
      },
      "execution_count": null,
      "outputs": []
    },
    {
      "cell_type": "markdown",
      "source": [
        "## Pergunta 2 - Qual é a curva mensal média do \"orePulpFlow\"?"
      ],
      "metadata": {
        "id": "cFN5way6S5Xa"
      }
    },
    {
      "cell_type": "code",
      "source": [
        "%%sql res2 <<\n",
        "  SELECT strftime('%Y-%m',timespan) as AnoMes , AVG(orePulpFlow) as opfm\n",
        "  FROM medidas\n",
        "  GROUP BY strftime('%Y-%m',timespan)\n",
        "  ORDER BY AnoMes"
      ],
      "metadata": {
        "id": "lJVM1LbzTk2b"
      },
      "execution_count": null,
      "outputs": []
    },
    {
      "cell_type": "code",
      "source": [
        "res2"
      ],
      "metadata": {
        "id": "QPA6o03FUP6m"
      },
      "execution_count": null,
      "outputs": []
    },
    {
      "cell_type": "code",
      "source": [
        "res2.plot(x='AnoMes', y='opfm', kind='line', title='Curva Mensal Média do orePulpFlow', xlabel='Meses',ylabel='Ore Pulp Flow Médio', legend=False)"
      ],
      "metadata": {
        "id": "z7VK-9xpUVUm"
      },
      "execution_count": null,
      "outputs": []
    },
    {
      "cell_type": "markdown",
      "source": [
        "## Pergunta 3 - Qual a variação horária média (h2 - h1) do level03 no mês 05 de 2017? "
      ],
      "metadata": {
        "id": "6CmVtiVYUrua"
      }
    },
    {
      "cell_type": "code",
      "source": [
        "%%sql res3 <<\n",
        "  SELECT strftime('%H',m1.timespan) as Hora , AVG(m2.level03 - m1.level03) as level03\n",
        "  FROM medidas as m1\n",
        "    INNER JOIN medidas as m2 ON m1.id = m2.id+1\n",
        "  WHERE strftime('%Y-%m',m1.timespan) = '2017-05'\n",
        "  GROUP BY strftime('%H',m1.timespan)\n",
        "  ORDER BY strftime('%H',m1.timespan)"
      ],
      "metadata": {
        "id": "ha6U3x2GV7-s"
      },
      "execution_count": null,
      "outputs": []
    },
    {
      "cell_type": "code",
      "source": [
        "res3"
      ],
      "metadata": {
        "id": "Nd7TYcvZWq-k"
      },
      "execution_count": null,
      "outputs": []
    },
    {
      "cell_type": "code",
      "source": [
        "res3.plot(x='Hora', y='level03', kind='line', title='Variação Horária Média do Level 03 em 2017-05', xlabel='Horas',ylabel='Level 03 Horário Médio', legend=False)"
      ],
      "metadata": {
        "id": "NH-HhInxWuQ9"
      },
      "execution_count": null,
      "outputs": []
    },
    {
      "cell_type": "markdown",
      "source": [
        "## Pergunta 4 - Qual é o máximo horário para orePulpPH e airFlow06 nas Quintas-Feiras?"
      ],
      "metadata": {
        "id": "_QvuonrFXQJD"
      }
    },
    {
      "cell_type": "code",
      "source": [
        "%%sql res4 <<\n",
        "  SELECT strftime('%H',timespan) as Hora , MAX(orePulpPH) as MaxOrePulpPH, MAX(airFlow06) as MaxAirFlow06\n",
        "  FROM medidas\n",
        "  WHERE strftime('%w',timespan) = '4'\n",
        "  GROUP BY strftime('%H',timespan)\n",
        "  ORDER BY strftime('%H',timespan)"
      ],
      "metadata": {
        "id": "8xdvcOtFXk8w"
      },
      "execution_count": null,
      "outputs": []
    },
    {
      "cell_type": "code",
      "source": [
        "res4"
      ],
      "metadata": {
        "id": "ine_3wfTYXC8"
      },
      "execution_count": null,
      "outputs": []
    },
    {
      "cell_type": "code",
      "source": [
        "res4.plot(x='Hora', y=['MaxOrePulpPH','MaxAirFlow06'], \n",
        "          kind='line', \n",
        "          title='Máximo Horário para OrePulpPH e AirFlow06 nas Quintas-Feiras', \n",
        "          xlabel='Horas',\n",
        "          ylabel='Máximo Ore Pulp PH e Máximo Air Flow 06 (direita)',\n",
        "          secondary_y='MaxAirFlow06',\n",
        "          )"
      ],
      "metadata": {
        "id": "YClIs2FdYpgY"
      },
      "execution_count": null,
      "outputs": []
    }
  ]
}